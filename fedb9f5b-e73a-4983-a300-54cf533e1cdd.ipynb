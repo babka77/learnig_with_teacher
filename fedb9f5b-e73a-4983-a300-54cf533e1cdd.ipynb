{
 "cells": [
  {
   "cell_type": "markdown",
   "metadata": {
    "toc": true
   },
   "source": [
    "<h1>Содержание<span class=\"tocSkip\"></span></h1>\n",
    "<div class=\"toc\"><ul class=\"toc-item\"><li><span><a href=\"#Подготовка-данных\" data-toc-modified-id=\"Подготовка-данных-1\"><span class=\"toc-item-num\">1&nbsp;&nbsp;</span>Подготовка данных</a></span></li><li><span><a href=\"#Исследование-задачи\" data-toc-modified-id=\"Исследование-задачи-2\"><span class=\"toc-item-num\">2&nbsp;&nbsp;</span>Исследование задачи</a></span><ul class=\"toc-item\"><li><ul class=\"toc-item\"><li><ul class=\"toc-item\"><li><span><a href=\"#основные-функции\" data-toc-modified-id=\"основные-функции-2.0.0.1\"><span class=\"toc-item-num\">2.0.0.1&nbsp;&nbsp;</span>основные функции</a></span></li></ul></li></ul></li><li><span><a href=\"#Random-forest\" data-toc-modified-id=\"Random-forest-2.1\"><span class=\"toc-item-num\">2.1&nbsp;&nbsp;</span>Random forest</a></span></li><li><span><a href=\"#Tree-classifier\" data-toc-modified-id=\"Tree-classifier-2.2\"><span class=\"toc-item-num\">2.2&nbsp;&nbsp;</span>Tree classifier</a></span></li><li><span><a href=\"#Logistic-Regression\" data-toc-modified-id=\"Logistic-Regression-2.3\"><span class=\"toc-item-num\">2.3&nbsp;&nbsp;</span>Logistic Regression</a></span></li></ul></li><li><span><a href=\"#Борьба-с-дисбалансом\" data-toc-modified-id=\"Борьба-с-дисбалансом-3\"><span class=\"toc-item-num\">3&nbsp;&nbsp;</span>Борьба с дисбалансом</a></span><ul class=\"toc-item\"><li><span><a href=\"#Увеличение-выборки\" data-toc-modified-id=\"Увеличение-выборки-3.1\"><span class=\"toc-item-num\">3.1&nbsp;&nbsp;</span>Увеличение выборки</a></span><ul class=\"toc-item\"><li><span><a href=\"#random-forest\" data-toc-modified-id=\"random-forest-3.1.1\"><span class=\"toc-item-num\">3.1.1&nbsp;&nbsp;</span>random forest</a></span></li><li><span><a href=\"#Tree-classifier\" data-toc-modified-id=\"Tree-classifier-3.1.2\"><span class=\"toc-item-num\">3.1.2&nbsp;&nbsp;</span>Tree classifier</a></span></li><li><span><a href=\"#Logistic-Regression\" data-toc-modified-id=\"Logistic-Regression-3.1.3\"><span class=\"toc-item-num\">3.1.3&nbsp;&nbsp;</span>Logistic Regression</a></span></li><li><span><a href=\"#Вывод\" data-toc-modified-id=\"Вывод-3.1.4\"><span class=\"toc-item-num\">3.1.4&nbsp;&nbsp;</span>Вывод<br></a></span></li></ul></li><li><span><a href=\"#Взвешивание-классов\" data-toc-modified-id=\"Взвешивание-классов-3.2\"><span class=\"toc-item-num\">3.2&nbsp;&nbsp;</span>Взвешивание классов</a></span><ul class=\"toc-item\"><li><span><a href=\"#random-forest\" data-toc-modified-id=\"random-forest-3.2.1\"><span class=\"toc-item-num\">3.2.1&nbsp;&nbsp;</span>random forest</a></span></li><li><span><a href=\"#Tree-classifier\" data-toc-modified-id=\"Tree-classifier-3.2.2\"><span class=\"toc-item-num\">3.2.2&nbsp;&nbsp;</span>Tree classifier</a></span></li><li><span><a href=\"#Logistic-Regression\" data-toc-modified-id=\"Logistic-Regression-3.2.3\"><span class=\"toc-item-num\">3.2.3&nbsp;&nbsp;</span>Logistic Regression</a></span></li><li><span><a href=\"#Вывод\" data-toc-modified-id=\"Вывод-3.2.4\"><span class=\"toc-item-num\">3.2.4&nbsp;&nbsp;</span>Вывод<br></a></span></li></ul></li><li><span><a href=\"#Уменьшение-выборки\" data-toc-modified-id=\"Уменьшение-выборки-3.3\"><span class=\"toc-item-num\">3.3&nbsp;&nbsp;</span>Уменьшение выборки</a></span><ul class=\"toc-item\"><li><span><a href=\"#random-forest\" data-toc-modified-id=\"random-forest-3.3.1\"><span class=\"toc-item-num\">3.3.1&nbsp;&nbsp;</span>random forest</a></span></li><li><span><a href=\"#Tree-classifier\" data-toc-modified-id=\"Tree-classifier-3.3.2\"><span class=\"toc-item-num\">3.3.2&nbsp;&nbsp;</span>Tree classifier</a></span></li><li><span><a href=\"#logistic-regression\" data-toc-modified-id=\"logistic-regression-3.3.3\"><span class=\"toc-item-num\">3.3.3&nbsp;&nbsp;</span>logistic regression</a></span></li><li><span><a href=\"#Вывод:\" data-toc-modified-id=\"Вывод:-3.3.4\"><span class=\"toc-item-num\">3.3.4&nbsp;&nbsp;</span>Вывод:<br></a></span></li><li><span><a href=\"#Общий-вывод\" data-toc-modified-id=\"Общий-вывод-3.3.5\"><span class=\"toc-item-num\">3.3.5&nbsp;&nbsp;</span>Общий вывод</a></span></li></ul></li></ul></li><li><span><a href=\"#Тестирование-модели\" data-toc-modified-id=\"Тестирование-модели-4\"><span class=\"toc-item-num\">4&nbsp;&nbsp;</span>Тестирование модели</a></span><ul class=\"toc-item\"><li><span><a href=\"#Общий-вывод-по-итогам-исследования\" data-toc-modified-id=\"Общий-вывод-по-итогам-исследования-4.1\"><span class=\"toc-item-num\">4.1&nbsp;&nbsp;</span>Общий вывод по итогам исследования</a></span></li></ul></li><li><span><a href=\"#Чек-лист-готовности-проекта\" data-toc-modified-id=\"Чек-лист-готовности-проекта-5\"><span class=\"toc-item-num\">5&nbsp;&nbsp;</span>Чек-лист готовности проекта</a></span></li><li><span><a href=\"#Общий-вывод-по-проекту\" data-toc-modified-id=\"Общий-вывод-по-проекту-6\"><span class=\"toc-item-num\">6&nbsp;&nbsp;</span><b>Общий вывод по проекту</b></a></span></li><li><span><a href=\"#Общий-вывод-по-проекту-В2\" data-toc-modified-id=\"Общий-вывод-по-проекту-В2-7\"><span class=\"toc-item-num\">7&nbsp;&nbsp;</span><b>Общий вывод по проекту В2</b></a></span></li><li><span><a href=\"#Общий-вывод-по-проекту-В3\" data-toc-modified-id=\"Общий-вывод-по-проекту-В3-8\"><span class=\"toc-item-num\">8&nbsp;&nbsp;</span><b>Общий вывод по проекту В3</b></a></span></li></ul></div>"
   ]
  },
  {
   "cell_type": "markdown",
   "metadata": {},
   "source": [
    "# Отток клиентов"
   ]
  },
  {
   "cell_type": "markdown",
   "metadata": {},
   "source": [
    "Из «Бета-Банка» стали уходить клиенты. Каждый месяц. Немного, но заметно. Банковские маркетологи посчитали: сохранять текущих клиентов дешевле, чем привлекать новых.\n",
    "\n",
    "Нужно спрогнозировать, уйдёт клиент из банка в ближайшее время или нет. Вам предоставлены исторические данные о поведении клиентов и расторжении договоров с банком. \n",
    "\n",
    "Постройте модель с предельно большим значением *F1*-меры. Чтобы сдать проект успешно, нужно довести метрику до 0.59. Проверьте *F1*-меру на тестовой выборке самостоятельно.\n",
    "\n",
    "Дополнительно измеряйте *AUC-ROC*, сравнивайте её значение с *F1*-мерой.\n",
    "\n",
    "Источник данных: [https://www.kaggle.com/barelydedicated/bank-customer-churn-modeling](https://www.kaggle.com/barelydedicated/bank-customer-churn-modeling)"
   ]
  },
  {
   "cell_type": "markdown",
   "metadata": {},
   "source": [
    "## Подготовка данных"
   ]
  },
  {
   "cell_type": "code",
   "execution_count": 1,
   "metadata": {},
   "outputs": [],
   "source": [
    "import pandas as pd\n",
    "from sklearn.preprocessing import StandardScaler\n",
    "from sklearn.model_selection import train_test_split\n",
    "from sklearn.linear_model import LogisticRegression\n",
    "from sklearn.metrics import accuracy_score, f1_score, precision_score, recall_score, accuracy_score, roc_curve, roc_auc_score\n",
    "from sklearn.ensemble import RandomForestClassifier\n",
    "from sklearn.dummy import DummyClassifier\n",
    "from sklearn.tree import DecisionTreeClassifier\n",
    "from sklearn.utils import shuffle\n",
    "from sklearn.preprocessing import OneHotEncoder"
   ]
  },
  {
   "cell_type": "code",
   "execution_count": 2,
   "metadata": {
    "scrolled": true
   },
   "outputs": [
    {
     "data": {
      "text/html": [
       "<div>\n",
       "<style scoped>\n",
       "    .dataframe tbody tr th:only-of-type {\n",
       "        vertical-align: middle;\n",
       "    }\n",
       "\n",
       "    .dataframe tbody tr th {\n",
       "        vertical-align: top;\n",
       "    }\n",
       "\n",
       "    .dataframe thead th {\n",
       "        text-align: right;\n",
       "    }\n",
       "</style>\n",
       "<table border=\"1\" class=\"dataframe\">\n",
       "  <thead>\n",
       "    <tr style=\"text-align: right;\">\n",
       "      <th></th>\n",
       "      <th>RowNumber</th>\n",
       "      <th>CustomerId</th>\n",
       "      <th>Surname</th>\n",
       "      <th>CreditScore</th>\n",
       "      <th>Geography</th>\n",
       "      <th>Gender</th>\n",
       "      <th>Age</th>\n",
       "      <th>Tenure</th>\n",
       "      <th>Balance</th>\n",
       "      <th>NumOfProducts</th>\n",
       "      <th>HasCrCard</th>\n",
       "      <th>IsActiveMember</th>\n",
       "      <th>EstimatedSalary</th>\n",
       "      <th>Exited</th>\n",
       "    </tr>\n",
       "  </thead>\n",
       "  <tbody>\n",
       "    <tr>\n",
       "      <th>0</th>\n",
       "      <td>1</td>\n",
       "      <td>15634602</td>\n",
       "      <td>Hargrave</td>\n",
       "      <td>619</td>\n",
       "      <td>France</td>\n",
       "      <td>Female</td>\n",
       "      <td>42</td>\n",
       "      <td>2.0</td>\n",
       "      <td>0.00</td>\n",
       "      <td>1</td>\n",
       "      <td>1</td>\n",
       "      <td>1</td>\n",
       "      <td>101348.88</td>\n",
       "      <td>1</td>\n",
       "    </tr>\n",
       "    <tr>\n",
       "      <th>1</th>\n",
       "      <td>2</td>\n",
       "      <td>15647311</td>\n",
       "      <td>Hill</td>\n",
       "      <td>608</td>\n",
       "      <td>Spain</td>\n",
       "      <td>Female</td>\n",
       "      <td>41</td>\n",
       "      <td>1.0</td>\n",
       "      <td>83807.86</td>\n",
       "      <td>1</td>\n",
       "      <td>0</td>\n",
       "      <td>1</td>\n",
       "      <td>112542.58</td>\n",
       "      <td>0</td>\n",
       "    </tr>\n",
       "    <tr>\n",
       "      <th>2</th>\n",
       "      <td>3</td>\n",
       "      <td>15619304</td>\n",
       "      <td>Onio</td>\n",
       "      <td>502</td>\n",
       "      <td>France</td>\n",
       "      <td>Female</td>\n",
       "      <td>42</td>\n",
       "      <td>8.0</td>\n",
       "      <td>159660.80</td>\n",
       "      <td>3</td>\n",
       "      <td>1</td>\n",
       "      <td>0</td>\n",
       "      <td>113931.57</td>\n",
       "      <td>1</td>\n",
       "    </tr>\n",
       "    <tr>\n",
       "      <th>3</th>\n",
       "      <td>4</td>\n",
       "      <td>15701354</td>\n",
       "      <td>Boni</td>\n",
       "      <td>699</td>\n",
       "      <td>France</td>\n",
       "      <td>Female</td>\n",
       "      <td>39</td>\n",
       "      <td>1.0</td>\n",
       "      <td>0.00</td>\n",
       "      <td>2</td>\n",
       "      <td>0</td>\n",
       "      <td>0</td>\n",
       "      <td>93826.63</td>\n",
       "      <td>0</td>\n",
       "    </tr>\n",
       "    <tr>\n",
       "      <th>4</th>\n",
       "      <td>5</td>\n",
       "      <td>15737888</td>\n",
       "      <td>Mitchell</td>\n",
       "      <td>850</td>\n",
       "      <td>Spain</td>\n",
       "      <td>Female</td>\n",
       "      <td>43</td>\n",
       "      <td>2.0</td>\n",
       "      <td>125510.82</td>\n",
       "      <td>1</td>\n",
       "      <td>1</td>\n",
       "      <td>1</td>\n",
       "      <td>79084.10</td>\n",
       "      <td>0</td>\n",
       "    </tr>\n",
       "    <tr>\n",
       "      <th>5</th>\n",
       "      <td>6</td>\n",
       "      <td>15574012</td>\n",
       "      <td>Chu</td>\n",
       "      <td>645</td>\n",
       "      <td>Spain</td>\n",
       "      <td>Male</td>\n",
       "      <td>44</td>\n",
       "      <td>8.0</td>\n",
       "      <td>113755.78</td>\n",
       "      <td>2</td>\n",
       "      <td>1</td>\n",
       "      <td>0</td>\n",
       "      <td>149756.71</td>\n",
       "      <td>1</td>\n",
       "    </tr>\n",
       "    <tr>\n",
       "      <th>6</th>\n",
       "      <td>7</td>\n",
       "      <td>15592531</td>\n",
       "      <td>Bartlett</td>\n",
       "      <td>822</td>\n",
       "      <td>France</td>\n",
       "      <td>Male</td>\n",
       "      <td>50</td>\n",
       "      <td>7.0</td>\n",
       "      <td>0.00</td>\n",
       "      <td>2</td>\n",
       "      <td>1</td>\n",
       "      <td>1</td>\n",
       "      <td>10062.80</td>\n",
       "      <td>0</td>\n",
       "    </tr>\n",
       "    <tr>\n",
       "      <th>7</th>\n",
       "      <td>8</td>\n",
       "      <td>15656148</td>\n",
       "      <td>Obinna</td>\n",
       "      <td>376</td>\n",
       "      <td>Germany</td>\n",
       "      <td>Female</td>\n",
       "      <td>29</td>\n",
       "      <td>4.0</td>\n",
       "      <td>115046.74</td>\n",
       "      <td>4</td>\n",
       "      <td>1</td>\n",
       "      <td>0</td>\n",
       "      <td>119346.88</td>\n",
       "      <td>1</td>\n",
       "    </tr>\n",
       "    <tr>\n",
       "      <th>8</th>\n",
       "      <td>9</td>\n",
       "      <td>15792365</td>\n",
       "      <td>He</td>\n",
       "      <td>501</td>\n",
       "      <td>France</td>\n",
       "      <td>Male</td>\n",
       "      <td>44</td>\n",
       "      <td>4.0</td>\n",
       "      <td>142051.07</td>\n",
       "      <td>2</td>\n",
       "      <td>0</td>\n",
       "      <td>1</td>\n",
       "      <td>74940.50</td>\n",
       "      <td>0</td>\n",
       "    </tr>\n",
       "    <tr>\n",
       "      <th>9</th>\n",
       "      <td>10</td>\n",
       "      <td>15592389</td>\n",
       "      <td>H?</td>\n",
       "      <td>684</td>\n",
       "      <td>France</td>\n",
       "      <td>Male</td>\n",
       "      <td>27</td>\n",
       "      <td>2.0</td>\n",
       "      <td>134603.88</td>\n",
       "      <td>1</td>\n",
       "      <td>1</td>\n",
       "      <td>1</td>\n",
       "      <td>71725.73</td>\n",
       "      <td>0</td>\n",
       "    </tr>\n",
       "  </tbody>\n",
       "</table>\n",
       "</div>"
      ],
      "text/plain": [
       "   RowNumber  CustomerId   Surname  CreditScore Geography  Gender  Age  \\\n",
       "0          1    15634602  Hargrave          619    France  Female   42   \n",
       "1          2    15647311      Hill          608     Spain  Female   41   \n",
       "2          3    15619304      Onio          502    France  Female   42   \n",
       "3          4    15701354      Boni          699    France  Female   39   \n",
       "4          5    15737888  Mitchell          850     Spain  Female   43   \n",
       "5          6    15574012       Chu          645     Spain    Male   44   \n",
       "6          7    15592531  Bartlett          822    France    Male   50   \n",
       "7          8    15656148    Obinna          376   Germany  Female   29   \n",
       "8          9    15792365        He          501    France    Male   44   \n",
       "9         10    15592389        H?          684    France    Male   27   \n",
       "\n",
       "   Tenure    Balance  NumOfProducts  HasCrCard  IsActiveMember  \\\n",
       "0     2.0       0.00              1          1               1   \n",
       "1     1.0   83807.86              1          0               1   \n",
       "2     8.0  159660.80              3          1               0   \n",
       "3     1.0       0.00              2          0               0   \n",
       "4     2.0  125510.82              1          1               1   \n",
       "5     8.0  113755.78              2          1               0   \n",
       "6     7.0       0.00              2          1               1   \n",
       "7     4.0  115046.74              4          1               0   \n",
       "8     4.0  142051.07              2          0               1   \n",
       "9     2.0  134603.88              1          1               1   \n",
       "\n",
       "   EstimatedSalary  Exited  \n",
       "0        101348.88       1  \n",
       "1        112542.58       0  \n",
       "2        113931.57       1  \n",
       "3         93826.63       0  \n",
       "4         79084.10       0  \n",
       "5        149756.71       1  \n",
       "6         10062.80       0  \n",
       "7        119346.88       1  \n",
       "8         74940.50       0  \n",
       "9         71725.73       0  "
      ]
     },
     "execution_count": 2,
     "metadata": {},
     "output_type": "execute_result"
    }
   ],
   "source": [
    "main_df = pd.read_csv('/datasets/Churn.csv')\n",
    "main_df.head(10)"
   ]
  },
  {
   "cell_type": "code",
   "execution_count": 3,
   "metadata": {},
   "outputs": [
    {
     "data": {
      "text/plain": [
       "(10000, 14)"
      ]
     },
     "execution_count": 3,
     "metadata": {},
     "output_type": "execute_result"
    }
   ],
   "source": [
    "main_df.shape"
   ]
  },
  {
   "cell_type": "code",
   "execution_count": 4,
   "metadata": {
    "scrolled": true
   },
   "outputs": [
    {
     "name": "stdout",
     "output_type": "stream",
     "text": [
      "<class 'pandas.core.frame.DataFrame'>\n",
      "RangeIndex: 10000 entries, 0 to 9999\n",
      "Data columns (total 14 columns):\n",
      " #   Column           Non-Null Count  Dtype  \n",
      "---  ------           --------------  -----  \n",
      " 0   RowNumber        10000 non-null  int64  \n",
      " 1   CustomerId       10000 non-null  int64  \n",
      " 2   Surname          10000 non-null  object \n",
      " 3   CreditScore      10000 non-null  int64  \n",
      " 4   Geography        10000 non-null  object \n",
      " 5   Gender           10000 non-null  object \n",
      " 6   Age              10000 non-null  int64  \n",
      " 7   Tenure           9091 non-null   float64\n",
      " 8   Balance          10000 non-null  float64\n",
      " 9   NumOfProducts    10000 non-null  int64  \n",
      " 10  HasCrCard        10000 non-null  int64  \n",
      " 11  IsActiveMember   10000 non-null  int64  \n",
      " 12  EstimatedSalary  10000 non-null  float64\n",
      " 13  Exited           10000 non-null  int64  \n",
      "dtypes: float64(3), int64(8), object(3)\n",
      "memory usage: 1.1+ MB\n"
     ]
    }
   ],
   "source": [
    "main_df.info()"
   ]
  },
  {
   "cell_type": "code",
   "execution_count": 5,
   "metadata": {},
   "outputs": [],
   "source": [
    "main_df = main_df.dropna()"
   ]
  },
  {
   "cell_type": "markdown",
   "metadata": {},
   "source": [
    "Удалим столбцы 'RowNumber', 'CustomerId','Surname', так номер строки и id точно не влияют на уход клиента, скорее всего имя тоже"
   ]
  },
  {
   "cell_type": "code",
   "execution_count": 6,
   "metadata": {},
   "outputs": [],
   "source": [
    "main_df = main_df.drop(['RowNumber', 'CustomerId','Surname'],  axis=1)"
   ]
  },
  {
   "cell_type": "markdown",
   "metadata": {},
   "source": [
    "Разобьем выбору на X - признаки, Y - целевой признак, а также удалим 'RowNumber', 'CustomerId','Surname','Geography', так как они не влияют на то уйдет ли клиент или нет"
   ]
  },
  {
   "cell_type": "code",
   "execution_count": 7,
   "metadata": {},
   "outputs": [],
   "source": [
    "X = main_df.drop('Exited', axis=1)\n",
    "Y = main_df['Exited']"
   ]
  },
  {
   "cell_type": "code",
   "execution_count": 8,
   "metadata": {
    "scrolled": true
   },
   "outputs": [
    {
     "data": {
      "text/html": [
       "<div>\n",
       "<style scoped>\n",
       "    .dataframe tbody tr th:only-of-type {\n",
       "        vertical-align: middle;\n",
       "    }\n",
       "\n",
       "    .dataframe tbody tr th {\n",
       "        vertical-align: top;\n",
       "    }\n",
       "\n",
       "    .dataframe thead th {\n",
       "        text-align: right;\n",
       "    }\n",
       "</style>\n",
       "<table border=\"1\" class=\"dataframe\">\n",
       "  <thead>\n",
       "    <tr style=\"text-align: right;\">\n",
       "      <th></th>\n",
       "      <th>CreditScore</th>\n",
       "      <th>Geography</th>\n",
       "      <th>Gender</th>\n",
       "      <th>Age</th>\n",
       "      <th>Tenure</th>\n",
       "      <th>Balance</th>\n",
       "      <th>NumOfProducts</th>\n",
       "      <th>HasCrCard</th>\n",
       "      <th>IsActiveMember</th>\n",
       "      <th>EstimatedSalary</th>\n",
       "    </tr>\n",
       "  </thead>\n",
       "  <tbody>\n",
       "    <tr>\n",
       "      <th>0</th>\n",
       "      <td>619</td>\n",
       "      <td>France</td>\n",
       "      <td>Female</td>\n",
       "      <td>42</td>\n",
       "      <td>2.0</td>\n",
       "      <td>0.00</td>\n",
       "      <td>1</td>\n",
       "      <td>1</td>\n",
       "      <td>1</td>\n",
       "      <td>101348.88</td>\n",
       "    </tr>\n",
       "    <tr>\n",
       "      <th>1</th>\n",
       "      <td>608</td>\n",
       "      <td>Spain</td>\n",
       "      <td>Female</td>\n",
       "      <td>41</td>\n",
       "      <td>1.0</td>\n",
       "      <td>83807.86</td>\n",
       "      <td>1</td>\n",
       "      <td>0</td>\n",
       "      <td>1</td>\n",
       "      <td>112542.58</td>\n",
       "    </tr>\n",
       "    <tr>\n",
       "      <th>2</th>\n",
       "      <td>502</td>\n",
       "      <td>France</td>\n",
       "      <td>Female</td>\n",
       "      <td>42</td>\n",
       "      <td>8.0</td>\n",
       "      <td>159660.80</td>\n",
       "      <td>3</td>\n",
       "      <td>1</td>\n",
       "      <td>0</td>\n",
       "      <td>113931.57</td>\n",
       "    </tr>\n",
       "    <tr>\n",
       "      <th>3</th>\n",
       "      <td>699</td>\n",
       "      <td>France</td>\n",
       "      <td>Female</td>\n",
       "      <td>39</td>\n",
       "      <td>1.0</td>\n",
       "      <td>0.00</td>\n",
       "      <td>2</td>\n",
       "      <td>0</td>\n",
       "      <td>0</td>\n",
       "      <td>93826.63</td>\n",
       "    </tr>\n",
       "    <tr>\n",
       "      <th>4</th>\n",
       "      <td>850</td>\n",
       "      <td>Spain</td>\n",
       "      <td>Female</td>\n",
       "      <td>43</td>\n",
       "      <td>2.0</td>\n",
       "      <td>125510.82</td>\n",
       "      <td>1</td>\n",
       "      <td>1</td>\n",
       "      <td>1</td>\n",
       "      <td>79084.10</td>\n",
       "    </tr>\n",
       "    <tr>\n",
       "      <th>5</th>\n",
       "      <td>645</td>\n",
       "      <td>Spain</td>\n",
       "      <td>Male</td>\n",
       "      <td>44</td>\n",
       "      <td>8.0</td>\n",
       "      <td>113755.78</td>\n",
       "      <td>2</td>\n",
       "      <td>1</td>\n",
       "      <td>0</td>\n",
       "      <td>149756.71</td>\n",
       "    </tr>\n",
       "    <tr>\n",
       "      <th>6</th>\n",
       "      <td>822</td>\n",
       "      <td>France</td>\n",
       "      <td>Male</td>\n",
       "      <td>50</td>\n",
       "      <td>7.0</td>\n",
       "      <td>0.00</td>\n",
       "      <td>2</td>\n",
       "      <td>1</td>\n",
       "      <td>1</td>\n",
       "      <td>10062.80</td>\n",
       "    </tr>\n",
       "    <tr>\n",
       "      <th>7</th>\n",
       "      <td>376</td>\n",
       "      <td>Germany</td>\n",
       "      <td>Female</td>\n",
       "      <td>29</td>\n",
       "      <td>4.0</td>\n",
       "      <td>115046.74</td>\n",
       "      <td>4</td>\n",
       "      <td>1</td>\n",
       "      <td>0</td>\n",
       "      <td>119346.88</td>\n",
       "    </tr>\n",
       "    <tr>\n",
       "      <th>8</th>\n",
       "      <td>501</td>\n",
       "      <td>France</td>\n",
       "      <td>Male</td>\n",
       "      <td>44</td>\n",
       "      <td>4.0</td>\n",
       "      <td>142051.07</td>\n",
       "      <td>2</td>\n",
       "      <td>0</td>\n",
       "      <td>1</td>\n",
       "      <td>74940.50</td>\n",
       "    </tr>\n",
       "    <tr>\n",
       "      <th>9</th>\n",
       "      <td>684</td>\n",
       "      <td>France</td>\n",
       "      <td>Male</td>\n",
       "      <td>27</td>\n",
       "      <td>2.0</td>\n",
       "      <td>134603.88</td>\n",
       "      <td>1</td>\n",
       "      <td>1</td>\n",
       "      <td>1</td>\n",
       "      <td>71725.73</td>\n",
       "    </tr>\n",
       "  </tbody>\n",
       "</table>\n",
       "</div>"
      ],
      "text/plain": [
       "   CreditScore Geography  Gender  Age  Tenure    Balance  NumOfProducts  \\\n",
       "0          619    France  Female   42     2.0       0.00              1   \n",
       "1          608     Spain  Female   41     1.0   83807.86              1   \n",
       "2          502    France  Female   42     8.0  159660.80              3   \n",
       "3          699    France  Female   39     1.0       0.00              2   \n",
       "4          850     Spain  Female   43     2.0  125510.82              1   \n",
       "5          645     Spain    Male   44     8.0  113755.78              2   \n",
       "6          822    France    Male   50     7.0       0.00              2   \n",
       "7          376   Germany  Female   29     4.0  115046.74              4   \n",
       "8          501    France    Male   44     4.0  142051.07              2   \n",
       "9          684    France    Male   27     2.0  134603.88              1   \n",
       "\n",
       "   HasCrCard  IsActiveMember  EstimatedSalary  \n",
       "0          1               1        101348.88  \n",
       "1          0               1        112542.58  \n",
       "2          1               0        113931.57  \n",
       "3          0               0         93826.63  \n",
       "4          1               1         79084.10  \n",
       "5          1               0        149756.71  \n",
       "6          1               1         10062.80  \n",
       "7          1               0        119346.88  \n",
       "8          0               1         74940.50  \n",
       "9          1               1         71725.73  "
      ]
     },
     "execution_count": 8,
     "metadata": {},
     "output_type": "execute_result"
    }
   ],
   "source": [
    "X.head(10)"
   ]
  },
  {
   "cell_type": "code",
   "execution_count": 9,
   "metadata": {},
   "outputs": [
    {
     "data": {
      "text/plain": [
       "0    1\n",
       "1    0\n",
       "2    1\n",
       "3    0\n",
       "4    0\n",
       "5    1\n",
       "6    0\n",
       "7    1\n",
       "8    0\n",
       "9    0\n",
       "Name: Exited, dtype: int64"
      ]
     },
     "execution_count": 9,
     "metadata": {},
     "output_type": "execute_result"
    }
   ],
   "source": [
    "Y.head(10)"
   ]
  },
  {
   "cell_type": "markdown",
   "metadata": {},
   "source": [
    "разделим выборку на обучающую, тестовую и валидационную."
   ]
  },
  {
   "cell_type": "code",
   "execution_count": 10,
   "metadata": {},
   "outputs": [],
   "source": [
    "X_train, X_test, Y_train, Y_test = train_test_split(X, Y, test_size=0.4, random_state=12)\n",
    "X_valid, X_test, Y_valid, Y_test = train_test_split(X_test, Y_test, test_size=0.5, random_state=12)"
   ]
  },
  {
   "cell_type": "code",
   "execution_count": 11,
   "metadata": {},
   "outputs": [
    {
     "name": "stdout",
     "output_type": "stream",
     "text": [
      "percent train:  0.5999340006599934\n",
      "percent valid:  0.1999780002199978\n",
      "percent test:  0.2000879991200088\n"
     ]
    }
   ],
   "source": [
    "print('percent train: ', len(X_train)/len(X))\n",
    "print('percent valid: ', len(X_valid)/len(X))\n",
    "print('percent test: ', len(X_test)/len(X))"
   ]
  },
  {
   "cell_type": "code",
   "execution_count": 12,
   "metadata": {},
   "outputs": [],
   "source": [
    "X_categirical = ['Geography', 'Gender']\n",
    "\n",
    "ohe = OneHotEncoder(sparse=False, drop='first')\n",
    "ohe.fit(X_train[X_categirical])\n",
    "\n",
    "def features_ohe(ohe_variable, df_features, X_categ):\n",
    "    df_features_ohe = pd.DataFrame(\n",
    "        data=ohe_variable.transform(df_features[X_categ]), \n",
    "        index=df_features.index,\n",
    "        columns=ohe_variable.get_feature_names()\n",
    "    )\n",
    "\n",
    "    df_features = df_features.drop(X_categ, axis=1)\n",
    "    df_features = df_features.join(df_features_ohe)\n",
    "    return df_features    \n",
    "\n",
    "X_train = features_ohe(ohe, X_train, X_categirical);\n",
    "X_valid = features_ohe(ohe, X_valid, X_categirical);\n",
    "X_test = features_ohe(ohe, X_test, X_categirical);"
   ]
  },
  {
   "cell_type": "code",
   "execution_count": 15,
   "metadata": {},
   "outputs": [],
   "source": [
    "pd.options.mode.chained_assignment = None\n",
    "columns_to_transform = ['Balance', 'Tenure', 'Age', \n",
    "                            'CreditScore', 'EstimatedSalary', \n",
    "                            'NumOfProducts']\n",
    "    \n",
    "scalar = StandardScaler()\n",
    "scalar.fit(X_train[columns_to_transform])\n",
    "X_train[columns_to_transform] = scalar.transform(X_train[columns_to_transform])\n",
    "X_valid[columns_to_transform] = scalar.transform(X_valid[columns_to_transform])\n",
    "X_test[columns_to_transform] = scalar.transform(X_test[columns_to_transform])"
   ]
  },
  {
   "cell_type": "markdown",
   "metadata": {},
   "source": [
    "## Исследование задачи"
   ]
  },
  {
   "cell_type": "code",
   "execution_count": 16,
   "metadata": {},
   "outputs": [
    {
     "name": "stdout",
     "output_type": "stream",
     "text": [
      "precent_zero_class =  0.7960620393796062\n",
      "precent_one_class =  0.20393796062039382\n"
     ]
    }
   ],
   "source": [
    "zero_class = main_df[main_df['Exited'] == 0]['Exited']\n",
    "one_class = main_df[main_df['Exited'] == 1]['Exited']\n",
    "print('precent_zero_class = ', len(zero_class)/len(main_df))\n",
    "print('precent_one_class = ', 1 - (len(zero_class)/len(main_df)))"
   ]
  },
  {
   "cell_type": "markdown",
   "metadata": {},
   "source": [
    "Явный дисбаланс класса 0 - 79%"
   ]
  },
  {
   "cell_type": "markdown",
   "metadata": {},
   "source": [
    "объявим заранее все основные функции, которые будут вызываться походу проекта"
   ]
  },
  {
   "cell_type": "markdown",
   "metadata": {},
   "source": [
    "##### основные функции"
   ]
  },
  {
   "cell_type": "code",
   "execution_count": 17,
   "metadata": {},
   "outputs": [
    {
     "name": "stderr",
     "output_type": "stream",
     "text": [
      "/opt/conda/lib/python3.9/site-packages/sklearn/metrics/_classification.py:1245: UndefinedMetricWarning: Precision is ill-defined and being set to 0.0 due to no predicted samples. Use `zero_division` parameter to control this behavior.\n",
      "  _warn_prf(average, modifier, msg_start, len(result))\n"
     ]
    }
   ],
   "source": [
    "dummy_model = DummyClassifier(strategy=\"most_frequent\")\n",
    "dummy_model.fit(X_train, Y_train)\n",
    "dummy_test_predict = dummy_model.predict(X_test)\n",
    "\n",
    "f1 = f1_score(Y_test, dummy_test_predict)\n",
    "precision = precision_score(Y_test, dummy_test_predict)\n",
    "recall = recall_score(Y_test, dummy_test_predict)"
   ]
  },
  {
   "cell_type": "code",
   "execution_count": 18,
   "metadata": {},
   "outputs": [],
   "source": [
    "import random\n",
    "def random_model(data_for_predict):\n",
    "    fake_predict = []\n",
    "    \n",
    "    for i in range(len(data_for_predict)):\n",
    "        fake_predict.append(random.randint(0,1))\n",
    "        \n",
    "    return pd.Series(fake_predict)\n",
    "\n"
   ]
  },
  {
   "cell_type": "code",
   "execution_count": 19,
   "metadata": {},
   "outputs": [],
   "source": [
    "def ROC_AUC_info(model, X_valid, Y_valid):\n",
    "    probabilities_valid = model.predict_proba(X_valid)\n",
    "    probabilities_one_valid = probabilities_valid[:, 1]\n",
    "    \n",
    "    fpr, tpr, thresholds = roc_curve(Y_valid, probabilities_one_valid)\n",
    "    FPR_TPR = pd.DataFrame({'FPR': fpr, 'TPR': tpr, 'thresholds': thresholds})\n",
    "    \n",
    "    FPR_TPR.plot(y='TPR', x='FPR', grid=True, figsize=(10,10))\n",
    "    roc_auc = roc_auc_score(Y_valid, probabilities_one_valid)\n",
    "    \n",
    "    print('AUC = ', roc_auc)\n",
    "    \n",
    "    return FPR_TPR"
   ]
  },
  {
   "cell_type": "code",
   "execution_count": 20,
   "metadata": {},
   "outputs": [],
   "source": [
    "def random_forest(X_train, X_valid, Y_train, Y_valid, class_balance=False):\n",
    "    max_f1 = 0\n",
    "    max_depth = 0\n",
    "    max_est = 0\n",
    "    best_model = None\n",
    "    best_accuracy = 0\n",
    "    \n",
    "    for depth in range(3, 16):\n",
    "        for n_est in range(10, 100, 5):\n",
    "            \n",
    "            if class_balance:\n",
    "                model = RandomForestClassifier(max_depth=depth, n_estimators=n_est,\n",
    "                                               random_state=12, class_weight='balanced')\n",
    "            else:\n",
    "                model = RandomForestClassifier(max_depth=depth, n_estimators=n_est, random_state=12)\n",
    "                \n",
    "            model.fit(X_train, Y_train)\n",
    "            valid_preditc = model.predict(X_valid)\n",
    "            \n",
    "            f1 = f1_score(Y_valid, valid_preditc)\n",
    "            accuracy = accuracy_score(Y_valid, valid_preditc)\n",
    "\n",
    "            if f1 > max_f1:\n",
    "                max_f1 = f1\n",
    "                max_depth = depth\n",
    "                max_est = n_est\n",
    "                best_model = model\n",
    "                best_accuracy = accuracy\n",
    "                \n",
    "    return max_f1, best_accuracy, max_depth, max_est, best_model"
   ]
  },
  {
   "cell_type": "code",
   "execution_count": 21,
   "metadata": {},
   "outputs": [],
   "source": [
    "def tree_classifier(X_train, X_valid, Y_train, Y_valid, class_balance=False):\n",
    "    max_f1 = 0\n",
    "    max_depth = 0\n",
    "    best_model = None\n",
    "    best_accuracy = 0\n",
    "    \n",
    "    for depth in range(1, 30):\n",
    "        \n",
    "        if class_balance:\n",
    "            model = DecisionTreeClassifier(max_depth=depth, random_state=12, class_weight='balanced')\n",
    "            \n",
    "        else:\n",
    "            model = DecisionTreeClassifier(max_depth=depth, random_state=12)\n",
    "            \n",
    "        model.fit(X_train, Y_train)\n",
    "        valid_preditc = model.predict(X_valid)\n",
    "        \n",
    "        f1 = f1_score(Y_valid, valid_preditc)\n",
    "        accuracy = accuracy_score(Y_valid, valid_preditc)\n",
    "\n",
    "        if f1 > max_f1:\n",
    "            max_f1 = f1\n",
    "            max_depth = depth\n",
    "            best_model = model\n",
    "            best_accuracy = accuracy\n",
    "            \n",
    "    return max_f1, best_accuracy, max_depth, best_model"
   ]
  },
  {
   "cell_type": "code",
   "execution_count": 22,
   "metadata": {},
   "outputs": [],
   "source": [
    "def logistic_regression(X_train, X_valid, Y_train, Y_valid, class_balance=False):\n",
    "    \n",
    "    if class_balance:\n",
    "        logist_model = LogisticRegression(random_state=12345, class_weight='balanced')\n",
    "    else:\n",
    "        logist_model = LogisticRegression(random_state=12345)\n",
    "        \n",
    "    logist_model.fit(X_train, Y_train)\n",
    "\n",
    "    valid_predict = logist_model.predict(X_valid)\n",
    "    accuracy = accuracy_score(Y_valid, valid_predict)\n",
    "\n",
    "    f1 = f1_score(Y_valid, valid_predict)\n",
    "    accuracy = accuracy_score(Y_valid, valid_predict)\n",
    "\n",
    "    return accuracy, f1, logist_model"
   ]
  },
  {
   "cell_type": "markdown",
   "metadata": {},
   "source": [
    "### Random forest"
   ]
  },
  {
   "cell_type": "code",
   "execution_count": 23,
   "metadata": {
    "scrolled": true
   },
   "outputs": [
    {
     "name": "stdout",
     "output_type": "stream",
     "text": [
      "best train accuracy:  0.8652365236523653\n",
      "train f1:  0.5783132530120482\n",
      "depth: 12\n",
      "estimatores: 50\n",
      "AUC =  0.8469752623688156\n"
     ]
    },
    {
     "data": {
      "text/html": [
       "<div>\n",
       "<style scoped>\n",
       "    .dataframe tbody tr th:only-of-type {\n",
       "        vertical-align: middle;\n",
       "    }\n",
       "\n",
       "    .dataframe tbody tr th {\n",
       "        vertical-align: top;\n",
       "    }\n",
       "\n",
       "    .dataframe thead th {\n",
       "        text-align: right;\n",
       "    }\n",
       "</style>\n",
       "<table border=\"1\" class=\"dataframe\">\n",
       "  <thead>\n",
       "    <tr style=\"text-align: right;\">\n",
       "      <th></th>\n",
       "      <th>FPR</th>\n",
       "      <th>TPR</th>\n",
       "      <th>thresholds</th>\n",
       "    </tr>\n",
       "  </thead>\n",
       "  <tbody>\n",
       "    <tr>\n",
       "      <th>0</th>\n",
       "      <td>0.000000</td>\n",
       "      <td>0.000000</td>\n",
       "      <td>1.980000</td>\n",
       "    </tr>\n",
       "    <tr>\n",
       "      <th>1</th>\n",
       "      <td>0.000000</td>\n",
       "      <td>0.002717</td>\n",
       "      <td>0.980000</td>\n",
       "    </tr>\n",
       "    <tr>\n",
       "      <th>2</th>\n",
       "      <td>0.000000</td>\n",
       "      <td>0.019022</td>\n",
       "      <td>0.953043</td>\n",
       "    </tr>\n",
       "    <tr>\n",
       "      <th>3</th>\n",
       "      <td>0.000690</td>\n",
       "      <td>0.019022</td>\n",
       "      <td>0.947895</td>\n",
       "    </tr>\n",
       "    <tr>\n",
       "      <th>4</th>\n",
       "      <td>0.000690</td>\n",
       "      <td>0.057065</td>\n",
       "      <td>0.902529</td>\n",
       "    </tr>\n",
       "    <tr>\n",
       "      <th>...</th>\n",
       "      <td>...</td>\n",
       "      <td>...</td>\n",
       "      <td>...</td>\n",
       "    </tr>\n",
       "    <tr>\n",
       "      <th>392</th>\n",
       "      <td>0.877931</td>\n",
       "      <td>0.994565</td>\n",
       "      <td>0.020984</td>\n",
       "    </tr>\n",
       "    <tr>\n",
       "      <th>393</th>\n",
       "      <td>0.877931</td>\n",
       "      <td>0.997283</td>\n",
       "      <td>0.020976</td>\n",
       "    </tr>\n",
       "    <tr>\n",
       "      <th>394</th>\n",
       "      <td>0.946897</td>\n",
       "      <td>0.997283</td>\n",
       "      <td>0.012387</td>\n",
       "    </tr>\n",
       "    <tr>\n",
       "      <th>395</th>\n",
       "      <td>0.946897</td>\n",
       "      <td>1.000000</td>\n",
       "      <td>0.012332</td>\n",
       "    </tr>\n",
       "    <tr>\n",
       "      <th>396</th>\n",
       "      <td>1.000000</td>\n",
       "      <td>1.000000</td>\n",
       "      <td>0.003495</td>\n",
       "    </tr>\n",
       "  </tbody>\n",
       "</table>\n",
       "<p>397 rows × 3 columns</p>\n",
       "</div>"
      ],
      "text/plain": [
       "          FPR       TPR  thresholds\n",
       "0    0.000000  0.000000    1.980000\n",
       "1    0.000000  0.002717    0.980000\n",
       "2    0.000000  0.019022    0.953043\n",
       "3    0.000690  0.019022    0.947895\n",
       "4    0.000690  0.057065    0.902529\n",
       "..        ...       ...         ...\n",
       "392  0.877931  0.994565    0.020984\n",
       "393  0.877931  0.997283    0.020976\n",
       "394  0.946897  0.997283    0.012387\n",
       "395  0.946897  1.000000    0.012332\n",
       "396  1.000000  1.000000    0.003495\n",
       "\n",
       "[397 rows x 3 columns]"
      ]
     },
     "execution_count": 23,
     "metadata": {},
     "output_type": "execute_result"
    },
    {
     "data": {
      "image/png": "[encoded data removed]",
      "text/plain": [
       "<Figure size 720x720 with 1 Axes>"
      ]
     },
     "metadata": {
      "needs_background": "light"
     },
     "output_type": "display_data"
    }
   ],
   "source": [
    "max_f1, best_accuracy, max_depth, max_est, forest_model = random_forest(X_train, X_valid,\n",
    "                                                                      Y_train, Y_valid)\n",
    "\n",
    "print('best train accuracy: ', best_accuracy)\n",
    "print('train f1: ', max_f1)\n",
    "print('depth:', max_depth)\n",
    "print('estimatores:', max_est)\n",
    "\n",
    "ROC_AUC_info(forest_model, X_valid, Y_valid)"
   ]
  },
  {
   "cell_type": "markdown",
   "metadata": {},
   "source": [
    "### Tree classifier"
   ]
  },
  {
   "cell_type": "code",
   "execution_count": 24,
   "metadata": {},
   "outputs": [],
   "source": [
    "max_f1, best_accuracy, max_depth, tree_model = tree_classifier(X_train, X_valid, \n",
    "                                                               Y_train, Y_valid)"
   ]
  },
  {
   "cell_type": "code",
   "execution_count": 25,
   "metadata": {},
   "outputs": [
    {
     "name": "stdout",
     "output_type": "stream",
     "text": [
      "best train accuracy:  0.8553355335533553\n",
      "train f1:  0.5709624796084829\n",
      "depth: 7\n",
      "AUC =  0.8070230509745128\n"
     ]
    },
    {
     "data": {
      "text/html": [
       "<div>\n",
       "<style scoped>\n",
       "    .dataframe tbody tr th:only-of-type {\n",
       "        vertical-align: middle;\n",
       "    }\n",
       "\n",
       "    .dataframe tbody tr th {\n",
       "        vertical-align: top;\n",
       "    }\n",
       "\n",
       "    .dataframe thead th {\n",
       "        text-align: right;\n",
       "    }\n",
       "</style>\n",
       "<table border=\"1\" class=\"dataframe\">\n",
       "  <thead>\n",
       "    <tr style=\"text-align: right;\">\n",
       "      <th></th>\n",
       "      <th>FPR</th>\n",
       "      <th>TPR</th>\n",
       "      <th>thresholds</th>\n",
       "    </tr>\n",
       "  </thead>\n",
       "  <tbody>\n",
       "    <tr>\n",
       "      <th>0</th>\n",
       "      <td>0.000000</td>\n",
       "      <td>0.000000</td>\n",
       "      <td>2.000000</td>\n",
       "    </tr>\n",
       "    <tr>\n",
       "      <th>1</th>\n",
       "      <td>0.004138</td>\n",
       "      <td>0.097826</td>\n",
       "      <td>1.000000</td>\n",
       "    </tr>\n",
       "    <tr>\n",
       "      <th>2</th>\n",
       "      <td>0.006207</td>\n",
       "      <td>0.173913</td>\n",
       "      <td>0.928571</td>\n",
       "    </tr>\n",
       "    <tr>\n",
       "      <th>3</th>\n",
       "      <td>0.007586</td>\n",
       "      <td>0.187500</td>\n",
       "      <td>0.885714</td>\n",
       "    </tr>\n",
       "    <tr>\n",
       "      <th>4</th>\n",
       "      <td>0.007586</td>\n",
       "      <td>0.211957</td>\n",
       "      <td>0.866667</td>\n",
       "    </tr>\n",
       "    <tr>\n",
       "      <th>5</th>\n",
       "      <td>0.009655</td>\n",
       "      <td>0.274457</td>\n",
       "      <td>0.831169</td>\n",
       "    </tr>\n",
       "    <tr>\n",
       "      <th>6</th>\n",
       "      <td>0.017241</td>\n",
       "      <td>0.336957</td>\n",
       "      <td>0.814433</td>\n",
       "    </tr>\n",
       "    <tr>\n",
       "      <th>7</th>\n",
       "      <td>0.018621</td>\n",
       "      <td>0.347826</td>\n",
       "      <td>0.800000</td>\n",
       "    </tr>\n",
       "    <tr>\n",
       "      <th>8</th>\n",
       "      <td>0.020000</td>\n",
       "      <td>0.347826</td>\n",
       "      <td>0.750000</td>\n",
       "    </tr>\n",
       "    <tr>\n",
       "      <th>9</th>\n",
       "      <td>0.029655</td>\n",
       "      <td>0.402174</td>\n",
       "      <td>0.610619</td>\n",
       "    </tr>\n",
       "    <tr>\n",
       "      <th>10</th>\n",
       "      <td>0.032414</td>\n",
       "      <td>0.410326</td>\n",
       "      <td>0.600000</td>\n",
       "    </tr>\n",
       "    <tr>\n",
       "      <th>11</th>\n",
       "      <td>0.040000</td>\n",
       "      <td>0.445652</td>\n",
       "      <td>0.597015</td>\n",
       "    </tr>\n",
       "    <tr>\n",
       "      <th>12</th>\n",
       "      <td>0.046207</td>\n",
       "      <td>0.459239</td>\n",
       "      <td>0.567568</td>\n",
       "    </tr>\n",
       "    <tr>\n",
       "      <th>13</th>\n",
       "      <td>0.048276</td>\n",
       "      <td>0.475543</td>\n",
       "      <td>0.516129</td>\n",
       "    </tr>\n",
       "    <tr>\n",
       "      <th>14</th>\n",
       "      <td>0.056552</td>\n",
       "      <td>0.475543</td>\n",
       "      <td>0.500000</td>\n",
       "    </tr>\n",
       "    <tr>\n",
       "      <th>15</th>\n",
       "      <td>0.095172</td>\n",
       "      <td>0.529891</td>\n",
       "      <td>0.441860</td>\n",
       "    </tr>\n",
       "    <tr>\n",
       "      <th>16</th>\n",
       "      <td>0.108276</td>\n",
       "      <td>0.543478</td>\n",
       "      <td>0.400000</td>\n",
       "    </tr>\n",
       "    <tr>\n",
       "      <th>17</th>\n",
       "      <td>0.111724</td>\n",
       "      <td>0.551630</td>\n",
       "      <td>0.350000</td>\n",
       "    </tr>\n",
       "    <tr>\n",
       "      <th>18</th>\n",
       "      <td>0.112414</td>\n",
       "      <td>0.551630</td>\n",
       "      <td>0.333333</td>\n",
       "    </tr>\n",
       "    <tr>\n",
       "      <th>19</th>\n",
       "      <td>0.115862</td>\n",
       "      <td>0.554348</td>\n",
       "      <td>0.315789</td>\n",
       "    </tr>\n",
       "    <tr>\n",
       "      <th>20</th>\n",
       "      <td>0.126897</td>\n",
       "      <td>0.586957</td>\n",
       "      <td>0.307018</td>\n",
       "    </tr>\n",
       "    <tr>\n",
       "      <th>21</th>\n",
       "      <td>0.128966</td>\n",
       "      <td>0.586957</td>\n",
       "      <td>0.250000</td>\n",
       "    </tr>\n",
       "    <tr>\n",
       "      <th>22</th>\n",
       "      <td>0.164138</td>\n",
       "      <td>0.627717</td>\n",
       "      <td>0.237668</td>\n",
       "    </tr>\n",
       "    <tr>\n",
       "      <th>23</th>\n",
       "      <td>0.169655</td>\n",
       "      <td>0.630435</td>\n",
       "      <td>0.236842</td>\n",
       "    </tr>\n",
       "    <tr>\n",
       "      <th>24</th>\n",
       "      <td>0.190345</td>\n",
       "      <td>0.641304</td>\n",
       "      <td>0.226667</td>\n",
       "    </tr>\n",
       "    <tr>\n",
       "      <th>25</th>\n",
       "      <td>0.229655</td>\n",
       "      <td>0.706522</td>\n",
       "      <td>0.225000</td>\n",
       "    </tr>\n",
       "    <tr>\n",
       "      <th>26</th>\n",
       "      <td>0.231034</td>\n",
       "      <td>0.709239</td>\n",
       "      <td>0.222222</td>\n",
       "    </tr>\n",
       "    <tr>\n",
       "      <th>27</th>\n",
       "      <td>0.240690</td>\n",
       "      <td>0.730978</td>\n",
       "      <td>0.218391</td>\n",
       "    </tr>\n",
       "    <tr>\n",
       "      <th>28</th>\n",
       "      <td>0.244828</td>\n",
       "      <td>0.730978</td>\n",
       "      <td>0.210526</td>\n",
       "    </tr>\n",
       "    <tr>\n",
       "      <th>29</th>\n",
       "      <td>0.246207</td>\n",
       "      <td>0.730978</td>\n",
       "      <td>0.190476</td>\n",
       "    </tr>\n",
       "    <tr>\n",
       "      <th>30</th>\n",
       "      <td>0.248276</td>\n",
       "      <td>0.730978</td>\n",
       "      <td>0.153846</td>\n",
       "    </tr>\n",
       "    <tr>\n",
       "      <th>31</th>\n",
       "      <td>0.252414</td>\n",
       "      <td>0.739130</td>\n",
       "      <td>0.129032</td>\n",
       "    </tr>\n",
       "    <tr>\n",
       "      <th>32</th>\n",
       "      <td>0.318621</td>\n",
       "      <td>0.755435</td>\n",
       "      <td>0.111437</td>\n",
       "    </tr>\n",
       "    <tr>\n",
       "      <th>33</th>\n",
       "      <td>0.319310</td>\n",
       "      <td>0.755435</td>\n",
       "      <td>0.100000</td>\n",
       "    </tr>\n",
       "    <tr>\n",
       "      <th>34</th>\n",
       "      <td>0.335172</td>\n",
       "      <td>0.758152</td>\n",
       "      <td>0.087719</td>\n",
       "    </tr>\n",
       "    <tr>\n",
       "      <th>35</th>\n",
       "      <td>0.345517</td>\n",
       "      <td>0.774457</td>\n",
       "      <td>0.080460</td>\n",
       "    </tr>\n",
       "    <tr>\n",
       "      <th>36</th>\n",
       "      <td>0.348966</td>\n",
       "      <td>0.774457</td>\n",
       "      <td>0.066667</td>\n",
       "    </tr>\n",
       "    <tr>\n",
       "      <th>37</th>\n",
       "      <td>0.546207</td>\n",
       "      <td>0.861413</td>\n",
       "      <td>0.066452</td>\n",
       "    </tr>\n",
       "    <tr>\n",
       "      <th>38</th>\n",
       "      <td>0.564828</td>\n",
       "      <td>0.880435</td>\n",
       "      <td>0.064516</td>\n",
       "    </tr>\n",
       "    <tr>\n",
       "      <th>39</th>\n",
       "      <td>0.585517</td>\n",
       "      <td>0.921196</td>\n",
       "      <td>0.063830</td>\n",
       "    </tr>\n",
       "    <tr>\n",
       "      <th>40</th>\n",
       "      <td>0.682759</td>\n",
       "      <td>0.948370</td>\n",
       "      <td>0.056373</td>\n",
       "    </tr>\n",
       "    <tr>\n",
       "      <th>41</th>\n",
       "      <td>0.696552</td>\n",
       "      <td>0.959239</td>\n",
       "      <td>0.051948</td>\n",
       "    </tr>\n",
       "    <tr>\n",
       "      <th>42</th>\n",
       "      <td>0.735862</td>\n",
       "      <td>0.961957</td>\n",
       "      <td>0.048780</td>\n",
       "    </tr>\n",
       "    <tr>\n",
       "      <th>43</th>\n",
       "      <td>0.748966</td>\n",
       "      <td>0.967391</td>\n",
       "      <td>0.037037</td>\n",
       "    </tr>\n",
       "    <tr>\n",
       "      <th>44</th>\n",
       "      <td>0.964828</td>\n",
       "      <td>0.975543</td>\n",
       "      <td>0.011213</td>\n",
       "    </tr>\n",
       "    <tr>\n",
       "      <th>45</th>\n",
       "      <td>1.000000</td>\n",
       "      <td>1.000000</td>\n",
       "      <td>0.000000</td>\n",
       "    </tr>\n",
       "  </tbody>\n",
       "</table>\n",
       "</div>"
      ],
      "text/plain": [
       "         FPR       TPR  thresholds\n",
       "0   0.000000  0.000000    2.000000\n",
       "1   0.004138  0.097826    1.000000\n",
       "2   0.006207  0.173913    0.928571\n",
       "3   0.007586  0.187500    0.885714\n",
       "4   0.007586  0.211957    0.866667\n",
       "5   0.009655  0.274457    0.831169\n",
       "6   0.017241  0.336957    0.814433\n",
       "7   0.018621  0.347826    0.800000\n",
       "8   0.020000  0.347826    0.750000\n",
       "9   0.029655  0.402174    0.610619\n",
       "10  0.032414  0.410326    0.600000\n",
       "11  0.040000  0.445652    0.597015\n",
       "12  0.046207  0.459239    0.567568\n",
       "13  0.048276  0.475543    0.516129\n",
       "14  0.056552  0.475543    0.500000\n",
       "15  0.095172  0.529891    0.441860\n",
       "16  0.108276  0.543478    0.400000\n",
       "17  0.111724  0.551630    0.350000\n",
       "18  0.112414  0.551630    0.333333\n",
       "19  0.115862  0.554348    0.315789\n",
       "20  0.126897  0.586957    0.307018\n",
       "21  0.128966  0.586957    0.250000\n",
       "22  0.164138  0.627717    0.237668\n",
       "23  0.169655  0.630435    0.236842\n",
       "24  0.190345  0.641304    0.226667\n",
       "25  0.229655  0.706522    0.225000\n",
       "26  0.231034  0.709239    0.222222\n",
       "27  0.240690  0.730978    0.218391\n",
       "28  0.244828  0.730978    0.210526\n",
       "29  0.246207  0.730978    0.190476\n",
       "30  0.248276  0.730978    0.153846\n",
       "31  0.252414  0.739130    0.129032\n",
       "32  0.318621  0.755435    0.111437\n",
       "33  0.319310  0.755435    0.100000\n",
       "34  0.335172  0.758152    0.087719\n",
       "35  0.345517  0.774457    0.080460\n",
       "36  0.348966  0.774457    0.066667\n",
       "37  0.546207  0.861413    0.066452\n",
       "38  0.564828  0.880435    0.064516\n",
       "39  0.585517  0.921196    0.063830\n",
       "40  0.682759  0.948370    0.056373\n",
       "41  0.696552  0.959239    0.051948\n",
       "42  0.735862  0.961957    0.048780\n",
       "43  0.748966  0.967391    0.037037\n",
       "44  0.964828  0.975543    0.011213\n",
       "45  1.000000  1.000000    0.000000"
      ]
     },
     "execution_count": 25,
     "metadata": {},
     "output_type": "execute_result"
    },
    {
     "data": {
      "image/png": "[encoded data removed]",
      "text/plain": [
       "<Figure size 720x720 with 1 Axes>"
      ]
     },
     "metadata": {
      "needs_background": "light"
     },
     "output_type": "display_data"
    }
   ],
   "source": [
    "print('best train accuracy: ', best_accuracy)\n",
    "print('train f1: ', max_f1)\n",
    "print('depth:', max_depth)\n",
    "\n",
    "ROC_AUC_info(tree_model, X_valid, Y_valid)"
   ]
  },
  {
   "cell_type": "markdown",
   "metadata": {},
   "source": [
    "### Logistic Regression"
   ]
  },
  {
   "cell_type": "code",
   "execution_count": 26,
   "metadata": {},
   "outputs": [],
   "source": [
    "accuracy, max_f1, logist_model = logistic_regression(X_train, X_valid, Y_train, Y_valid)"
   ]
  },
  {
   "cell_type": "code",
   "execution_count": 27,
   "metadata": {},
   "outputs": [
    {
     "name": "stdout",
     "output_type": "stream",
     "text": [
      "train accuracy:  0.8107810781078107\n",
      "train f1:  0.28630705394190875\n",
      "AUC =  0.7524137931034482\n"
     ]
    },
    {
     "data": {
      "text/html": [
       "<div>\n",
       "<style scoped>\n",
       "    .dataframe tbody tr th:only-of-type {\n",
       "        vertical-align: middle;\n",
       "    }\n",
       "\n",
       "    .dataframe tbody tr th {\n",
       "        vertical-align: top;\n",
       "    }\n",
       "\n",
       "    .dataframe thead th {\n",
       "        text-align: right;\n",
       "    }\n",
       "</style>\n",
       "<table border=\"1\" class=\"dataframe\">\n",
       "  <thead>\n",
       "    <tr style=\"text-align: right;\">\n",
       "      <th></th>\n",
       "      <th>FPR</th>\n",
       "      <th>TPR</th>\n",
       "      <th>thresholds</th>\n",
       "    </tr>\n",
       "  </thead>\n",
       "  <tbody>\n",
       "    <tr>\n",
       "      <th>0</th>\n",
       "      <td>0.000000</td>\n",
       "      <td>0.000000</td>\n",
       "      <td>1.852764</td>\n",
       "    </tr>\n",
       "    <tr>\n",
       "      <th>1</th>\n",
       "      <td>0.000690</td>\n",
       "      <td>0.000000</td>\n",
       "      <td>0.852764</td>\n",
       "    </tr>\n",
       "    <tr>\n",
       "      <th>2</th>\n",
       "      <td>0.000690</td>\n",
       "      <td>0.021739</td>\n",
       "      <td>0.772643</td>\n",
       "    </tr>\n",
       "    <tr>\n",
       "      <th>3</th>\n",
       "      <td>0.001379</td>\n",
       "      <td>0.021739</td>\n",
       "      <td>0.755143</td>\n",
       "    </tr>\n",
       "    <tr>\n",
       "      <th>4</th>\n",
       "      <td>0.001379</td>\n",
       "      <td>0.048913</td>\n",
       "      <td>0.704498</td>\n",
       "    </tr>\n",
       "    <tr>\n",
       "      <th>...</th>\n",
       "      <td>...</td>\n",
       "      <td>...</td>\n",
       "      <td>...</td>\n",
       "    </tr>\n",
       "    <tr>\n",
       "      <th>497</th>\n",
       "      <td>0.970345</td>\n",
       "      <td>0.994565</td>\n",
       "      <td>0.030139</td>\n",
       "    </tr>\n",
       "    <tr>\n",
       "      <th>498</th>\n",
       "      <td>0.970345</td>\n",
       "      <td>0.997283</td>\n",
       "      <td>0.030125</td>\n",
       "    </tr>\n",
       "    <tr>\n",
       "      <th>499</th>\n",
       "      <td>0.999310</td>\n",
       "      <td>0.997283</td>\n",
       "      <td>0.014866</td>\n",
       "    </tr>\n",
       "    <tr>\n",
       "      <th>500</th>\n",
       "      <td>0.999310</td>\n",
       "      <td>1.000000</td>\n",
       "      <td>0.014706</td>\n",
       "    </tr>\n",
       "    <tr>\n",
       "      <th>501</th>\n",
       "      <td>1.000000</td>\n",
       "      <td>1.000000</td>\n",
       "      <td>0.013576</td>\n",
       "    </tr>\n",
       "  </tbody>\n",
       "</table>\n",
       "<p>502 rows × 3 columns</p>\n",
       "</div>"
      ],
      "text/plain": [
       "          FPR       TPR  thresholds\n",
       "0    0.000000  0.000000    1.852764\n",
       "1    0.000690  0.000000    0.852764\n",
       "2    0.000690  0.021739    0.772643\n",
       "3    0.001379  0.021739    0.755143\n",
       "4    0.001379  0.048913    0.704498\n",
       "..        ...       ...         ...\n",
       "497  0.970345  0.994565    0.030139\n",
       "498  0.970345  0.997283    0.030125\n",
       "499  0.999310  0.997283    0.014866\n",
       "500  0.999310  1.000000    0.014706\n",
       "501  1.000000  1.000000    0.013576\n",
       "\n",
       "[502 rows x 3 columns]"
      ]
     },
     "execution_count": 27,
     "metadata": {},
     "output_type": "execute_result"
    },
    {
     "data": {
      "image/png": "[encoded data removed]",
      "text/plain": [
       "<Figure size 720x720 with 1 Axes>"
      ]
     },
     "metadata": {
      "needs_background": "light"
     },
     "output_type": "display_data"
    }
   ],
   "source": [
    "print('train accuracy: ', accuracy)\n",
    "print('train f1: ', max_f1)\n",
    "\n",
    "ROC_AUC_info(logist_model, X_valid, Y_valid)"
   ]
  },
  {
   "cell_type": "markdown",
   "metadata": {},
   "source": [
    "## Борьба с дисбалансом"
   ]
  },
  {
   "cell_type": "markdown",
   "metadata": {},
   "source": [
    "### Увеличение выборки\n"
   ]
  },
  {
   "cell_type": "code",
   "execution_count": 28,
   "metadata": {},
   "outputs": [],
   "source": [
    "def upsample(X, Y, repeat):\n",
    "    X_zero = X[Y == 0]\n",
    "    X_ones = X[Y == 1]\n",
    "    \n",
    "    Y_zero = Y[Y == 0]\n",
    "    Y_ones = Y[Y == 1]\n",
    "    \n",
    "    X_upsample = pd.concat([X_zero] + [X_ones] * repeat)\n",
    "    Y_upsample = pd.concat([Y_zero] + [Y_ones] * repeat)\n",
    "    \n",
    "    X_upsample, Y_upsample = shuffle(X_upsample, Y_upsample, random_state=12345)\n",
    "    \n",
    "    return X_upsample, Y_upsample"
   ]
  },
  {
   "cell_type": "code",
   "execution_count": 29,
   "metadata": {
    "scrolled": true
   },
   "outputs": [],
   "source": [
    "up_X_train, up_Y_train = upsample(X_train, Y_train, 4)\n"
   ]
  },
  {
   "cell_type": "code",
   "execution_count": 30,
   "metadata": {},
   "outputs": [
    {
     "name": "stdout",
     "output_type": "stream",
     "text": [
      "precent_zero_class =  0.49115646258503404\n",
      "precent_one_class =  0.508843537414966\n"
     ]
    }
   ],
   "source": [
    "zero_class = up_X_train[up_Y_train == 0]\n",
    "print('precent_zero_class = ', len(zero_class)/len(up_X_train))\n",
    "print('precent_one_class = ', 1 - (len(zero_class)/len(up_X_train)))"
   ]
  },
  {
   "cell_type": "markdown",
   "metadata": {},
   "source": [
    "#### random forest"
   ]
  },
  {
   "cell_type": "code",
   "execution_count": 32,
   "metadata": {
    "scrolled": false
   },
   "outputs": [
    {
     "name": "stdout",
     "output_type": "stream",
     "text": [
      "----------values train metrics----------\n",
      "best train accuracy:  0.8283828382838284\n",
      "train f1:  0.5894736842105263\n",
      "depth: 12\n",
      "estimatores: 130\n",
      "AUC =  0.8465236131934033\n"
     ]
    },
    {
     "data": {
      "text/html": [
       "<div>\n",
       "<style scoped>\n",
       "    .dataframe tbody tr th:only-of-type {\n",
       "        vertical-align: middle;\n",
       "    }\n",
       "\n",
       "    .dataframe tbody tr th {\n",
       "        vertical-align: top;\n",
       "    }\n",
       "\n",
       "    .dataframe thead th {\n",
       "        text-align: right;\n",
       "    }\n",
       "</style>\n",
       "<table border=\"1\" class=\"dataframe\">\n",
       "  <thead>\n",
       "    <tr style=\"text-align: right;\">\n",
       "      <th></th>\n",
       "      <th>FPR</th>\n",
       "      <th>TPR</th>\n",
       "      <th>thresholds</th>\n",
       "    </tr>\n",
       "  </thead>\n",
       "  <tbody>\n",
       "    <tr>\n",
       "      <th>0</th>\n",
       "      <td>0.000000</td>\n",
       "      <td>0.000000</td>\n",
       "      <td>1.979224</td>\n",
       "    </tr>\n",
       "    <tr>\n",
       "      <th>1</th>\n",
       "      <td>0.000000</td>\n",
       "      <td>0.002717</td>\n",
       "      <td>0.979224</td>\n",
       "    </tr>\n",
       "    <tr>\n",
       "      <th>2</th>\n",
       "      <td>0.000000</td>\n",
       "      <td>0.016304</td>\n",
       "      <td>0.965622</td>\n",
       "    </tr>\n",
       "    <tr>\n",
       "      <th>3</th>\n",
       "      <td>0.000690</td>\n",
       "      <td>0.016304</td>\n",
       "      <td>0.964472</td>\n",
       "    </tr>\n",
       "    <tr>\n",
       "      <th>4</th>\n",
       "      <td>0.000690</td>\n",
       "      <td>0.171196</td>\n",
       "      <td>0.890692</td>\n",
       "    </tr>\n",
       "    <tr>\n",
       "      <th>...</th>\n",
       "      <td>...</td>\n",
       "      <td>...</td>\n",
       "      <td>...</td>\n",
       "    </tr>\n",
       "    <tr>\n",
       "      <th>397</th>\n",
       "      <td>0.866897</td>\n",
       "      <td>0.994565</td>\n",
       "      <td>0.053490</td>\n",
       "    </tr>\n",
       "    <tr>\n",
       "      <th>398</th>\n",
       "      <td>0.866897</td>\n",
       "      <td>0.997283</td>\n",
       "      <td>0.053439</td>\n",
       "    </tr>\n",
       "    <tr>\n",
       "      <th>399</th>\n",
       "      <td>0.911034</td>\n",
       "      <td>0.997283</td>\n",
       "      <td>0.040061</td>\n",
       "    </tr>\n",
       "    <tr>\n",
       "      <th>400</th>\n",
       "      <td>0.911034</td>\n",
       "      <td>1.000000</td>\n",
       "      <td>0.039889</td>\n",
       "    </tr>\n",
       "    <tr>\n",
       "      <th>401</th>\n",
       "      <td>1.000000</td>\n",
       "      <td>1.000000</td>\n",
       "      <td>0.010011</td>\n",
       "    </tr>\n",
       "  </tbody>\n",
       "</table>\n",
       "<p>402 rows × 3 columns</p>\n",
       "</div>"
      ],
      "text/plain": [
       "          FPR       TPR  thresholds\n",
       "0    0.000000  0.000000    1.979224\n",
       "1    0.000000  0.002717    0.979224\n",
       "2    0.000000  0.016304    0.965622\n",
       "3    0.000690  0.016304    0.964472\n",
       "4    0.000690  0.171196    0.890692\n",
       "..        ...       ...         ...\n",
       "397  0.866897  0.994565    0.053490\n",
       "398  0.866897  0.997283    0.053439\n",
       "399  0.911034  0.997283    0.040061\n",
       "400  0.911034  1.000000    0.039889\n",
       "401  1.000000  1.000000    0.010011\n",
       "\n",
       "[402 rows x 3 columns]"
      ]
     },
     "execution_count": 32,
     "metadata": {},
     "output_type": "execute_result"
    },
    {
     "data": {
      "image/png": "[encoded data removed]",
      "text/plain": [
       "<Figure size 720x720 with 1 Axes>"
      ]
     },
     "metadata": {
      "needs_background": "light"
     },
     "output_type": "display_data"
    }
   ],
   "source": [
    "max_f1, best_accuracy, max_depth, max_est, forest_model = random_forest(up_X_train, X_valid, \n",
    "                                                                      up_Y_train, Y_valid)\n",
    "\n",
    "print('----------values train metrics----------')\n",
    "print('best train accuracy: ', best_accuracy)\n",
    "print('train f1: ', max_f1)\n",
    "print('depth:', max_depth)\n",
    "print('estimatores:', max_est)\n",
    "\n",
    "ROC_AUC_info(forest_model, X_valid, Y_valid)"
   ]
  },
  {
   "cell_type": "markdown",
   "metadata": {},
   "source": [
    "#### Tree classifier"
   ]
  },
  {
   "cell_type": "code",
   "execution_count": 33,
   "metadata": {
    "scrolled": true
   },
   "outputs": [
    {
     "name": "stdout",
     "output_type": "stream",
     "text": [
      "----------values train metrics---------------\n",
      "best train accuracy:  0.7849284928492849\n",
      "train f1:  0.552119129438717\n",
      "depth: 5\n",
      "AUC =  0.8375515367316343\n"
     ]
    },
    {
     "data": {
      "text/html": [
       "<div>\n",
       "<style scoped>\n",
       "    .dataframe tbody tr th:only-of-type {\n",
       "        vertical-align: middle;\n",
       "    }\n",
       "\n",
       "    .dataframe tbody tr th {\n",
       "        vertical-align: top;\n",
       "    }\n",
       "\n",
       "    .dataframe thead th {\n",
       "        text-align: right;\n",
       "    }\n",
       "</style>\n",
       "<table border=\"1\" class=\"dataframe\">\n",
       "  <thead>\n",
       "    <tr style=\"text-align: right;\">\n",
       "      <th></th>\n",
       "      <th>FPR</th>\n",
       "      <th>TPR</th>\n",
       "      <th>thresholds</th>\n",
       "    </tr>\n",
       "  </thead>\n",
       "  <tbody>\n",
       "    <tr>\n",
       "      <th>0</th>\n",
       "      <td>0.000000</td>\n",
       "      <td>0.000000</td>\n",
       "      <td>2.000000</td>\n",
       "    </tr>\n",
       "    <tr>\n",
       "      <th>1</th>\n",
       "      <td>0.000690</td>\n",
       "      <td>0.059783</td>\n",
       "      <td>1.000000</td>\n",
       "    </tr>\n",
       "    <tr>\n",
       "      <th>2</th>\n",
       "      <td>0.000690</td>\n",
       "      <td>0.073370</td>\n",
       "      <td>0.988506</td>\n",
       "    </tr>\n",
       "    <tr>\n",
       "      <th>3</th>\n",
       "      <td>0.001379</td>\n",
       "      <td>0.078804</td>\n",
       "      <td>0.972973</td>\n",
       "    </tr>\n",
       "    <tr>\n",
       "      <th>4</th>\n",
       "      <td>0.001379</td>\n",
       "      <td>0.108696</td>\n",
       "      <td>0.960000</td>\n",
       "    </tr>\n",
       "    <tr>\n",
       "      <th>5</th>\n",
       "      <td>0.006207</td>\n",
       "      <td>0.271739</td>\n",
       "      <td>0.957473</td>\n",
       "    </tr>\n",
       "    <tr>\n",
       "      <th>6</th>\n",
       "      <td>0.011034</td>\n",
       "      <td>0.309783</td>\n",
       "      <td>0.918919</td>\n",
       "    </tr>\n",
       "    <tr>\n",
       "      <th>7</th>\n",
       "      <td>0.018621</td>\n",
       "      <td>0.358696</td>\n",
       "      <td>0.916667</td>\n",
       "    </tr>\n",
       "    <tr>\n",
       "      <th>8</th>\n",
       "      <td>0.020000</td>\n",
       "      <td>0.358696</td>\n",
       "      <td>0.800000</td>\n",
       "    </tr>\n",
       "    <tr>\n",
       "      <th>9</th>\n",
       "      <td>0.037241</td>\n",
       "      <td>0.413043</td>\n",
       "      <td>0.762836</td>\n",
       "    </tr>\n",
       "    <tr>\n",
       "      <th>10</th>\n",
       "      <td>0.042069</td>\n",
       "      <td>0.418478</td>\n",
       "      <td>0.705882</td>\n",
       "    </tr>\n",
       "    <tr>\n",
       "      <th>11</th>\n",
       "      <td>0.109655</td>\n",
       "      <td>0.557065</td>\n",
       "      <td>0.695829</td>\n",
       "    </tr>\n",
       "    <tr>\n",
       "      <th>12</th>\n",
       "      <td>0.115862</td>\n",
       "      <td>0.576087</td>\n",
       "      <td>0.674157</td>\n",
       "    </tr>\n",
       "    <tr>\n",
       "      <th>13</th>\n",
       "      <td>0.182069</td>\n",
       "      <td>0.654891</td>\n",
       "      <td>0.653313</td>\n",
       "    </tr>\n",
       "    <tr>\n",
       "      <th>14</th>\n",
       "      <td>0.182759</td>\n",
       "      <td>0.657609</td>\n",
       "      <td>0.500000</td>\n",
       "    </tr>\n",
       "    <tr>\n",
       "      <th>15</th>\n",
       "      <td>0.210345</td>\n",
       "      <td>0.695652</td>\n",
       "      <td>0.496644</td>\n",
       "    </tr>\n",
       "    <tr>\n",
       "      <th>16</th>\n",
       "      <td>0.284828</td>\n",
       "      <td>0.804348</td>\n",
       "      <td>0.489426</td>\n",
       "    </tr>\n",
       "    <tr>\n",
       "      <th>17</th>\n",
       "      <td>0.321379</td>\n",
       "      <td>0.828804</td>\n",
       "      <td>0.384000</td>\n",
       "    </tr>\n",
       "    <tr>\n",
       "      <th>18</th>\n",
       "      <td>0.388276</td>\n",
       "      <td>0.845109</td>\n",
       "      <td>0.344828</td>\n",
       "    </tr>\n",
       "    <tr>\n",
       "      <th>19</th>\n",
       "      <td>0.396552</td>\n",
       "      <td>0.845109</td>\n",
       "      <td>0.320000</td>\n",
       "    </tr>\n",
       "    <tr>\n",
       "      <th>20</th>\n",
       "      <td>0.413793</td>\n",
       "      <td>0.861413</td>\n",
       "      <td>0.278261</td>\n",
       "    </tr>\n",
       "    <tr>\n",
       "      <th>21</th>\n",
       "      <td>0.611034</td>\n",
       "      <td>0.956522</td>\n",
       "      <td>0.240495</td>\n",
       "    </tr>\n",
       "    <tr>\n",
       "      <th>22</th>\n",
       "      <td>0.708966</td>\n",
       "      <td>0.983696</td>\n",
       "      <td>0.199584</td>\n",
       "    </tr>\n",
       "    <tr>\n",
       "      <th>23</th>\n",
       "      <td>0.763448</td>\n",
       "      <td>0.991848</td>\n",
       "      <td>0.136882</td>\n",
       "    </tr>\n",
       "    <tr>\n",
       "      <th>24</th>\n",
       "      <td>0.995862</td>\n",
       "      <td>1.000000</td>\n",
       "      <td>0.059480</td>\n",
       "    </tr>\n",
       "    <tr>\n",
       "      <th>25</th>\n",
       "      <td>1.000000</td>\n",
       "      <td>1.000000</td>\n",
       "      <td>0.000000</td>\n",
       "    </tr>\n",
       "  </tbody>\n",
       "</table>\n",
       "</div>"
      ],
      "text/plain": [
       "         FPR       TPR  thresholds\n",
       "0   0.000000  0.000000    2.000000\n",
       "1   0.000690  0.059783    1.000000\n",
       "2   0.000690  0.073370    0.988506\n",
       "3   0.001379  0.078804    0.972973\n",
       "4   0.001379  0.108696    0.960000\n",
       "5   0.006207  0.271739    0.957473\n",
       "6   0.011034  0.309783    0.918919\n",
       "7   0.018621  0.358696    0.916667\n",
       "8   0.020000  0.358696    0.800000\n",
       "9   0.037241  0.413043    0.762836\n",
       "10  0.042069  0.418478    0.705882\n",
       "11  0.109655  0.557065    0.695829\n",
       "12  0.115862  0.576087    0.674157\n",
       "13  0.182069  0.654891    0.653313\n",
       "14  0.182759  0.657609    0.500000\n",
       "15  0.210345  0.695652    0.496644\n",
       "16  0.284828  0.804348    0.489426\n",
       "17  0.321379  0.828804    0.384000\n",
       "18  0.388276  0.845109    0.344828\n",
       "19  0.396552  0.845109    0.320000\n",
       "20  0.413793  0.861413    0.278261\n",
       "21  0.611034  0.956522    0.240495\n",
       "22  0.708966  0.983696    0.199584\n",
       "23  0.763448  0.991848    0.136882\n",
       "24  0.995862  1.000000    0.059480\n",
       "25  1.000000  1.000000    0.000000"
      ]
     },
     "execution_count": 33,
     "metadata": {},
     "output_type": "execute_result"
    },
    {
     "data": {
      "image/png": "[encoded data removed]",
      "text/plain": [
       "<Figure size 720x720 with 1 Axes>"
      ]
     },
     "metadata": {
      "needs_background": "light"
     },
     "output_type": "display_data"
    }
   ],
   "source": [
    "max_f1, best_accuracy, max_depth, tree_model = tree_classifier(up_X_train, X_valid, \n",
    "                                                                      up_Y_train, Y_valid)\n",
    "\n",
    "print('----------values train metrics---------------')\n",
    "print('best train accuracy: ', best_accuracy)\n",
    "print('train f1: ', max_f1)\n",
    "print('depth:', max_depth)\n",
    "\n",
    "ROC_AUC_info(tree_model, X_valid,  Y_valid)"
   ]
  },
  {
   "cell_type": "markdown",
   "metadata": {},
   "source": [
    "#### Logistic Regression"
   ]
  },
  {
   "cell_type": "code",
   "execution_count": 34,
   "metadata": {},
   "outputs": [],
   "source": [
    "accuracy, max_f1, logist_model = logistic_regression(up_X_train, X_valid, \n",
    "                                                        up_Y_train, Y_valid)"
   ]
  },
  {
   "cell_type": "code",
   "execution_count": 35,
   "metadata": {
    "scrolled": false
   },
   "outputs": [
    {
     "name": "stdout",
     "output_type": "stream",
     "text": [
      "train accuracy:  0.6963696369636964\n",
      "train f1:  0.47826086956521735\n",
      "AUC =  0.7554422788605697\n"
     ]
    },
    {
     "data": {
      "text/html": [
       "<div>\n",
       "<style scoped>\n",
       "    .dataframe tbody tr th:only-of-type {\n",
       "        vertical-align: middle;\n",
       "    }\n",
       "\n",
       "    .dataframe tbody tr th {\n",
       "        vertical-align: top;\n",
       "    }\n",
       "\n",
       "    .dataframe thead th {\n",
       "        text-align: right;\n",
       "    }\n",
       "</style>\n",
       "<table border=\"1\" class=\"dataframe\">\n",
       "  <thead>\n",
       "    <tr style=\"text-align: right;\">\n",
       "      <th></th>\n",
       "      <th>FPR</th>\n",
       "      <th>TPR</th>\n",
       "      <th>thresholds</th>\n",
       "    </tr>\n",
       "  </thead>\n",
       "  <tbody>\n",
       "    <tr>\n",
       "      <th>0</th>\n",
       "      <td>0.000000</td>\n",
       "      <td>0.000000</td>\n",
       "      <td>1.963152</td>\n",
       "    </tr>\n",
       "    <tr>\n",
       "      <th>1</th>\n",
       "      <td>0.000690</td>\n",
       "      <td>0.000000</td>\n",
       "      <td>0.963152</td>\n",
       "    </tr>\n",
       "    <tr>\n",
       "      <th>2</th>\n",
       "      <td>0.000690</td>\n",
       "      <td>0.010870</td>\n",
       "      <td>0.944814</td>\n",
       "    </tr>\n",
       "    <tr>\n",
       "      <th>3</th>\n",
       "      <td>0.001379</td>\n",
       "      <td>0.010870</td>\n",
       "      <td>0.942944</td>\n",
       "    </tr>\n",
       "    <tr>\n",
       "      <th>4</th>\n",
       "      <td>0.001379</td>\n",
       "      <td>0.027174</td>\n",
       "      <td>0.931038</td>\n",
       "    </tr>\n",
       "    <tr>\n",
       "      <th>...</th>\n",
       "      <td>...</td>\n",
       "      <td>...</td>\n",
       "      <td>...</td>\n",
       "    </tr>\n",
       "    <tr>\n",
       "      <th>493</th>\n",
       "      <td>0.969655</td>\n",
       "      <td>0.994565</td>\n",
       "      <td>0.108085</td>\n",
       "    </tr>\n",
       "    <tr>\n",
       "      <th>494</th>\n",
       "      <td>0.969655</td>\n",
       "      <td>0.997283</td>\n",
       "      <td>0.108056</td>\n",
       "    </tr>\n",
       "    <tr>\n",
       "      <th>495</th>\n",
       "      <td>0.999310</td>\n",
       "      <td>0.997283</td>\n",
       "      <td>0.052184</td>\n",
       "    </tr>\n",
       "    <tr>\n",
       "      <th>496</th>\n",
       "      <td>0.999310</td>\n",
       "      <td>1.000000</td>\n",
       "      <td>0.050571</td>\n",
       "    </tr>\n",
       "    <tr>\n",
       "      <th>497</th>\n",
       "      <td>1.000000</td>\n",
       "      <td>1.000000</td>\n",
       "      <td>0.048794</td>\n",
       "    </tr>\n",
       "  </tbody>\n",
       "</table>\n",
       "<p>498 rows × 3 columns</p>\n",
       "</div>"
      ],
      "text/plain": [
       "          FPR       TPR  thresholds\n",
       "0    0.000000  0.000000    1.963152\n",
       "1    0.000690  0.000000    0.963152\n",
       "2    0.000690  0.010870    0.944814\n",
       "3    0.001379  0.010870    0.942944\n",
       "4    0.001379  0.027174    0.931038\n",
       "..        ...       ...         ...\n",
       "493  0.969655  0.994565    0.108085\n",
       "494  0.969655  0.997283    0.108056\n",
       "495  0.999310  0.997283    0.052184\n",
       "496  0.999310  1.000000    0.050571\n",
       "497  1.000000  1.000000    0.048794\n",
       "\n",
       "[498 rows x 3 columns]"
      ]
     },
     "execution_count": 35,
     "metadata": {},
     "output_type": "execute_result"
    },
    {
     "data": {
      "image/png": "[encoded data removed]",
      "text/plain": [
       "<Figure size 720x720 with 1 Axes>"
      ]
     },
     "metadata": {
      "needs_background": "light"
     },
     "output_type": "display_data"
    }
   ],
   "source": [
    "print('train accuracy: ', accuracy)\n",
    "print('train f1: ', max_f1)\n",
    "\n",
    "ROC_AUC_info(logist_model, X_valid, Y_valid)"
   ]
  },
  {
   "cell_type": "markdown",
   "metadata": {},
   "source": [
    "#### Вывод<br>\n",
    "при увеличении класса-меньшинства удалось увеличить показатели метрик. Моделью с саомыми выслкими показателями метрик является random forest:<br>\n",
    "best train accuracy:  0.8283828382838284<br>\n",
    "train f1:  0.5894736842105263<br>\n",
    "depth: 12<br>\n",
    "estimatores: 130<br>\n",
    "AUC =  0.8465236131934033"
   ]
  },
  {
   "cell_type": "markdown",
   "metadata": {},
   "source": [
    "### Взвешивание классов"
   ]
  },
  {
   "cell_type": "markdown",
   "metadata": {},
   "source": [
    "#### random forest"
   ]
  },
  {
   "cell_type": "code",
   "execution_count": 36,
   "metadata": {},
   "outputs": [],
   "source": [
    "max_f1, best_accuracy, max_depth, max_est, forest_model = random_forest(X_train, X_valid, \n",
    "                                                                          Y_train, Y_valid, class_balance=True)"
   ]
  },
  {
   "cell_type": "code",
   "execution_count": 37,
   "metadata": {},
   "outputs": [
    {
     "name": "stdout",
     "output_type": "stream",
     "text": [
      "best train accuracy:  0.8393839383938394\n",
      "train f1:  0.6010928961748634\n",
      "depth: 10\n",
      "estimatores: 60\n",
      "AUC =  0.8534201649175412\n"
     ]
    },
    {
     "data": {
      "text/html": [
       "<div>\n",
       "<style scoped>\n",
       "    .dataframe tbody tr th:only-of-type {\n",
       "        vertical-align: middle;\n",
       "    }\n",
       "\n",
       "    .dataframe tbody tr th {\n",
       "        vertical-align: top;\n",
       "    }\n",
       "\n",
       "    .dataframe thead th {\n",
       "        text-align: right;\n",
       "    }\n",
       "</style>\n",
       "<table border=\"1\" class=\"dataframe\">\n",
       "  <thead>\n",
       "    <tr style=\"text-align: right;\">\n",
       "      <th></th>\n",
       "      <th>FPR</th>\n",
       "      <th>TPR</th>\n",
       "      <th>thresholds</th>\n",
       "    </tr>\n",
       "  </thead>\n",
       "  <tbody>\n",
       "    <tr>\n",
       "      <th>0</th>\n",
       "      <td>0.000000</td>\n",
       "      <td>0.000000</td>\n",
       "      <td>1.969858</td>\n",
       "    </tr>\n",
       "    <tr>\n",
       "      <th>1</th>\n",
       "      <td>0.000000</td>\n",
       "      <td>0.002717</td>\n",
       "      <td>0.969858</td>\n",
       "    </tr>\n",
       "    <tr>\n",
       "      <th>2</th>\n",
       "      <td>0.000000</td>\n",
       "      <td>0.005435</td>\n",
       "      <td>0.969426</td>\n",
       "    </tr>\n",
       "    <tr>\n",
       "      <th>3</th>\n",
       "      <td>0.000690</td>\n",
       "      <td>0.005435</td>\n",
       "      <td>0.969078</td>\n",
       "    </tr>\n",
       "    <tr>\n",
       "      <th>4</th>\n",
       "      <td>0.000690</td>\n",
       "      <td>0.086957</td>\n",
       "      <td>0.895325</td>\n",
       "    </tr>\n",
       "    <tr>\n",
       "      <th>...</th>\n",
       "      <td>...</td>\n",
       "      <td>...</td>\n",
       "      <td>...</td>\n",
       "    </tr>\n",
       "    <tr>\n",
       "      <th>399</th>\n",
       "      <td>0.822759</td>\n",
       "      <td>0.994565</td>\n",
       "      <td>0.085858</td>\n",
       "    </tr>\n",
       "    <tr>\n",
       "      <th>400</th>\n",
       "      <td>0.822759</td>\n",
       "      <td>0.997283</td>\n",
       "      <td>0.085131</td>\n",
       "    </tr>\n",
       "    <tr>\n",
       "      <th>401</th>\n",
       "      <td>0.865517</td>\n",
       "      <td>0.997283</td>\n",
       "      <td>0.072588</td>\n",
       "    </tr>\n",
       "    <tr>\n",
       "      <th>402</th>\n",
       "      <td>0.865517</td>\n",
       "      <td>1.000000</td>\n",
       "      <td>0.072488</td>\n",
       "    </tr>\n",
       "    <tr>\n",
       "      <th>403</th>\n",
       "      <td>1.000000</td>\n",
       "      <td>1.000000</td>\n",
       "      <td>0.017517</td>\n",
       "    </tr>\n",
       "  </tbody>\n",
       "</table>\n",
       "<p>404 rows × 3 columns</p>\n",
       "</div>"
      ],
      "text/plain": [
       "          FPR       TPR  thresholds\n",
       "0    0.000000  0.000000    1.969858\n",
       "1    0.000000  0.002717    0.969858\n",
       "2    0.000000  0.005435    0.969426\n",
       "3    0.000690  0.005435    0.969078\n",
       "4    0.000690  0.086957    0.895325\n",
       "..        ...       ...         ...\n",
       "399  0.822759  0.994565    0.085858\n",
       "400  0.822759  0.997283    0.085131\n",
       "401  0.865517  0.997283    0.072588\n",
       "402  0.865517  1.000000    0.072488\n",
       "403  1.000000  1.000000    0.017517\n",
       "\n",
       "[404 rows x 3 columns]"
      ]
     },
     "execution_count": 37,
     "metadata": {},
     "output_type": "execute_result"
    },
    {
     "data": {
      "image/png": "[encoded data removed]",
      "text/plain": [
       "<Figure size 720x720 with 1 Axes>"
      ]
     },
     "metadata": {
      "needs_background": "light"
     },
     "output_type": "display_data"
    }
   ],
   "source": [
    "print('best train accuracy: ', best_accuracy)\n",
    "print('train f1: ', max_f1)\n",
    "print('depth:', max_depth)\n",
    "print('estimatores:', max_est)\n",
    "\n",
    "ROC_AUC_info(forest_model, X_valid, Y_valid)"
   ]
  },
  {
   "cell_type": "markdown",
   "metadata": {},
   "source": [
    "#### Tree classifier"
   ]
  },
  {
   "cell_type": "code",
   "execution_count": 38,
   "metadata": {},
   "outputs": [],
   "source": [
    "max_f1, best_accuracy, max_depth, logist_model = tree_classifier(X_train, X_valid, \n",
    "                                                                 Y_train, Y_valid, class_balance=True)"
   ]
  },
  {
   "cell_type": "code",
   "execution_count": 39,
   "metadata": {
    "scrolled": true
   },
   "outputs": [
    {
     "name": "stdout",
     "output_type": "stream",
     "text": [
      "best train accuracy:  0.7821782178217822\n",
      "train f1:  0.5530474040632054\n",
      "depth: 9\n",
      "AUC =  0.7752970389805097\n"
     ]
    },
    {
     "data": {
      "text/html": [
       "<div>\n",
       "<style scoped>\n",
       "    .dataframe tbody tr th:only-of-type {\n",
       "        vertical-align: middle;\n",
       "    }\n",
       "\n",
       "    .dataframe tbody tr th {\n",
       "        vertical-align: top;\n",
       "    }\n",
       "\n",
       "    .dataframe thead th {\n",
       "        text-align: right;\n",
       "    }\n",
       "</style>\n",
       "<table border=\"1\" class=\"dataframe\">\n",
       "  <thead>\n",
       "    <tr style=\"text-align: right;\">\n",
       "      <th></th>\n",
       "      <th>FPR</th>\n",
       "      <th>TPR</th>\n",
       "      <th>thresholds</th>\n",
       "    </tr>\n",
       "  </thead>\n",
       "  <tbody>\n",
       "    <tr>\n",
       "      <th>0</th>\n",
       "      <td>0.000000</td>\n",
       "      <td>0.000000</td>\n",
       "      <td>2.000000</td>\n",
       "    </tr>\n",
       "    <tr>\n",
       "      <th>1</th>\n",
       "      <td>0.015172</td>\n",
       "      <td>0.146739</td>\n",
       "      <td>1.000000</td>\n",
       "    </tr>\n",
       "    <tr>\n",
       "      <th>2</th>\n",
       "      <td>0.015862</td>\n",
       "      <td>0.152174</td>\n",
       "      <td>0.989323</td>\n",
       "    </tr>\n",
       "    <tr>\n",
       "      <th>3</th>\n",
       "      <td>0.016552</td>\n",
       "      <td>0.252717</td>\n",
       "      <td>0.984232</td>\n",
       "    </tr>\n",
       "    <tr>\n",
       "      <th>4</th>\n",
       "      <td>0.017931</td>\n",
       "      <td>0.260870</td>\n",
       "      <td>0.972027</td>\n",
       "    </tr>\n",
       "    <tr>\n",
       "      <th>...</th>\n",
       "      <td>...</td>\n",
       "      <td>...</td>\n",
       "      <td>...</td>\n",
       "    </tr>\n",
       "    <tr>\n",
       "      <th>61</th>\n",
       "      <td>0.558621</td>\n",
       "      <td>0.861413</td>\n",
       "      <td>0.101530</td>\n",
       "    </tr>\n",
       "    <tr>\n",
       "      <th>62</th>\n",
       "      <td>0.648966</td>\n",
       "      <td>0.864130</td>\n",
       "      <td>0.075912</td>\n",
       "    </tr>\n",
       "    <tr>\n",
       "      <th>63</th>\n",
       "      <td>0.664828</td>\n",
       "      <td>0.864130</td>\n",
       "      <td>0.066728</td>\n",
       "    </tr>\n",
       "    <tr>\n",
       "      <th>64</th>\n",
       "      <td>0.789655</td>\n",
       "      <td>0.869565</td>\n",
       "      <td>0.007060</td>\n",
       "    </tr>\n",
       "    <tr>\n",
       "      <th>65</th>\n",
       "      <td>1.000000</td>\n",
       "      <td>1.000000</td>\n",
       "      <td>0.000000</td>\n",
       "    </tr>\n",
       "  </tbody>\n",
       "</table>\n",
       "<p>66 rows × 3 columns</p>\n",
       "</div>"
      ],
      "text/plain": [
       "         FPR       TPR  thresholds\n",
       "0   0.000000  0.000000    2.000000\n",
       "1   0.015172  0.146739    1.000000\n",
       "2   0.015862  0.152174    0.989323\n",
       "3   0.016552  0.252717    0.984232\n",
       "4   0.017931  0.260870    0.972027\n",
       "..       ...       ...         ...\n",
       "61  0.558621  0.861413    0.101530\n",
       "62  0.648966  0.864130    0.075912\n",
       "63  0.664828  0.864130    0.066728\n",
       "64  0.789655  0.869565    0.007060\n",
       "65  1.000000  1.000000    0.000000\n",
       "\n",
       "[66 rows x 3 columns]"
      ]
     },
     "execution_count": 39,
     "metadata": {},
     "output_type": "execute_result"
    },
    {
     "data": {
      "image/png": "[encoded data removed]",
      "text/plain": [
       "<Figure size 720x720 with 1 Axes>"
      ]
     },
     "metadata": {
      "needs_background": "light"
     },
     "output_type": "display_data"
    }
   ],
   "source": [
    "print('best train accuracy: ', best_accuracy)\n",
    "print('train f1: ', max_f1)\n",
    "print('depth:', max_depth)\n",
    "\n",
    "ROC_AUC_info(logist_model, X_valid, Y_valid)"
   ]
  },
  {
   "cell_type": "markdown",
   "metadata": {},
   "source": [
    "#### Logistic Regression"
   ]
  },
  {
   "cell_type": "code",
   "execution_count": 40,
   "metadata": {},
   "outputs": [
    {
     "name": "stdout",
     "output_type": "stream",
     "text": [
      "------------values train metrics----------------\n",
      "train accuracy:  0.7068206820682068\n",
      "train f1:  0.48302618816682824\n",
      "AUC =  0.7554029235382307\n"
     ]
    },
    {
     "data": {
      "text/html": [
       "<div>\n",
       "<style scoped>\n",
       "    .dataframe tbody tr th:only-of-type {\n",
       "        vertical-align: middle;\n",
       "    }\n",
       "\n",
       "    .dataframe tbody tr th {\n",
       "        vertical-align: top;\n",
       "    }\n",
       "\n",
       "    .dataframe thead th {\n",
       "        text-align: right;\n",
       "    }\n",
       "</style>\n",
       "<table border=\"1\" class=\"dataframe\">\n",
       "  <thead>\n",
       "    <tr style=\"text-align: right;\">\n",
       "      <th></th>\n",
       "      <th>FPR</th>\n",
       "      <th>TPR</th>\n",
       "      <th>thresholds</th>\n",
       "    </tr>\n",
       "  </thead>\n",
       "  <tbody>\n",
       "    <tr>\n",
       "      <th>0</th>\n",
       "      <td>0.000000</td>\n",
       "      <td>0.000000</td>\n",
       "      <td>1.961671</td>\n",
       "    </tr>\n",
       "    <tr>\n",
       "      <th>1</th>\n",
       "      <td>0.000690</td>\n",
       "      <td>0.000000</td>\n",
       "      <td>0.961671</td>\n",
       "    </tr>\n",
       "    <tr>\n",
       "      <th>2</th>\n",
       "      <td>0.000690</td>\n",
       "      <td>0.010870</td>\n",
       "      <td>0.942716</td>\n",
       "    </tr>\n",
       "    <tr>\n",
       "      <th>3</th>\n",
       "      <td>0.001379</td>\n",
       "      <td>0.010870</td>\n",
       "      <td>0.940529</td>\n",
       "    </tr>\n",
       "    <tr>\n",
       "      <th>4</th>\n",
       "      <td>0.001379</td>\n",
       "      <td>0.027174</td>\n",
       "      <td>0.928375</td>\n",
       "    </tr>\n",
       "    <tr>\n",
       "      <th>...</th>\n",
       "      <td>...</td>\n",
       "      <td>...</td>\n",
       "      <td>...</td>\n",
       "    </tr>\n",
       "    <tr>\n",
       "      <th>481</th>\n",
       "      <td>0.970345</td>\n",
       "      <td>0.994565</td>\n",
       "      <td>0.104957</td>\n",
       "    </tr>\n",
       "    <tr>\n",
       "      <th>482</th>\n",
       "      <td>0.970345</td>\n",
       "      <td>0.997283</td>\n",
       "      <td>0.104900</td>\n",
       "    </tr>\n",
       "    <tr>\n",
       "      <th>483</th>\n",
       "      <td>0.999310</td>\n",
       "      <td>0.997283</td>\n",
       "      <td>0.050711</td>\n",
       "    </tr>\n",
       "    <tr>\n",
       "      <th>484</th>\n",
       "      <td>0.999310</td>\n",
       "      <td>1.000000</td>\n",
       "      <td>0.049110</td>\n",
       "    </tr>\n",
       "    <tr>\n",
       "      <th>485</th>\n",
       "      <td>1.000000</td>\n",
       "      <td>1.000000</td>\n",
       "      <td>0.047394</td>\n",
       "    </tr>\n",
       "  </tbody>\n",
       "</table>\n",
       "<p>486 rows × 3 columns</p>\n",
       "</div>"
      ],
      "text/plain": [
       "          FPR       TPR  thresholds\n",
       "0    0.000000  0.000000    1.961671\n",
       "1    0.000690  0.000000    0.961671\n",
       "2    0.000690  0.010870    0.942716\n",
       "3    0.001379  0.010870    0.940529\n",
       "4    0.001379  0.027174    0.928375\n",
       "..        ...       ...         ...\n",
       "481  0.970345  0.994565    0.104957\n",
       "482  0.970345  0.997283    0.104900\n",
       "483  0.999310  0.997283    0.050711\n",
       "484  0.999310  1.000000    0.049110\n",
       "485  1.000000  1.000000    0.047394\n",
       "\n",
       "[486 rows x 3 columns]"
      ]
     },
     "execution_count": 40,
     "metadata": {},
     "output_type": "execute_result"
    },
    {
     "data": {
      "image/png": "[encoded data removed]",
      "text/plain": [
       "<Figure size 720x720 with 1 Axes>"
      ]
     },
     "metadata": {
      "needs_background": "light"
     },
     "output_type": "display_data"
    }
   ],
   "source": [
    "accuracy, max_f1, logist_model = logistic_regression(X_train, X_valid, Y_train, Y_valid, class_balance=True)\n",
    "\n",
    "print('------------values train metrics----------------')\n",
    "print('train accuracy: ', accuracy)\n",
    "print('train f1: ', max_f1)\n",
    "\n",
    "ROC_AUC_info(logist_model, X_valid, Y_valid)"
   ]
  },
  {
   "cell_type": "markdown",
   "metadata": {},
   "source": [
    "####  Вывод<br>\n",
    "при указании баланса значимости классов удалось повысить значения метрик. Лучшей моделью стал - random forest<br>\n",
    "best train accuracy:  0.8393839383938394<br>\n",
    "train f1:  0.6010928961748634<br>\n",
    "depth: 10<br>\n",
    "estimatores: 60<br>\n",
    "AUC =  0.8534201649175412<br>"
   ]
  },
  {
   "cell_type": "markdown",
   "metadata": {},
   "source": [
    "### Уменьшение выборки"
   ]
  },
  {
   "cell_type": "code",
   "execution_count": 41,
   "metadata": {},
   "outputs": [],
   "source": [
    "def downsample(X, Y, fraction):\n",
    "    X_one = X[Y == 1]\n",
    "    X_zero = X[Y == 0]\n",
    "    \n",
    "    Y_one = Y[Y == 1]\n",
    "    Y_zero = Y[Y == 0]\n",
    "    \n",
    "    X_downsample = pd.concat([X_zero.sample(frac=fraction, random_state=1234)] + [X_one])\n",
    "    Y_downsample = pd.concat([Y_zero.sample(frac=fraction, random_state=1234)] + [Y_one])\n",
    "    \n",
    "    X_downsample, Y_downsample = shuffle(X_downsample, Y_downsample, random_state=1234)\n",
    "        \n",
    "    return X_downsample, Y_downsample"
   ]
  },
  {
   "cell_type": "code",
   "execution_count": 42,
   "metadata": {},
   "outputs": [],
   "source": [
    "ds_X_train, ds_Y_train = downsample(X_train, Y_train, fraction=0.25)"
   ]
  },
  {
   "cell_type": "code",
   "execution_count": 43,
   "metadata": {
    "scrolled": true
   },
   "outputs": [
    {
     "name": "stdout",
     "output_type": "stream",
     "text": [
      "precent_zero_class =  0.49115646258503404\n",
      "precent_one_class =  0.508843537414966\n"
     ]
    }
   ],
   "source": [
    "zero_class = ds_X_train[ds_Y_train == 0]\n",
    "print('precent_zero_class = ', len(zero_class)/len(ds_X_train))\n",
    "print('precent_one_class = ', 1 - (len(zero_class)/len(ds_X_train)))"
   ]
  },
  {
   "cell_type": "markdown",
   "metadata": {},
   "source": [
    "#### random forest"
   ]
  },
  {
   "cell_type": "code",
   "execution_count": 44,
   "metadata": {
    "scrolled": true
   },
   "outputs": [
    {
     "name": "stdout",
     "output_type": "stream",
     "text": [
      "-------------values train metrics-----------\n",
      "best train accuracy:  0.7739273927392739\n",
      "train f1:  0.5714285714285714\n",
      "depth: 11\n",
      "estimatores: 50\n",
      "AUC =  0.841319340329835\n"
     ]
    },
    {
     "data": {
      "text/html": [
       "<div>\n",
       "<style scoped>\n",
       "    .dataframe tbody tr th:only-of-type {\n",
       "        vertical-align: middle;\n",
       "    }\n",
       "\n",
       "    .dataframe tbody tr th {\n",
       "        vertical-align: top;\n",
       "    }\n",
       "\n",
       "    .dataframe thead th {\n",
       "        text-align: right;\n",
       "    }\n",
       "</style>\n",
       "<table border=\"1\" class=\"dataframe\">\n",
       "  <thead>\n",
       "    <tr style=\"text-align: right;\">\n",
       "      <th></th>\n",
       "      <th>FPR</th>\n",
       "      <th>TPR</th>\n",
       "      <th>thresholds</th>\n",
       "    </tr>\n",
       "  </thead>\n",
       "  <tbody>\n",
       "    <tr>\n",
       "      <th>0</th>\n",
       "      <td>0.000000</td>\n",
       "      <td>0.000000</td>\n",
       "      <td>1.992260</td>\n",
       "    </tr>\n",
       "    <tr>\n",
       "      <th>1</th>\n",
       "      <td>0.000000</td>\n",
       "      <td>0.002717</td>\n",
       "      <td>0.992260</td>\n",
       "    </tr>\n",
       "    <tr>\n",
       "      <th>2</th>\n",
       "      <td>0.000000</td>\n",
       "      <td>0.021739</td>\n",
       "      <td>0.988065</td>\n",
       "    </tr>\n",
       "    <tr>\n",
       "      <th>3</th>\n",
       "      <td>0.000690</td>\n",
       "      <td>0.021739</td>\n",
       "      <td>0.987671</td>\n",
       "    </tr>\n",
       "    <tr>\n",
       "      <th>4</th>\n",
       "      <td>0.000690</td>\n",
       "      <td>0.062500</td>\n",
       "      <td>0.968560</td>\n",
       "    </tr>\n",
       "    <tr>\n",
       "      <th>...</th>\n",
       "      <td>...</td>\n",
       "      <td>...</td>\n",
       "      <td>...</td>\n",
       "    </tr>\n",
       "    <tr>\n",
       "      <th>405</th>\n",
       "      <td>0.868276</td>\n",
       "      <td>0.994565</td>\n",
       "      <td>0.093947</td>\n",
       "    </tr>\n",
       "    <tr>\n",
       "      <th>406</th>\n",
       "      <td>0.868276</td>\n",
       "      <td>0.997283</td>\n",
       "      <td>0.093901</td>\n",
       "    </tr>\n",
       "    <tr>\n",
       "      <th>407</th>\n",
       "      <td>0.905517</td>\n",
       "      <td>0.997283</td>\n",
       "      <td>0.066128</td>\n",
       "    </tr>\n",
       "    <tr>\n",
       "      <th>408</th>\n",
       "      <td>0.905517</td>\n",
       "      <td>1.000000</td>\n",
       "      <td>0.066078</td>\n",
       "    </tr>\n",
       "    <tr>\n",
       "      <th>409</th>\n",
       "      <td>1.000000</td>\n",
       "      <td>1.000000</td>\n",
       "      <td>0.008210</td>\n",
       "    </tr>\n",
       "  </tbody>\n",
       "</table>\n",
       "<p>410 rows × 3 columns</p>\n",
       "</div>"
      ],
      "text/plain": [
       "          FPR       TPR  thresholds\n",
       "0    0.000000  0.000000    1.992260\n",
       "1    0.000000  0.002717    0.992260\n",
       "2    0.000000  0.021739    0.988065\n",
       "3    0.000690  0.021739    0.987671\n",
       "4    0.000690  0.062500    0.968560\n",
       "..        ...       ...         ...\n",
       "405  0.868276  0.994565    0.093947\n",
       "406  0.868276  0.997283    0.093901\n",
       "407  0.905517  0.997283    0.066128\n",
       "408  0.905517  1.000000    0.066078\n",
       "409  1.000000  1.000000    0.008210\n",
       "\n",
       "[410 rows x 3 columns]"
      ]
     },
     "execution_count": 44,
     "metadata": {},
     "output_type": "execute_result"
    },
    {
     "data": {
      "image/png": "[encoded data removed]",
      "text/plain": [
       "<Figure size 720x720 with 1 Axes>"
      ]
     },
     "metadata": {
      "needs_background": "light"
     },
     "output_type": "display_data"
    }
   ],
   "source": [
    "max_f1, best_accuracy, max_depth, max_est, forest_model = random_forest(ds_X_train, X_valid, \n",
    "                                                                      ds_Y_train, Y_valid)\n",
    "\n",
    "print('-------------values train metrics-----------')\n",
    "print('best train accuracy: ', best_accuracy)\n",
    "print('train f1: ', max_f1)\n",
    "print('depth:', max_depth)\n",
    "print('estimatores:', max_est)\n",
    "\n",
    "ROC_AUC_info(forest_model, X_valid, Y_valid)"
   ]
  },
  {
   "cell_type": "markdown",
   "metadata": {},
   "source": [
    "#### Tree classifier"
   ]
  },
  {
   "cell_type": "code",
   "execution_count": 45,
   "metadata": {
    "scrolled": true
   },
   "outputs": [
    {
     "name": "stdout",
     "output_type": "stream",
     "text": [
      "----------values train metrics---------------\n",
      "best train accuracy:  0.8195819581958196\n",
      "train f1:  0.5506849315068493\n",
      "depth: 3\n",
      "AUC =  0.8003626311844079\n"
     ]
    },
    {
     "data": {
      "text/html": [
       "<div>\n",
       "<style scoped>\n",
       "    .dataframe tbody tr th:only-of-type {\n",
       "        vertical-align: middle;\n",
       "    }\n",
       "\n",
       "    .dataframe tbody tr th {\n",
       "        vertical-align: top;\n",
       "    }\n",
       "\n",
       "    .dataframe thead th {\n",
       "        text-align: right;\n",
       "    }\n",
       "</style>\n",
       "<table border=\"1\" class=\"dataframe\">\n",
       "  <thead>\n",
       "    <tr style=\"text-align: right;\">\n",
       "      <th></th>\n",
       "      <th>FPR</th>\n",
       "      <th>TPR</th>\n",
       "      <th>thresholds</th>\n",
       "    </tr>\n",
       "  </thead>\n",
       "  <tbody>\n",
       "    <tr>\n",
       "      <th>0</th>\n",
       "      <td>0.000000</td>\n",
       "      <td>0.000000</td>\n",
       "      <td>2.000000</td>\n",
       "    </tr>\n",
       "    <tr>\n",
       "      <th>1</th>\n",
       "      <td>0.002069</td>\n",
       "      <td>0.127717</td>\n",
       "      <td>1.000000</td>\n",
       "    </tr>\n",
       "    <tr>\n",
       "      <th>2</th>\n",
       "      <td>0.033793</td>\n",
       "      <td>0.396739</td>\n",
       "      <td>0.901857</td>\n",
       "    </tr>\n",
       "    <tr>\n",
       "      <th>3</th>\n",
       "      <td>0.039310</td>\n",
       "      <td>0.407609</td>\n",
       "      <td>0.833333</td>\n",
       "    </tr>\n",
       "    <tr>\n",
       "      <th>4</th>\n",
       "      <td>0.111034</td>\n",
       "      <td>0.546196</td>\n",
       "      <td>0.697959</td>\n",
       "    </tr>\n",
       "    <tr>\n",
       "      <th>5</th>\n",
       "      <td>0.239310</td>\n",
       "      <td>0.649457</td>\n",
       "      <td>0.434109</td>\n",
       "    </tr>\n",
       "    <tr>\n",
       "      <th>6</th>\n",
       "      <td>0.594483</td>\n",
       "      <td>0.948370</td>\n",
       "      <td>0.412226</td>\n",
       "    </tr>\n",
       "    <tr>\n",
       "      <th>7</th>\n",
       "      <td>1.000000</td>\n",
       "      <td>1.000000</td>\n",
       "      <td>0.157895</td>\n",
       "    </tr>\n",
       "  </tbody>\n",
       "</table>\n",
       "</div>"
      ],
      "text/plain": [
       "        FPR       TPR  thresholds\n",
       "0  0.000000  0.000000    2.000000\n",
       "1  0.002069  0.127717    1.000000\n",
       "2  0.033793  0.396739    0.901857\n",
       "3  0.039310  0.407609    0.833333\n",
       "4  0.111034  0.546196    0.697959\n",
       "5  0.239310  0.649457    0.434109\n",
       "6  0.594483  0.948370    0.412226\n",
       "7  1.000000  1.000000    0.157895"
      ]
     },
     "execution_count": 45,
     "metadata": {},
     "output_type": "execute_result"
    },
    {
     "data": {
      "image/png": "[encoded data removed]",
      "text/plain": [
       "<Figure size 720x720 with 1 Axes>"
      ]
     },
     "metadata": {
      "needs_background": "light"
     },
     "output_type": "display_data"
    }
   ],
   "source": [
    "max_f1, best_accuracy, max_depth, tree_model = tree_classifier(ds_X_train, X_valid, \n",
    "                                                                      ds_Y_train, Y_valid)\n",
    "\n",
    "print('----------values train metrics---------------')\n",
    "print('best train accuracy: ', best_accuracy)\n",
    "print('train f1: ', max_f1)\n",
    "print('depth:', max_depth)\n",
    "\n",
    "ROC_AUC_info(tree_model, X_valid, Y_valid)\n"
   ]
  },
  {
   "cell_type": "markdown",
   "metadata": {},
   "source": [
    "#### logistic regression"
   ]
  },
  {
   "cell_type": "code",
   "execution_count": 46,
   "metadata": {
    "scrolled": true
   },
   "outputs": [
    {
     "name": "stdout",
     "output_type": "stream",
     "text": [
      "------------values train metrics----------------\n",
      "train accuracy:  0.6991199119911992\n",
      "train f1:  0.48151658767772515\n",
      "AUC =  0.7570895802098951\n"
     ]
    },
    {
     "data": {
      "text/html": [
       "<div>\n",
       "<style scoped>\n",
       "    .dataframe tbody tr th:only-of-type {\n",
       "        vertical-align: middle;\n",
       "    }\n",
       "\n",
       "    .dataframe tbody tr th {\n",
       "        vertical-align: top;\n",
       "    }\n",
       "\n",
       "    .dataframe thead th {\n",
       "        text-align: right;\n",
       "    }\n",
       "</style>\n",
       "<table border=\"1\" class=\"dataframe\">\n",
       "  <thead>\n",
       "    <tr style=\"text-align: right;\">\n",
       "      <th></th>\n",
       "      <th>FPR</th>\n",
       "      <th>TPR</th>\n",
       "      <th>thresholds</th>\n",
       "    </tr>\n",
       "  </thead>\n",
       "  <tbody>\n",
       "    <tr>\n",
       "      <th>0</th>\n",
       "      <td>0.000000</td>\n",
       "      <td>0.000000</td>\n",
       "      <td>1.962348</td>\n",
       "    </tr>\n",
       "    <tr>\n",
       "      <th>1</th>\n",
       "      <td>0.000690</td>\n",
       "      <td>0.000000</td>\n",
       "      <td>0.962348</td>\n",
       "    </tr>\n",
       "    <tr>\n",
       "      <th>2</th>\n",
       "      <td>0.000690</td>\n",
       "      <td>0.008152</td>\n",
       "      <td>0.949066</td>\n",
       "    </tr>\n",
       "    <tr>\n",
       "      <th>3</th>\n",
       "      <td>0.001379</td>\n",
       "      <td>0.008152</td>\n",
       "      <td>0.944646</td>\n",
       "    </tr>\n",
       "    <tr>\n",
       "      <th>4</th>\n",
       "      <td>0.001379</td>\n",
       "      <td>0.016304</td>\n",
       "      <td>0.941450</td>\n",
       "    </tr>\n",
       "    <tr>\n",
       "      <th>...</th>\n",
       "      <td>...</td>\n",
       "      <td>...</td>\n",
       "      <td>...</td>\n",
       "    </tr>\n",
       "    <tr>\n",
       "      <th>508</th>\n",
       "      <td>0.972414</td>\n",
       "      <td>0.994565</td>\n",
       "      <td>0.110585</td>\n",
       "    </tr>\n",
       "    <tr>\n",
       "      <th>509</th>\n",
       "      <td>0.982759</td>\n",
       "      <td>0.994565</td>\n",
       "      <td>0.096838</td>\n",
       "    </tr>\n",
       "    <tr>\n",
       "      <th>510</th>\n",
       "      <td>0.982759</td>\n",
       "      <td>0.997283</td>\n",
       "      <td>0.096399</td>\n",
       "    </tr>\n",
       "    <tr>\n",
       "      <th>511</th>\n",
       "      <td>1.000000</td>\n",
       "      <td>0.997283</td>\n",
       "      <td>0.051761</td>\n",
       "    </tr>\n",
       "    <tr>\n",
       "      <th>512</th>\n",
       "      <td>1.000000</td>\n",
       "      <td>1.000000</td>\n",
       "      <td>0.046167</td>\n",
       "    </tr>\n",
       "  </tbody>\n",
       "</table>\n",
       "<p>513 rows × 3 columns</p>\n",
       "</div>"
      ],
      "text/plain": [
       "          FPR       TPR  thresholds\n",
       "0    0.000000  0.000000    1.962348\n",
       "1    0.000690  0.000000    0.962348\n",
       "2    0.000690  0.008152    0.949066\n",
       "3    0.001379  0.008152    0.944646\n",
       "4    0.001379  0.016304    0.941450\n",
       "..        ...       ...         ...\n",
       "508  0.972414  0.994565    0.110585\n",
       "509  0.982759  0.994565    0.096838\n",
       "510  0.982759  0.997283    0.096399\n",
       "511  1.000000  0.997283    0.051761\n",
       "512  1.000000  1.000000    0.046167\n",
       "\n",
       "[513 rows x 3 columns]"
      ]
     },
     "execution_count": 46,
     "metadata": {},
     "output_type": "execute_result"
    },
    {
     "data": {
      "image/png": "[encoded data removed]",
      "text/plain": [
       "<Figure size 720x720 with 1 Axes>"
      ]
     },
     "metadata": {
      "needs_background": "light"
     },
     "output_type": "display_data"
    }
   ],
   "source": [
    "accuracy, max_f1, logist_model = logistic_regression(ds_X_train, X_valid, ds_Y_train, Y_valid)\n",
    "\n",
    "print('------------values train metrics----------------')\n",
    "print('train accuracy: ', accuracy)\n",
    "print('train f1: ', max_f1)\n",
    "\n",
    "ROC_AUC_info(logist_model, X_valid, Y_valid)"
   ]
  },
  {
   "cell_type": "markdown",
   "metadata": {},
   "source": [
    "#### Вывод:<br>\n",
    "За счет взвешивания класса удалось увеличить значения метрик. Лучшей моделю оказался - random forest<br>\n",
    "best train accuracy:  0.7739273927392739<br>\n",
    "train f1:  0.5714285714285714<br>\n",
    "depth: 11<br>\n",
    "estimatores: 50<br>\n",
    "AUC =  0.841319340329835<br>"
   ]
  },
  {
   "cell_type": "markdown",
   "metadata": {},
   "source": [
    "#### Общий вывод\n",
    "Лучше всего точность получилось увеличить засчет взыешивании класса.<br>\n",
    "forest со следющими значениями метрик:<br>\n",
    "best train accuracy:  0.8393839383938394Б<br>\n",
    "train f1:  0.6010928961748634<br>\n",
    "depth: 10<br>\n",
    "estimatores: 60<br>\n",
    "AUC =  0.8534201649175412<br>\n"
   ]
  },
  {
   "cell_type": "markdown",
   "metadata": {},
   "source": [
    "## Тестирование модели"
   ]
  },
  {
   "cell_type": "code",
   "execution_count": 47,
   "metadata": {},
   "outputs": [],
   "source": [
    "X_final_train = pd.concat([X_train, X_valid])\n",
    "Y_final_train = pd.concat([Y_train, Y_valid])"
   ]
  },
  {
   "cell_type": "code",
   "execution_count": 48,
   "metadata": {},
   "outputs": [],
   "source": [
    "X_final_train, Y_final_train = upsample(X_final_train, Y_final_train, 4)"
   ]
  },
  {
   "cell_type": "code",
   "execution_count": 49,
   "metadata": {},
   "outputs": [
    {
     "name": "stdout",
     "output_type": "stream",
     "text": [
      "precision:  0.5375\n",
      "recall:  0.7087912087912088\n",
      "f1 score:  0.6113744075829384\n",
      "accuracy:  0.8196811434854315\n",
      "AUC =  0.8653034250972395\n"
     ]
    },
    {
     "data": {
      "text/html": [
       "<div>\n",
       "<style scoped>\n",
       "    .dataframe tbody tr th:only-of-type {\n",
       "        vertical-align: middle;\n",
       "    }\n",
       "\n",
       "    .dataframe tbody tr th {\n",
       "        vertical-align: top;\n",
       "    }\n",
       "\n",
       "    .dataframe thead th {\n",
       "        text-align: right;\n",
       "    }\n",
       "</style>\n",
       "<table border=\"1\" class=\"dataframe\">\n",
       "  <thead>\n",
       "    <tr style=\"text-align: right;\">\n",
       "      <th></th>\n",
       "      <th>FPR</th>\n",
       "      <th>TPR</th>\n",
       "      <th>thresholds</th>\n",
       "    </tr>\n",
       "  </thead>\n",
       "  <tbody>\n",
       "    <tr>\n",
       "      <th>0</th>\n",
       "      <td>0.000000</td>\n",
       "      <td>0.000000</td>\n",
       "      <td>1.984132</td>\n",
       "    </tr>\n",
       "    <tr>\n",
       "      <th>1</th>\n",
       "      <td>0.000000</td>\n",
       "      <td>0.002747</td>\n",
       "      <td>0.984132</td>\n",
       "    </tr>\n",
       "    <tr>\n",
       "      <th>2</th>\n",
       "      <td>0.000000</td>\n",
       "      <td>0.049451</td>\n",
       "      <td>0.950263</td>\n",
       "    </tr>\n",
       "    <tr>\n",
       "      <th>3</th>\n",
       "      <td>0.000687</td>\n",
       "      <td>0.049451</td>\n",
       "      <td>0.949139</td>\n",
       "    </tr>\n",
       "    <tr>\n",
       "      <th>4</th>\n",
       "      <td>0.000687</td>\n",
       "      <td>0.079670</td>\n",
       "      <td>0.940165</td>\n",
       "    </tr>\n",
       "    <tr>\n",
       "      <th>...</th>\n",
       "      <td>...</td>\n",
       "      <td>...</td>\n",
       "      <td>...</td>\n",
       "    </tr>\n",
       "    <tr>\n",
       "      <th>365</th>\n",
       "      <td>0.950515</td>\n",
       "      <td>0.994505</td>\n",
       "      <td>0.044213</td>\n",
       "    </tr>\n",
       "    <tr>\n",
       "      <th>366</th>\n",
       "      <td>0.950515</td>\n",
       "      <td>0.997253</td>\n",
       "      <td>0.044042</td>\n",
       "    </tr>\n",
       "    <tr>\n",
       "      <th>367</th>\n",
       "      <td>0.990378</td>\n",
       "      <td>0.997253</td>\n",
       "      <td>0.032395</td>\n",
       "    </tr>\n",
       "    <tr>\n",
       "      <th>368</th>\n",
       "      <td>0.990378</td>\n",
       "      <td>1.000000</td>\n",
       "      <td>0.030902</td>\n",
       "    </tr>\n",
       "    <tr>\n",
       "      <th>369</th>\n",
       "      <td>1.000000</td>\n",
       "      <td>1.000000</td>\n",
       "      <td>0.017363</td>\n",
       "    </tr>\n",
       "  </tbody>\n",
       "</table>\n",
       "<p>370 rows × 3 columns</p>\n",
       "</div>"
      ],
      "text/plain": [
       "          FPR       TPR  thresholds\n",
       "0    0.000000  0.000000    1.984132\n",
       "1    0.000000  0.002747    0.984132\n",
       "2    0.000000  0.049451    0.950263\n",
       "3    0.000687  0.049451    0.949139\n",
       "4    0.000687  0.079670    0.940165\n",
       "..        ...       ...         ...\n",
       "365  0.950515  0.994505    0.044213\n",
       "366  0.950515  0.997253    0.044042\n",
       "367  0.990378  0.997253    0.032395\n",
       "368  0.990378  1.000000    0.030902\n",
       "369  1.000000  1.000000    0.017363\n",
       "\n",
       "[370 rows x 3 columns]"
      ]
     },
     "execution_count": 49,
     "metadata": {},
     "output_type": "execute_result"
    },
    {
     "data": {
      "image/png": "[encoded data removed]",
      "text/plain": [
       "<Figure size 720x720 with 1 Axes>"
      ]
     },
     "metadata": {
      "needs_background": "light"
     },
     "output_type": "display_data"
    }
   ],
   "source": [
    "final_forest_model = RandomForestClassifier(n_estimators=60, max_depth=10, random_state=12345, class_weight='balanced')\n",
    "final_forest_model.fit(X_final_train, Y_final_train)\n",
    "test_predict = final_forest_model.predict(X_test)\n",
    "\n",
    "f1 = f1_score(Y_test, test_predict)\n",
    "precision = precision_score(Y_test, test_predict)\n",
    "recall = recall_score(Y_test, test_predict)\n",
    "accuracy = accuracy_score(Y_test, test_predict)\n",
    "\n",
    "print('precision: ', precision)\n",
    "print('recall: ', recall)\n",
    "print('f1 score: ', f1)\n",
    "print('accuracy: ', accuracy)\n",
    "\n",
    "ROC_AUC_info(final_forest_model, X_test, Y_test)"
   ]
  },
  {
   "cell_type": "markdown",
   "metadata": {},
   "source": [
    "P.s не очеь понимаю, что мне говорит AUC и что мне делать с этой информацией, которую предоставляет график. Постояноо в голове вопрос \"и что?\". И не монимаю, как мне сравнивать AUC-ROC c F1. Я понимаю, что мы бребираем пороговые значения для регресии и смотрим значения FPR и TPR и что мне этодает в итоге?"
   ]
  },
  {
   "cell_type": "markdown",
   "metadata": {},
   "source": [
    "### Общий вывод по итогам исследования \n",
    "Было проведено тестирование разных методов по борьбе с дисбалансом классов c взвешиванием классов. С метрикой f1 ~ 0.6 и AUC ~ 0.84 при обучении. Лучшей моделью оказался random forest. С использованием метода взешивании классов удалось построить модель, которая дает значение f1 ~ 0.61 и AUC ~ 0.86. "
   ]
  }
 ],
 "metadata": {
  "ExecuteTimeLog": [
   {
    "duration": 46,
    "start_time": "2023-02-19T14:14:53.741Z"
   },
   {
    "duration": 442,
    "start_time": "2023-02-19T14:15:05.251Z"
   },
   {
    "duration": 81,
    "start_time": "2023-02-19T14:15:07.123Z"
   },
   {
    "duration": 55,
    "start_time": "2023-02-19T14:15:28.338Z"
   },
   {
    "duration": 4,
    "start_time": "2023-02-19T14:15:42.274Z"
   },
   {
    "duration": 13,
    "start_time": "2023-02-19T14:15:54.203Z"
   },
   {
    "duration": 38,
    "start_time": "2023-02-19T14:19:29.585Z"
   },
   {
    "duration": 4,
    "start_time": "2023-02-19T14:19:37.778Z"
   },
   {
    "duration": 23,
    "start_time": "2023-02-19T14:19:56.537Z"
   },
   {
    "duration": 4,
    "start_time": "2023-02-19T14:20:10.640Z"
   },
   {
    "duration": 395,
    "start_time": "2023-02-20T06:21:42.009Z"
   },
   {
    "duration": 95,
    "start_time": "2023-02-20T06:21:42.955Z"
   },
   {
    "duration": 4,
    "start_time": "2023-02-20T06:21:45.405Z"
   },
   {
    "duration": 13,
    "start_time": "2023-02-20T06:21:45.763Z"
   },
   {
    "duration": 82,
    "start_time": "2023-02-20T06:21:49.188Z"
   },
   {
    "duration": 58,
    "start_time": "2023-02-20T06:21:55.956Z"
   },
   {
    "duration": 13,
    "start_time": "2023-02-20T06:22:09.492Z"
   },
   {
    "duration": 4,
    "start_time": "2023-02-20T06:22:53.604Z"
   },
   {
    "duration": 13,
    "start_time": "2023-02-20T06:22:54.988Z"
   },
   {
    "duration": 5,
    "start_time": "2023-02-20T06:25:23.075Z"
   },
   {
    "duration": 12,
    "start_time": "2023-02-20T06:25:23.329Z"
   },
   {
    "duration": 4,
    "start_time": "2023-02-20T06:25:24.011Z"
   },
   {
    "duration": 668,
    "start_time": "2023-02-20T06:26:43.338Z"
   },
   {
    "duration": 12,
    "start_time": "2023-02-20T06:28:36.800Z"
   },
   {
    "duration": 5,
    "start_time": "2023-02-20T06:28:37.096Z"
   },
   {
    "duration": 67,
    "start_time": "2023-02-20T06:28:53.043Z"
   },
   {
    "duration": 18,
    "start_time": "2023-02-20T06:33:19.543Z"
   },
   {
    "duration": 8,
    "start_time": "2023-02-20T06:37:24.169Z"
   },
   {
    "duration": 7,
    "start_time": "2023-02-20T06:37:58.714Z"
   },
   {
    "duration": 7,
    "start_time": "2023-02-20T06:38:10.387Z"
   },
   {
    "duration": 43,
    "start_time": "2023-02-20T06:38:25.511Z"
   },
   {
    "duration": 13,
    "start_time": "2023-02-20T06:38:53.141Z"
   },
   {
    "duration": 7,
    "start_time": "2023-02-20T06:39:00.544Z"
   },
   {
    "duration": 8,
    "start_time": "2023-02-20T06:50:05.182Z"
   },
   {
    "duration": 8,
    "start_time": "2023-02-20T06:50:18.321Z"
   },
   {
    "duration": 10,
    "start_time": "2023-02-20T06:50:32.236Z"
   },
   {
    "duration": 7,
    "start_time": "2023-02-20T06:50:38.934Z"
   },
   {
    "duration": 1029,
    "start_time": "2023-02-20T07:01:31.034Z"
   },
   {
    "duration": 52,
    "start_time": "2023-02-20T07:01:32.065Z"
   },
   {
    "duration": 4,
    "start_time": "2023-02-20T07:01:32.119Z"
   },
   {
    "duration": 15,
    "start_time": "2023-02-20T07:01:32.125Z"
   },
   {
    "duration": 4,
    "start_time": "2023-02-20T07:01:32.141Z"
   },
   {
    "duration": 15,
    "start_time": "2023-02-20T07:01:32.147Z"
   },
   {
    "duration": 6,
    "start_time": "2023-02-20T07:01:32.164Z"
   },
   {
    "duration": 120,
    "start_time": "2023-02-20T07:01:32.171Z"
   },
   {
    "duration": 0,
    "start_time": "2023-02-20T07:01:32.292Z"
   },
   {
    "duration": 9,
    "start_time": "2023-02-20T07:02:01.645Z"
   },
   {
    "duration": 5,
    "start_time": "2023-02-20T07:07:32.396Z"
   },
   {
    "duration": 1139,
    "start_time": "2023-02-20T07:07:42.499Z"
   },
   {
    "duration": 991,
    "start_time": "2023-02-20T07:07:51.360Z"
   },
   {
    "duration": 55,
    "start_time": "2023-02-20T07:07:52.353Z"
   },
   {
    "duration": 4,
    "start_time": "2023-02-20T07:07:52.409Z"
   },
   {
    "duration": 24,
    "start_time": "2023-02-20T07:07:52.415Z"
   },
   {
    "duration": 6,
    "start_time": "2023-02-20T07:07:52.440Z"
   },
   {
    "duration": 20,
    "start_time": "2023-02-20T07:07:52.447Z"
   },
   {
    "duration": 8,
    "start_time": "2023-02-20T07:07:52.468Z"
   },
   {
    "duration": 13,
    "start_time": "2023-02-20T07:07:52.477Z"
   },
   {
    "duration": 15,
    "start_time": "2023-02-20T07:07:52.491Z"
   },
   {
    "duration": 1231,
    "start_time": "2023-02-20T07:08:44.873Z"
   },
   {
    "duration": 1136,
    "start_time": "2023-02-20T07:08:53.845Z"
   },
   {
    "duration": 57,
    "start_time": "2023-02-20T07:08:54.983Z"
   },
   {
    "duration": 4,
    "start_time": "2023-02-20T07:08:55.042Z"
   },
   {
    "duration": 27,
    "start_time": "2023-02-20T07:08:55.048Z"
   },
   {
    "duration": 5,
    "start_time": "2023-02-20T07:08:55.077Z"
   },
   {
    "duration": 22,
    "start_time": "2023-02-20T07:08:55.084Z"
   },
   {
    "duration": 12,
    "start_time": "2023-02-20T07:08:55.108Z"
   },
   {
    "duration": 7,
    "start_time": "2023-02-20T07:08:55.122Z"
   },
   {
    "duration": 10,
    "start_time": "2023-02-20T07:08:55.131Z"
   },
   {
    "duration": 8,
    "start_time": "2023-02-20T07:09:38.144Z"
   },
   {
    "duration": 5,
    "start_time": "2023-02-20T07:09:51.680Z"
   },
   {
    "duration": 19,
    "start_time": "2023-02-20T07:09:59.027Z"
   },
   {
    "duration": 4,
    "start_time": "2023-02-20T07:10:28.970Z"
   },
   {
    "duration": 101,
    "start_time": "2023-02-20T07:10:29.529Z"
   },
   {
    "duration": 13,
    "start_time": "2023-02-20T07:10:32.635Z"
   },
   {
    "duration": 1078,
    "start_time": "2023-02-20T07:10:39.012Z"
   },
   {
    "duration": 56,
    "start_time": "2023-02-20T07:10:40.092Z"
   },
   {
    "duration": 4,
    "start_time": "2023-02-20T07:10:40.150Z"
   },
   {
    "duration": 17,
    "start_time": "2023-02-20T07:10:40.155Z"
   },
   {
    "duration": 5,
    "start_time": "2023-02-20T07:10:40.174Z"
   },
   {
    "duration": 24,
    "start_time": "2023-02-20T07:10:40.181Z"
   },
   {
    "duration": 7,
    "start_time": "2023-02-20T07:10:40.207Z"
   },
   {
    "duration": 7,
    "start_time": "2023-02-20T07:10:40.215Z"
   },
   {
    "duration": 105,
    "start_time": "2023-02-20T07:10:40.224Z"
   },
   {
    "duration": 0,
    "start_time": "2023-02-20T07:10:40.331Z"
   },
   {
    "duration": 0,
    "start_time": "2023-02-20T07:10:40.332Z"
   },
   {
    "duration": 5,
    "start_time": "2023-02-20T07:10:57.163Z"
   },
   {
    "duration": 16,
    "start_time": "2023-02-20T07:12:48.648Z"
   },
   {
    "duration": 1074,
    "start_time": "2023-02-20T07:12:54.999Z"
   },
   {
    "duration": 53,
    "start_time": "2023-02-20T07:12:56.075Z"
   },
   {
    "duration": 4,
    "start_time": "2023-02-20T07:12:56.130Z"
   },
   {
    "duration": 18,
    "start_time": "2023-02-20T07:12:56.136Z"
   },
   {
    "duration": 4,
    "start_time": "2023-02-20T07:12:56.156Z"
   },
   {
    "duration": 14,
    "start_time": "2023-02-20T07:12:56.161Z"
   },
   {
    "duration": 12,
    "start_time": "2023-02-20T07:12:56.177Z"
   },
   {
    "duration": 9,
    "start_time": "2023-02-20T07:12:56.202Z"
   },
   {
    "duration": 10,
    "start_time": "2023-02-20T07:12:56.213Z"
   },
   {
    "duration": 17,
    "start_time": "2023-02-20T07:12:56.225Z"
   },
   {
    "duration": 7,
    "start_time": "2023-02-20T07:12:56.243Z"
   },
   {
    "duration": 18,
    "start_time": "2023-02-20T07:14:18.862Z"
   },
   {
    "duration": 7,
    "start_time": "2023-02-20T07:14:20.290Z"
   },
   {
    "duration": 29,
    "start_time": "2023-02-20T07:15:29.592Z"
   },
   {
    "duration": 7,
    "start_time": "2023-02-20T07:26:33.935Z"
   },
   {
    "duration": 6,
    "start_time": "2023-02-20T07:27:15.541Z"
   },
   {
    "duration": 6,
    "start_time": "2023-02-20T07:27:51.750Z"
   },
   {
    "duration": 8,
    "start_time": "2023-02-20T07:28:22.054Z"
   },
   {
    "duration": 7,
    "start_time": "2023-02-20T07:28:28.387Z"
   },
   {
    "duration": 7,
    "start_time": "2023-02-20T07:28:55.984Z"
   },
   {
    "duration": 1126,
    "start_time": "2023-02-20T07:43:36.000Z"
   },
   {
    "duration": 58,
    "start_time": "2023-02-20T07:43:37.128Z"
   },
   {
    "duration": 5,
    "start_time": "2023-02-20T07:43:37.187Z"
   },
   {
    "duration": 18,
    "start_time": "2023-02-20T07:43:37.195Z"
   },
   {
    "duration": 19,
    "start_time": "2023-02-20T07:43:37.215Z"
   },
   {
    "duration": 42,
    "start_time": "2023-02-20T07:43:37.238Z"
   },
   {
    "duration": 15,
    "start_time": "2023-02-20T07:43:37.282Z"
   },
   {
    "duration": 14,
    "start_time": "2023-02-20T07:43:37.299Z"
   },
   {
    "duration": 11,
    "start_time": "2023-02-20T07:43:37.314Z"
   },
   {
    "duration": 12,
    "start_time": "2023-02-20T07:43:37.327Z"
   },
   {
    "duration": 17,
    "start_time": "2023-02-20T07:43:37.341Z"
   },
   {
    "duration": 10,
    "start_time": "2023-02-20T07:43:37.360Z"
   },
   {
    "duration": 8,
    "start_time": "2023-02-20T07:43:37.372Z"
   },
   {
    "duration": 3,
    "start_time": "2023-02-20T07:43:37.382Z"
   },
   {
    "duration": 108,
    "start_time": "2023-02-20T07:47:59.196Z"
   },
   {
    "duration": 5,
    "start_time": "2023-02-20T07:48:04.229Z"
   },
   {
    "duration": 5,
    "start_time": "2023-02-20T07:49:52.760Z"
   },
   {
    "duration": 10,
    "start_time": "2023-02-20T07:50:19.836Z"
   },
   {
    "duration": 4,
    "start_time": "2023-02-20T07:50:33.955Z"
   },
   {
    "duration": 11,
    "start_time": "2023-02-20T07:54:47.964Z"
   },
   {
    "duration": 13,
    "start_time": "2023-02-20T07:54:55.229Z"
   },
   {
    "duration": 13,
    "start_time": "2023-02-20T07:55:00.702Z"
   },
   {
    "duration": 17,
    "start_time": "2023-02-20T07:55:21.464Z"
   },
   {
    "duration": 27,
    "start_time": "2023-02-20T07:56:00.886Z"
   },
   {
    "duration": 31,
    "start_time": "2023-02-20T07:59:04.454Z"
   },
   {
    "duration": 14,
    "start_time": "2023-02-20T07:59:18.988Z"
   },
   {
    "duration": 1273,
    "start_time": "2023-02-21T17:32:34.324Z"
   },
   {
    "duration": 111,
    "start_time": "2023-02-21T17:32:35.599Z"
   },
   {
    "duration": 4,
    "start_time": "2023-02-21T17:32:35.712Z"
   },
   {
    "duration": 80,
    "start_time": "2023-02-21T17:32:35.718Z"
   },
   {
    "duration": 51,
    "start_time": "2023-02-21T17:32:35.800Z"
   },
   {
    "duration": 34,
    "start_time": "2023-02-21T17:32:35.859Z"
   },
   {
    "duration": 36,
    "start_time": "2023-02-21T17:32:35.895Z"
   },
   {
    "duration": 63,
    "start_time": "2023-02-21T17:32:35.933Z"
   },
   {
    "duration": 47,
    "start_time": "2023-02-21T17:32:35.997Z"
   },
   {
    "duration": 76,
    "start_time": "2023-02-21T17:32:36.047Z"
   },
   {
    "duration": 62,
    "start_time": "2023-02-21T17:32:36.124Z"
   },
   {
    "duration": 53,
    "start_time": "2023-02-21T17:32:36.188Z"
   },
   {
    "duration": 54,
    "start_time": "2023-02-21T17:32:36.243Z"
   },
   {
    "duration": 72,
    "start_time": "2023-02-21T17:32:36.299Z"
   },
   {
    "duration": 50,
    "start_time": "2023-02-21T17:32:36.373Z"
   },
   {
    "duration": 3,
    "start_time": "2023-02-21T17:52:11.457Z"
   },
   {
    "duration": 28,
    "start_time": "2023-02-21T18:39:27.696Z"
   },
   {
    "duration": 4,
    "start_time": "2023-02-21T18:45:28.410Z"
   },
   {
    "duration": 112,
    "start_time": "2023-02-21T18:49:33.463Z"
   },
   {
    "duration": 551,
    "start_time": "2023-02-21T18:49:51.229Z"
   },
   {
    "duration": 42219,
    "start_time": "2023-02-21T18:50:00.102Z"
   },
   {
    "duration": 4,
    "start_time": "2023-02-21T18:52:05.724Z"
   },
   {
    "duration": 3,
    "start_time": "2023-02-21T18:56:44.176Z"
   },
   {
    "duration": 42209,
    "start_time": "2023-02-21T18:58:40.506Z"
   },
   {
    "duration": 5,
    "start_time": "2023-02-21T18:59:30.293Z"
   },
   {
    "duration": 3,
    "start_time": "2023-02-21T19:02:13.420Z"
   },
   {
    "duration": 27,
    "start_time": "2023-02-21T19:04:03.315Z"
   },
   {
    "duration": 15,
    "start_time": "2023-02-21T19:04:22.287Z"
   },
   {
    "duration": 22,
    "start_time": "2023-02-21T19:04:30.660Z"
   },
   {
    "duration": 13,
    "start_time": "2023-02-21T19:04:35.767Z"
   },
   {
    "duration": 5,
    "start_time": "2023-02-21T19:05:54.902Z"
   },
   {
    "duration": 43248,
    "start_time": "2023-02-21T19:10:20.076Z"
   },
   {
    "duration": 3,
    "start_time": "2023-02-21T19:11:06.124Z"
   },
   {
    "duration": 43838,
    "start_time": "2023-02-21T19:11:17.987Z"
   },
   {
    "duration": 3,
    "start_time": "2023-02-21T19:12:09.452Z"
   },
   {
    "duration": 43171,
    "start_time": "2023-02-21T19:12:16.291Z"
   },
   {
    "duration": 3,
    "start_time": "2023-02-21T19:12:59.464Z"
   },
   {
    "duration": 18,
    "start_time": "2023-02-21T19:12:59.469Z"
   },
   {
    "duration": 17,
    "start_time": "2023-02-21T19:12:59.488Z"
   },
   {
    "duration": 4,
    "start_time": "2023-02-21T19:16:35.644Z"
   },
   {
    "duration": 11,
    "start_time": "2023-02-21T19:20:21.550Z"
   },
   {
    "duration": 3,
    "start_time": "2023-02-21T19:20:55.203Z"
   },
   {
    "duration": 4,
    "start_time": "2023-02-21T19:20:58.280Z"
   },
   {
    "duration": 4,
    "start_time": "2023-02-21T19:22:22.148Z"
   },
   {
    "duration": 10,
    "start_time": "2023-02-21T19:22:31.408Z"
   },
   {
    "duration": 3,
    "start_time": "2023-02-21T19:22:32.281Z"
   },
   {
    "duration": 12,
    "start_time": "2023-02-21T19:23:01.801Z"
   },
   {
    "duration": 4,
    "start_time": "2023-02-21T19:23:01.985Z"
   },
   {
    "duration": 10,
    "start_time": "2023-02-21T19:23:15.177Z"
   },
   {
    "duration": 4,
    "start_time": "2023-02-21T19:23:15.199Z"
   },
   {
    "duration": 5,
    "start_time": "2023-02-21T19:23:53.729Z"
   },
   {
    "duration": 4,
    "start_time": "2023-02-21T19:25:34.276Z"
   },
   {
    "duration": 6,
    "start_time": "2023-02-21T19:26:44.651Z"
   },
   {
    "duration": 17,
    "start_time": "2023-02-21T19:28:21.418Z"
   },
   {
    "duration": 5,
    "start_time": "2023-02-21T19:28:21.785Z"
   },
   {
    "duration": 6,
    "start_time": "2023-02-21T19:28:28.464Z"
   },
   {
    "duration": 10,
    "start_time": "2023-02-21T19:28:33.850Z"
   },
   {
    "duration": 13,
    "start_time": "2023-02-21T19:28:35.437Z"
   },
   {
    "duration": 3,
    "start_time": "2023-02-21T19:33:18.466Z"
   },
   {
    "duration": 8,
    "start_time": "2023-02-21T19:41:04.944Z"
   },
   {
    "duration": 7,
    "start_time": "2023-02-21T19:41:07.014Z"
   },
   {
    "duration": 8,
    "start_time": "2023-02-21T19:41:07.935Z"
   },
   {
    "duration": 6,
    "start_time": "2023-02-21T19:41:08.695Z"
   },
   {
    "duration": 9,
    "start_time": "2023-02-21T19:41:09.535Z"
   },
   {
    "duration": 11,
    "start_time": "2023-02-21T19:41:10.509Z"
   },
   {
    "duration": 8,
    "start_time": "2023-02-21T19:41:12.164Z"
   },
   {
    "duration": 7,
    "start_time": "2023-02-21T19:41:13.024Z"
   },
   {
    "duration": 5,
    "start_time": "2023-02-21T19:43:30.856Z"
   },
   {
    "duration": 42035,
    "start_time": "2023-02-21T19:43:32.968Z"
   },
   {
    "duration": 5,
    "start_time": "2023-02-21T19:44:15.004Z"
   },
   {
    "duration": 36,
    "start_time": "2023-02-21T19:44:15.010Z"
   },
   {
    "duration": 20,
    "start_time": "2023-02-21T19:45:13.376Z"
   },
   {
    "duration": 6,
    "start_time": "2023-02-21T19:45:13.550Z"
   },
   {
    "duration": 41621,
    "start_time": "2023-02-21T19:45:28.271Z"
   },
   {
    "duration": 4,
    "start_time": "2023-02-21T19:46:09.894Z"
   },
   {
    "duration": 3,
    "start_time": "2023-02-21T19:52:38.765Z"
   },
   {
    "duration": 463,
    "start_time": "2023-02-21T19:56:18.620Z"
   },
   {
    "duration": 12,
    "start_time": "2023-02-21T19:56:32.127Z"
   },
   {
    "duration": 419,
    "start_time": "2023-02-21T19:56:48.040Z"
   },
   {
    "duration": 5,
    "start_time": "2023-02-21T19:56:48.578Z"
   },
   {
    "duration": 10,
    "start_time": "2023-02-21T19:57:45.153Z"
   },
   {
    "duration": 4,
    "start_time": "2023-02-21T19:58:09.214Z"
   },
   {
    "duration": 74,
    "start_time": "2023-02-21T20:00:53.845Z"
   },
   {
    "duration": 9,
    "start_time": "2023-02-21T20:01:05.806Z"
   },
   {
    "duration": 10,
    "start_time": "2023-02-21T20:02:01.315Z"
   },
   {
    "duration": 4,
    "start_time": "2023-02-21T20:02:10.485Z"
   },
   {
    "duration": 7,
    "start_time": "2023-02-21T20:02:16.063Z"
   },
   {
    "duration": 6,
    "start_time": "2023-02-21T20:02:18.108Z"
   },
   {
    "duration": 1102,
    "start_time": "2023-02-22T07:09:08.968Z"
   },
   {
    "duration": 96,
    "start_time": "2023-02-22T07:09:10.072Z"
   },
   {
    "duration": 4,
    "start_time": "2023-02-22T07:09:10.170Z"
   },
   {
    "duration": 14,
    "start_time": "2023-02-22T07:09:10.176Z"
   },
   {
    "duration": 5,
    "start_time": "2023-02-22T07:09:10.191Z"
   },
   {
    "duration": 5,
    "start_time": "2023-02-22T07:09:10.197Z"
   },
   {
    "duration": 24,
    "start_time": "2023-02-22T07:09:10.204Z"
   },
   {
    "duration": 7,
    "start_time": "2023-02-22T07:09:10.231Z"
   },
   {
    "duration": 6,
    "start_time": "2023-02-22T07:09:10.241Z"
   },
   {
    "duration": 12,
    "start_time": "2023-02-22T07:09:10.250Z"
   },
   {
    "duration": 22,
    "start_time": "2023-02-22T07:09:10.265Z"
   },
   {
    "duration": 15,
    "start_time": "2023-02-22T07:09:10.290Z"
   },
   {
    "duration": 49,
    "start_time": "2023-02-22T07:09:10.308Z"
   },
   {
    "duration": 10,
    "start_time": "2023-02-22T07:09:10.359Z"
   },
   {
    "duration": 13,
    "start_time": "2023-02-22T07:09:10.371Z"
   },
   {
    "duration": 4,
    "start_time": "2023-02-22T07:09:10.387Z"
   },
   {
    "duration": 41980,
    "start_time": "2023-02-22T07:09:10.393Z"
   },
   {
    "duration": 3,
    "start_time": "2023-02-22T07:09:52.375Z"
   },
   {
    "duration": 18,
    "start_time": "2023-02-22T07:09:52.380Z"
   },
   {
    "duration": 10,
    "start_time": "2023-02-22T07:09:52.400Z"
   },
   {
    "duration": 25,
    "start_time": "2023-02-22T07:09:52.411Z"
   },
   {
    "duration": 9,
    "start_time": "2023-02-22T07:09:52.437Z"
   },
   {
    "duration": 434,
    "start_time": "2023-02-22T07:09:52.447Z"
   },
   {
    "duration": 4,
    "start_time": "2023-02-22T07:09:52.883Z"
   },
   {
    "duration": 17,
    "start_time": "2023-02-22T07:09:52.889Z"
   },
   {
    "duration": 6,
    "start_time": "2023-02-22T07:09:52.908Z"
   },
   {
    "duration": 4,
    "start_time": "2023-02-22T07:09:52.927Z"
   },
   {
    "duration": 61,
    "start_time": "2023-02-22T07:12:45.574Z"
   },
   {
    "duration": 5,
    "start_time": "2023-02-22T07:13:19.407Z"
   },
   {
    "duration": 5,
    "start_time": "2023-02-22T07:13:21.086Z"
   },
   {
    "duration": 1121,
    "start_time": "2023-02-22T07:13:55.022Z"
   },
   {
    "duration": 54,
    "start_time": "2023-02-22T07:13:56.145Z"
   },
   {
    "duration": 5,
    "start_time": "2023-02-22T07:13:56.200Z"
   },
   {
    "duration": 21,
    "start_time": "2023-02-22T07:13:56.207Z"
   },
   {
    "duration": 6,
    "start_time": "2023-02-22T07:13:56.229Z"
   },
   {
    "duration": 9,
    "start_time": "2023-02-22T07:13:56.236Z"
   },
   {
    "duration": 11,
    "start_time": "2023-02-22T07:13:56.246Z"
   },
   {
    "duration": 6,
    "start_time": "2023-02-22T07:13:56.258Z"
   },
   {
    "duration": 4,
    "start_time": "2023-02-22T07:13:56.266Z"
   },
   {
    "duration": 22,
    "start_time": "2023-02-22T07:13:56.272Z"
   },
   {
    "duration": 22,
    "start_time": "2023-02-22T07:13:56.295Z"
   },
   {
    "duration": 14,
    "start_time": "2023-02-22T07:13:56.327Z"
   },
   {
    "duration": 20,
    "start_time": "2023-02-22T07:13:56.343Z"
   },
   {
    "duration": 8,
    "start_time": "2023-02-22T07:13:56.365Z"
   },
   {
    "duration": 12,
    "start_time": "2023-02-22T07:13:56.375Z"
   },
   {
    "duration": 3,
    "start_time": "2023-02-22T07:13:56.389Z"
   },
   {
    "duration": 42082,
    "start_time": "2023-02-22T07:13:56.394Z"
   },
   {
    "duration": 3,
    "start_time": "2023-02-22T07:14:38.478Z"
   },
   {
    "duration": 16,
    "start_time": "2023-02-22T07:14:38.483Z"
   },
   {
    "duration": 4,
    "start_time": "2023-02-22T07:14:38.500Z"
   },
   {
    "duration": 22,
    "start_time": "2023-02-22T07:14:38.505Z"
   },
   {
    "duration": 6,
    "start_time": "2023-02-22T07:14:38.529Z"
   },
   {
    "duration": 420,
    "start_time": "2023-02-22T07:14:38.536Z"
   },
   {
    "duration": 4,
    "start_time": "2023-02-22T07:14:38.958Z"
   },
   {
    "duration": 15,
    "start_time": "2023-02-22T07:14:38.963Z"
   },
   {
    "duration": 4,
    "start_time": "2023-02-22T07:14:38.979Z"
   },
   {
    "duration": 148,
    "start_time": "2023-02-22T07:14:38.985Z"
   },
   {
    "duration": 96,
    "start_time": "2023-02-22T07:14:39.136Z"
   },
   {
    "duration": 12,
    "start_time": "2023-02-22T07:26:28.794Z"
   },
   {
    "duration": 4,
    "start_time": "2023-02-22T07:26:38.363Z"
   },
   {
    "duration": 73,
    "start_time": "2023-02-22T07:28:43.665Z"
   },
   {
    "duration": 6,
    "start_time": "2023-02-22T07:32:32.016Z"
   },
   {
    "duration": 5,
    "start_time": "2023-02-22T07:32:33.922Z"
   },
   {
    "duration": 6,
    "start_time": "2023-02-22T07:32:34.830Z"
   },
   {
    "duration": 5,
    "start_time": "2023-02-22T07:32:36.917Z"
   },
   {
    "duration": 1121,
    "start_time": "2023-02-22T07:32:42.319Z"
   },
   {
    "duration": 55,
    "start_time": "2023-02-22T07:32:43.444Z"
   },
   {
    "duration": 5,
    "start_time": "2023-02-22T07:32:43.501Z"
   },
   {
    "duration": 21,
    "start_time": "2023-02-22T07:32:43.507Z"
   },
   {
    "duration": 7,
    "start_time": "2023-02-22T07:32:43.529Z"
   },
   {
    "duration": 15,
    "start_time": "2023-02-22T07:32:43.537Z"
   },
   {
    "duration": 17,
    "start_time": "2023-02-22T07:32:43.554Z"
   },
   {
    "duration": 7,
    "start_time": "2023-02-22T07:32:43.572Z"
   },
   {
    "duration": 10,
    "start_time": "2023-02-22T07:32:43.581Z"
   },
   {
    "duration": 9,
    "start_time": "2023-02-22T07:32:43.593Z"
   },
   {
    "duration": 30,
    "start_time": "2023-02-22T07:32:43.603Z"
   },
   {
    "duration": 13,
    "start_time": "2023-02-22T07:32:43.635Z"
   },
   {
    "duration": 22,
    "start_time": "2023-02-22T07:32:43.649Z"
   },
   {
    "duration": 8,
    "start_time": "2023-02-22T07:32:43.673Z"
   },
   {
    "duration": 9,
    "start_time": "2023-02-22T07:32:43.682Z"
   },
   {
    "duration": 17,
    "start_time": "2023-02-22T07:32:43.692Z"
   },
   {
    "duration": 42914,
    "start_time": "2023-02-22T07:32:43.728Z"
   },
   {
    "duration": 5,
    "start_time": "2023-02-22T07:33:26.644Z"
   },
   {
    "duration": 25,
    "start_time": "2023-02-22T07:33:26.651Z"
   },
   {
    "duration": 4,
    "start_time": "2023-02-22T07:33:26.678Z"
   },
   {
    "duration": 17,
    "start_time": "2023-02-22T07:33:26.684Z"
   },
   {
    "duration": 10,
    "start_time": "2023-02-22T07:33:26.703Z"
   },
   {
    "duration": 401,
    "start_time": "2023-02-22T07:33:26.715Z"
   },
   {
    "duration": 4,
    "start_time": "2023-02-22T07:33:27.118Z"
   },
   {
    "duration": 11,
    "start_time": "2023-02-22T07:33:27.127Z"
   },
   {
    "duration": 4,
    "start_time": "2023-02-22T07:33:27.140Z"
   },
   {
    "duration": 180,
    "start_time": "2023-02-22T07:33:27.147Z"
   },
   {
    "duration": 99,
    "start_time": "2023-02-22T07:33:27.331Z"
   },
   {
    "duration": 96,
    "start_time": "2023-02-22T07:33:27.432Z"
   },
   {
    "duration": 6,
    "start_time": "2023-02-22T07:33:27.530Z"
   },
   {
    "duration": 1109,
    "start_time": "2023-02-22T07:54:32.820Z"
   },
   {
    "duration": 56,
    "start_time": "2023-02-22T07:54:33.930Z"
   },
   {
    "duration": 4,
    "start_time": "2023-02-22T07:54:33.987Z"
   },
   {
    "duration": 13,
    "start_time": "2023-02-22T07:54:33.992Z"
   },
   {
    "duration": 5,
    "start_time": "2023-02-22T07:54:34.006Z"
   },
   {
    "duration": 9,
    "start_time": "2023-02-22T07:54:34.012Z"
   },
   {
    "duration": 103,
    "start_time": "2023-02-22T07:54:34.023Z"
   },
   {
    "duration": 0,
    "start_time": "2023-02-22T07:54:34.128Z"
   },
   {
    "duration": 0,
    "start_time": "2023-02-22T07:54:34.129Z"
   },
   {
    "duration": 0,
    "start_time": "2023-02-22T07:54:34.131Z"
   },
   {
    "duration": 0,
    "start_time": "2023-02-22T07:54:34.132Z"
   },
   {
    "duration": 0,
    "start_time": "2023-02-22T07:54:34.133Z"
   },
   {
    "duration": 0,
    "start_time": "2023-02-22T07:54:34.134Z"
   },
   {
    "duration": 0,
    "start_time": "2023-02-22T07:54:34.135Z"
   },
   {
    "duration": 0,
    "start_time": "2023-02-22T07:54:34.136Z"
   },
   {
    "duration": 0,
    "start_time": "2023-02-22T07:54:34.137Z"
   },
   {
    "duration": 0,
    "start_time": "2023-02-22T07:54:34.138Z"
   },
   {
    "duration": 0,
    "start_time": "2023-02-22T07:54:34.139Z"
   },
   {
    "duration": 0,
    "start_time": "2023-02-22T07:54:34.140Z"
   },
   {
    "duration": 0,
    "start_time": "2023-02-22T07:54:34.141Z"
   },
   {
    "duration": 0,
    "start_time": "2023-02-22T07:54:34.142Z"
   },
   {
    "duration": 0,
    "start_time": "2023-02-22T07:54:34.143Z"
   },
   {
    "duration": 0,
    "start_time": "2023-02-22T07:54:34.144Z"
   },
   {
    "duration": 0,
    "start_time": "2023-02-22T07:54:34.145Z"
   },
   {
    "duration": 0,
    "start_time": "2023-02-22T07:54:34.146Z"
   },
   {
    "duration": 0,
    "start_time": "2023-02-22T07:54:34.147Z"
   },
   {
    "duration": 0,
    "start_time": "2023-02-22T07:54:34.148Z"
   },
   {
    "duration": 0,
    "start_time": "2023-02-22T07:54:34.149Z"
   },
   {
    "duration": 0,
    "start_time": "2023-02-22T07:54:34.150Z"
   },
   {
    "duration": 13,
    "start_time": "2023-02-22T07:54:56.425Z"
   },
   {
    "duration": 1228,
    "start_time": "2023-02-22T07:55:01.368Z"
   },
   {
    "duration": 57,
    "start_time": "2023-02-22T07:55:02.598Z"
   },
   {
    "duration": 5,
    "start_time": "2023-02-22T07:55:02.656Z"
   },
   {
    "duration": 32,
    "start_time": "2023-02-22T07:55:02.663Z"
   },
   {
    "duration": 9,
    "start_time": "2023-02-22T07:55:02.698Z"
   },
   {
    "duration": 11,
    "start_time": "2023-02-22T07:55:02.709Z"
   },
   {
    "duration": 13,
    "start_time": "2023-02-22T07:55:02.722Z"
   },
   {
    "duration": 114,
    "start_time": "2023-02-22T07:55:02.737Z"
   },
   {
    "duration": 0,
    "start_time": "2023-02-22T07:55:02.853Z"
   },
   {
    "duration": 0,
    "start_time": "2023-02-22T07:55:02.854Z"
   },
   {
    "duration": 0,
    "start_time": "2023-02-22T07:55:02.855Z"
   },
   {
    "duration": 0,
    "start_time": "2023-02-22T07:55:02.857Z"
   },
   {
    "duration": 0,
    "start_time": "2023-02-22T07:55:02.858Z"
   },
   {
    "duration": 0,
    "start_time": "2023-02-22T07:55:02.859Z"
   },
   {
    "duration": 0,
    "start_time": "2023-02-22T07:55:02.861Z"
   },
   {
    "duration": 0,
    "start_time": "2023-02-22T07:55:02.862Z"
   },
   {
    "duration": 0,
    "start_time": "2023-02-22T07:55:02.863Z"
   },
   {
    "duration": 0,
    "start_time": "2023-02-22T07:55:02.864Z"
   },
   {
    "duration": 0,
    "start_time": "2023-02-22T07:55:02.865Z"
   },
   {
    "duration": 0,
    "start_time": "2023-02-22T07:55:02.867Z"
   },
   {
    "duration": 0,
    "start_time": "2023-02-22T07:55:02.868Z"
   },
   {
    "duration": 0,
    "start_time": "2023-02-22T07:55:02.869Z"
   },
   {
    "duration": 0,
    "start_time": "2023-02-22T07:55:02.871Z"
   },
   {
    "duration": 0,
    "start_time": "2023-02-22T07:55:02.872Z"
   },
   {
    "duration": 0,
    "start_time": "2023-02-22T07:55:02.874Z"
   },
   {
    "duration": 0,
    "start_time": "2023-02-22T07:55:02.875Z"
   },
   {
    "duration": 0,
    "start_time": "2023-02-22T07:55:02.877Z"
   },
   {
    "duration": 0,
    "start_time": "2023-02-22T07:55:02.879Z"
   },
   {
    "duration": 0,
    "start_time": "2023-02-22T07:55:02.927Z"
   },
   {
    "duration": 13,
    "start_time": "2023-02-22T07:55:27.742Z"
   },
   {
    "duration": 1115,
    "start_time": "2023-02-22T07:55:56.680Z"
   },
   {
    "duration": 1157,
    "start_time": "2023-02-22T07:56:11.609Z"
   },
   {
    "duration": 55,
    "start_time": "2023-02-22T07:56:12.768Z"
   },
   {
    "duration": 3,
    "start_time": "2023-02-22T07:56:12.825Z"
   },
   {
    "duration": 15,
    "start_time": "2023-02-22T07:56:12.830Z"
   },
   {
    "duration": 5,
    "start_time": "2023-02-22T07:56:12.847Z"
   },
   {
    "duration": 12,
    "start_time": "2023-02-22T07:56:12.854Z"
   },
   {
    "duration": 24,
    "start_time": "2023-02-22T07:56:12.868Z"
   },
   {
    "duration": 113,
    "start_time": "2023-02-22T07:56:12.894Z"
   },
   {
    "duration": 0,
    "start_time": "2023-02-22T07:56:13.009Z"
   },
   {
    "duration": 0,
    "start_time": "2023-02-22T07:56:13.011Z"
   },
   {
    "duration": 0,
    "start_time": "2023-02-22T07:56:13.012Z"
   },
   {
    "duration": 0,
    "start_time": "2023-02-22T07:56:13.013Z"
   },
   {
    "duration": 0,
    "start_time": "2023-02-22T07:56:13.014Z"
   },
   {
    "duration": 0,
    "start_time": "2023-02-22T07:56:13.015Z"
   },
   {
    "duration": 0,
    "start_time": "2023-02-22T07:56:13.015Z"
   },
   {
    "duration": 0,
    "start_time": "2023-02-22T07:56:13.016Z"
   },
   {
    "duration": 0,
    "start_time": "2023-02-22T07:56:13.027Z"
   },
   {
    "duration": 0,
    "start_time": "2023-02-22T07:56:13.028Z"
   },
   {
    "duration": 0,
    "start_time": "2023-02-22T07:56:13.029Z"
   },
   {
    "duration": 0,
    "start_time": "2023-02-22T07:56:13.030Z"
   },
   {
    "duration": 0,
    "start_time": "2023-02-22T07:56:13.031Z"
   },
   {
    "duration": 0,
    "start_time": "2023-02-22T07:56:13.032Z"
   },
   {
    "duration": 0,
    "start_time": "2023-02-22T07:56:13.033Z"
   },
   {
    "duration": 0,
    "start_time": "2023-02-22T07:56:13.034Z"
   },
   {
    "duration": 0,
    "start_time": "2023-02-22T07:56:13.035Z"
   },
   {
    "duration": 0,
    "start_time": "2023-02-22T07:56:13.037Z"
   },
   {
    "duration": 0,
    "start_time": "2023-02-22T07:56:13.038Z"
   },
   {
    "duration": 0,
    "start_time": "2023-02-22T07:56:13.039Z"
   },
   {
    "duration": 0,
    "start_time": "2023-02-22T07:56:13.040Z"
   },
   {
    "duration": 1128,
    "start_time": "2023-02-22T07:57:20.409Z"
   },
   {
    "duration": 52,
    "start_time": "2023-02-22T07:57:21.539Z"
   },
   {
    "duration": 3,
    "start_time": "2023-02-22T07:57:21.593Z"
   },
   {
    "duration": 29,
    "start_time": "2023-02-22T07:57:21.598Z"
   },
   {
    "duration": 10,
    "start_time": "2023-02-22T07:57:21.629Z"
   },
   {
    "duration": 20,
    "start_time": "2023-02-22T07:57:21.640Z"
   },
   {
    "duration": 40,
    "start_time": "2023-02-22T07:57:21.662Z"
   },
   {
    "duration": 20,
    "start_time": "2023-02-22T07:57:21.704Z"
   },
   {
    "duration": 48,
    "start_time": "2023-02-22T07:57:21.726Z"
   },
   {
    "duration": 11,
    "start_time": "2023-02-22T07:57:21.777Z"
   },
   {
    "duration": 13,
    "start_time": "2023-02-22T07:57:21.790Z"
   },
   {
    "duration": 22,
    "start_time": "2023-02-22T07:57:21.804Z"
   },
   {
    "duration": 8,
    "start_time": "2023-02-22T07:57:21.828Z"
   },
   {
    "duration": 26,
    "start_time": "2023-02-22T07:57:21.837Z"
   },
   {
    "duration": 15,
    "start_time": "2023-02-22T07:57:21.865Z"
   },
   {
    "duration": 41411,
    "start_time": "2023-02-22T07:57:21.882Z"
   },
   {
    "duration": 5,
    "start_time": "2023-02-22T07:58:03.294Z"
   },
   {
    "duration": 33,
    "start_time": "2023-02-22T07:58:03.300Z"
   },
   {
    "duration": 15,
    "start_time": "2023-02-22T07:58:03.334Z"
   },
   {
    "duration": 21,
    "start_time": "2023-02-22T07:58:03.351Z"
   },
   {
    "duration": 17,
    "start_time": "2023-02-22T07:58:03.374Z"
   },
   {
    "duration": 437,
    "start_time": "2023-02-22T07:58:03.393Z"
   },
   {
    "duration": 5,
    "start_time": "2023-02-22T07:58:03.832Z"
   },
   {
    "duration": 24,
    "start_time": "2023-02-22T07:58:03.838Z"
   },
   {
    "duration": 6,
    "start_time": "2023-02-22T07:58:03.864Z"
   },
   {
    "duration": 159,
    "start_time": "2023-02-22T07:58:03.872Z"
   },
   {
    "duration": 104,
    "start_time": "2023-02-22T07:58:04.033Z"
   },
   {
    "duration": 101,
    "start_time": "2023-02-22T07:58:04.141Z"
   },
   {
    "duration": 4,
    "start_time": "2023-02-22T07:58:04.328Z"
   },
   {
    "duration": 4,
    "start_time": "2023-02-22T08:05:58.957Z"
   },
   {
    "duration": 5,
    "start_time": "2023-02-22T08:08:52.058Z"
   },
   {
    "duration": 96,
    "start_time": "2023-02-22T08:16:42.460Z"
   },
   {
    "duration": 1185,
    "start_time": "2023-02-22T08:16:51.794Z"
   },
   {
    "duration": 15,
    "start_time": "2023-02-22T08:17:48.523Z"
   },
   {
    "duration": 5,
    "start_time": "2023-02-22T08:18:17.768Z"
   },
   {
    "duration": 4,
    "start_time": "2023-02-22T08:18:36.759Z"
   },
   {
    "duration": 16,
    "start_time": "2023-02-22T08:18:37.150Z"
   },
   {
    "duration": 5,
    "start_time": "2023-02-22T08:18:40.144Z"
   },
   {
    "duration": 17,
    "start_time": "2023-02-22T08:18:40.648Z"
   },
   {
    "duration": 4,
    "start_time": "2023-02-22T08:19:13.523Z"
   },
   {
    "duration": 14,
    "start_time": "2023-02-22T08:19:14.888Z"
   },
   {
    "duration": 5,
    "start_time": "2023-02-22T08:19:17.838Z"
   },
   {
    "duration": 15,
    "start_time": "2023-02-22T08:19:18.999Z"
   },
   {
    "duration": 5,
    "start_time": "2023-02-22T08:19:36.415Z"
   },
   {
    "duration": 20,
    "start_time": "2023-02-22T08:19:39.441Z"
   },
   {
    "duration": 4,
    "start_time": "2023-02-22T08:20:06.479Z"
   },
   {
    "duration": 17,
    "start_time": "2023-02-22T08:20:09.735Z"
   },
   {
    "duration": 19,
    "start_time": "2023-02-22T08:20:28.782Z"
   },
   {
    "duration": 13,
    "start_time": "2023-02-22T08:21:40.568Z"
   },
   {
    "duration": 15,
    "start_time": "2023-02-22T08:21:41.771Z"
   },
   {
    "duration": 14,
    "start_time": "2023-02-22T08:21:59.119Z"
   },
   {
    "duration": 15,
    "start_time": "2023-02-22T08:21:59.575Z"
   },
   {
    "duration": 6,
    "start_time": "2023-02-22T08:24:29.605Z"
   },
   {
    "duration": 14,
    "start_time": "2023-02-22T08:25:10.254Z"
   },
   {
    "duration": 17,
    "start_time": "2023-02-22T08:25:12.628Z"
   },
   {
    "duration": 7,
    "start_time": "2023-02-22T08:25:13.825Z"
   },
   {
    "duration": 9,
    "start_time": "2023-02-22T08:25:23.453Z"
   },
   {
    "duration": 15,
    "start_time": "2023-02-22T08:25:23.838Z"
   },
   {
    "duration": 6,
    "start_time": "2023-02-22T08:25:25.965Z"
   },
   {
    "duration": 4,
    "start_time": "2023-02-22T08:30:47.175Z"
   },
   {
    "duration": 10,
    "start_time": "2023-02-22T08:30:48.791Z"
   },
   {
    "duration": 16,
    "start_time": "2023-02-22T08:30:49.280Z"
   },
   {
    "duration": 16,
    "start_time": "2023-02-22T08:30:55.771Z"
   },
   {
    "duration": 6,
    "start_time": "2023-02-22T08:30:56.658Z"
   },
   {
    "duration": 11,
    "start_time": "2023-02-22T08:31:10.221Z"
   },
   {
    "duration": 17,
    "start_time": "2023-02-22T08:31:10.690Z"
   },
   {
    "duration": 7,
    "start_time": "2023-02-22T08:31:13.197Z"
   },
   {
    "duration": 11,
    "start_time": "2023-02-22T08:31:21.052Z"
   },
   {
    "duration": 16,
    "start_time": "2023-02-22T08:31:21.453Z"
   },
   {
    "duration": 6,
    "start_time": "2023-02-22T08:31:22.084Z"
   },
   {
    "duration": 10,
    "start_time": "2023-02-22T08:31:34.224Z"
   },
   {
    "duration": 15,
    "start_time": "2023-02-22T08:31:34.559Z"
   },
   {
    "duration": 6,
    "start_time": "2023-02-22T08:31:38.935Z"
   },
   {
    "duration": 12,
    "start_time": "2023-02-22T08:31:45.967Z"
   },
   {
    "duration": 15,
    "start_time": "2023-02-22T08:31:46.261Z"
   },
   {
    "duration": 6,
    "start_time": "2023-02-22T08:31:47.267Z"
   },
   {
    "duration": 6,
    "start_time": "2023-02-22T08:33:18.156Z"
   },
   {
    "duration": 16,
    "start_time": "2023-02-22T08:33:20.636Z"
   },
   {
    "duration": 4,
    "start_time": "2023-02-22T08:33:46.790Z"
   },
   {
    "duration": 16,
    "start_time": "2023-02-22T08:33:47.322Z"
   },
   {
    "duration": 3,
    "start_time": "2023-02-22T08:33:50.196Z"
   },
   {
    "duration": 6,
    "start_time": "2023-02-22T08:33:52.184Z"
   },
   {
    "duration": 4,
    "start_time": "2023-02-22T08:41:16.570Z"
   },
   {
    "duration": 18,
    "start_time": "2023-02-22T08:41:17.752Z"
   },
   {
    "duration": 4,
    "start_time": "2023-02-22T08:41:42.630Z"
   },
   {
    "duration": 18,
    "start_time": "2023-02-22T08:41:43.151Z"
   },
   {
    "duration": 4,
    "start_time": "2023-02-22T08:43:11.234Z"
   },
   {
    "duration": 16,
    "start_time": "2023-02-22T08:43:11.689Z"
   },
   {
    "duration": 2,
    "start_time": "2023-02-22T08:43:14.250Z"
   },
   {
    "duration": 6,
    "start_time": "2023-02-22T08:43:16.924Z"
   },
   {
    "duration": 5,
    "start_time": "2023-02-22T08:43:54.151Z"
   },
   {
    "duration": 11,
    "start_time": "2023-02-22T08:43:55.417Z"
   },
   {
    "duration": 3,
    "start_time": "2023-02-22T08:43:57.075Z"
   },
   {
    "duration": 6,
    "start_time": "2023-02-22T08:43:57.385Z"
   },
   {
    "duration": 16,
    "start_time": "2023-02-22T08:44:23.888Z"
   },
   {
    "duration": 7,
    "start_time": "2023-02-22T08:45:41.105Z"
   },
   {
    "duration": 41487,
    "start_time": "2023-02-22T08:52:39.432Z"
   },
   {
    "duration": 1101,
    "start_time": "2023-02-22T09:02:22.129Z"
   },
   {
    "duration": 52,
    "start_time": "2023-02-22T09:02:23.232Z"
   },
   {
    "duration": 4,
    "start_time": "2023-02-22T09:02:23.286Z"
   },
   {
    "duration": 20,
    "start_time": "2023-02-22T09:02:23.291Z"
   },
   {
    "duration": 4,
    "start_time": "2023-02-22T09:02:23.312Z"
   },
   {
    "duration": 40,
    "start_time": "2023-02-22T09:02:23.318Z"
   },
   {
    "duration": 26,
    "start_time": "2023-02-22T09:02:23.360Z"
   },
   {
    "duration": 4,
    "start_time": "2023-02-22T09:02:23.387Z"
   },
   {
    "duration": 24,
    "start_time": "2023-02-22T09:02:23.392Z"
   },
   {
    "duration": 18,
    "start_time": "2023-02-22T09:02:23.418Z"
   },
   {
    "duration": 17,
    "start_time": "2023-02-22T09:02:23.438Z"
   },
   {
    "duration": 40,
    "start_time": "2023-02-22T09:02:23.457Z"
   },
   {
    "duration": 7,
    "start_time": "2023-02-22T09:02:23.499Z"
   },
   {
    "duration": 8,
    "start_time": "2023-02-22T09:02:23.508Z"
   },
   {
    "duration": 3,
    "start_time": "2023-02-22T09:02:23.518Z"
   },
   {
    "duration": 41287,
    "start_time": "2023-02-22T09:02:23.523Z"
   },
   {
    "duration": 4,
    "start_time": "2023-02-22T09:03:04.812Z"
   },
   {
    "duration": 22,
    "start_time": "2023-02-22T09:03:04.817Z"
   },
   {
    "duration": 4,
    "start_time": "2023-02-22T09:03:04.841Z"
   },
   {
    "duration": 8,
    "start_time": "2023-02-22T09:03:04.847Z"
   },
   {
    "duration": 5,
    "start_time": "2023-02-22T09:03:04.857Z"
   },
   {
    "duration": 432,
    "start_time": "2023-02-22T09:03:04.864Z"
   },
   {
    "duration": 3,
    "start_time": "2023-02-22T09:03:05.298Z"
   },
   {
    "duration": 22,
    "start_time": "2023-02-22T09:03:05.303Z"
   },
   {
    "duration": 17,
    "start_time": "2023-02-22T09:03:05.327Z"
   },
   {
    "duration": 183,
    "start_time": "2023-02-22T09:03:05.345Z"
   },
   {
    "duration": 104,
    "start_time": "2023-02-22T09:03:05.530Z"
   },
   {
    "duration": 95,
    "start_time": "2023-02-22T09:03:05.639Z"
   },
   {
    "duration": 6,
    "start_time": "2023-02-22T09:03:05.736Z"
   },
   {
    "duration": 14,
    "start_time": "2023-02-22T09:03:05.743Z"
   },
   {
    "duration": 9,
    "start_time": "2023-02-22T09:03:05.758Z"
   },
   {
    "duration": 17,
    "start_time": "2023-02-22T12:12:22.740Z"
   },
   {
    "duration": 100,
    "start_time": "2023-02-22T12:14:02.716Z"
   },
   {
    "duration": 14,
    "start_time": "2023-02-22T12:14:20.226Z"
   },
   {
    "duration": 33,
    "start_time": "2023-02-22T12:15:48.877Z"
   },
   {
    "duration": 82,
    "start_time": "2023-02-22T12:22:51.588Z"
   },
   {
    "duration": 5,
    "start_time": "2023-02-22T12:23:05.360Z"
   },
   {
    "duration": 72,
    "start_time": "2023-02-22T12:25:31.666Z"
   },
   {
    "duration": 41957,
    "start_time": "2023-02-22T12:25:35.180Z"
   },
   {
    "duration": 0,
    "start_time": "2023-02-22T12:26:17.138Z"
   },
   {
    "duration": 5,
    "start_time": "2023-02-22T12:27:52.970Z"
   },
   {
    "duration": 41262,
    "start_time": "2023-02-22T12:27:54.795Z"
   },
   {
    "duration": 4,
    "start_time": "2023-02-22T12:28:39.618Z"
   },
   {
    "duration": 15,
    "start_time": "2023-02-22T12:28:52.260Z"
   },
   {
    "duration": 5,
    "start_time": "2023-02-22T12:28:54.150Z"
   },
   {
    "duration": 7,
    "start_time": "2023-02-22T12:29:00.272Z"
   },
   {
    "duration": 6,
    "start_time": "2023-02-22T12:29:00.769Z"
   },
   {
    "duration": 5,
    "start_time": "2023-02-22T12:32:34.130Z"
   },
   {
    "duration": 397,
    "start_time": "2023-02-22T12:32:35.322Z"
   },
   {
    "duration": 4,
    "start_time": "2023-02-22T12:32:42.914Z"
   },
   {
    "duration": 3,
    "start_time": "2023-02-22T12:32:46.169Z"
   },
   {
    "duration": 400,
    "start_time": "2023-02-22T12:33:03.636Z"
   },
   {
    "duration": 4,
    "start_time": "2023-02-22T12:33:04.056Z"
   },
   {
    "duration": 9,
    "start_time": "2023-02-22T12:33:23.168Z"
   },
   {
    "duration": 4,
    "start_time": "2023-02-22T12:33:25.375Z"
   },
   {
    "duration": 4,
    "start_time": "2023-02-22T12:36:54.882Z"
   },
   {
    "duration": 108,
    "start_time": "2023-02-22T12:36:55.719Z"
   },
   {
    "duration": 4,
    "start_time": "2023-02-22T12:36:57.486Z"
   },
   {
    "duration": 13,
    "start_time": "2023-02-22T12:37:09.398Z"
   },
   {
    "duration": 4,
    "start_time": "2023-02-22T12:37:09.727Z"
   },
   {
    "duration": 4,
    "start_time": "2023-02-22T12:37:15.249Z"
   },
   {
    "duration": 14,
    "start_time": "2023-02-22T12:37:19.799Z"
   },
   {
    "duration": 7,
    "start_time": "2023-02-22T12:37:20.096Z"
   },
   {
    "duration": 15,
    "start_time": "2023-02-22T12:37:20.123Z"
   },
   {
    "duration": 10,
    "start_time": "2023-02-22T12:37:22.426Z"
   },
   {
    "duration": 29,
    "start_time": "2023-02-22T12:37:22.447Z"
   },
   {
    "duration": 421,
    "start_time": "2023-02-22T12:45:17.271Z"
   },
   {
    "duration": 4,
    "start_time": "2023-02-22T12:45:52.174Z"
   },
   {
    "duration": 6,
    "start_time": "2023-02-22T12:46:40.301Z"
   },
   {
    "duration": 17,
    "start_time": "2023-02-22T12:48:33.701Z"
   },
   {
    "duration": 18,
    "start_time": "2023-02-22T12:49:59.894Z"
   },
   {
    "duration": 18,
    "start_time": "2023-02-22T12:52:09.083Z"
   },
   {
    "duration": 19,
    "start_time": "2023-02-22T12:53:01.403Z"
   },
   {
    "duration": 7,
    "start_time": "2023-02-22T12:53:38.165Z"
   },
   {
    "duration": 3,
    "start_time": "2023-02-22T12:53:50.963Z"
   },
   {
    "duration": 20,
    "start_time": "2023-02-22T12:53:51.690Z"
   },
   {
    "duration": 4,
    "start_time": "2023-02-22T12:54:27.002Z"
   },
   {
    "duration": 9,
    "start_time": "2023-02-22T12:55:04.531Z"
   },
   {
    "duration": 4,
    "start_time": "2023-02-22T12:55:10.060Z"
   },
   {
    "duration": 3,
    "start_time": "2023-02-22T12:55:22.075Z"
   },
   {
    "duration": 18,
    "start_time": "2023-02-22T12:55:44.564Z"
   },
   {
    "duration": 29,
    "start_time": "2023-02-22T12:56:04.107Z"
   },
   {
    "duration": 3,
    "start_time": "2023-02-22T12:56:04.433Z"
   },
   {
    "duration": 4,
    "start_time": "2023-02-22T12:56:18.778Z"
   },
   {
    "duration": 42633,
    "start_time": "2023-02-22T12:57:55.115Z"
   },
   {
    "duration": 5,
    "start_time": "2023-02-22T12:58:37.750Z"
   },
   {
    "duration": 5,
    "start_time": "2023-02-22T12:58:44.125Z"
   },
   {
    "duration": 41188,
    "start_time": "2023-02-22T12:58:47.455Z"
   },
   {
    "duration": 4,
    "start_time": "2023-02-22T12:59:28.645Z"
   },
   {
    "duration": 56010,
    "start_time": "2023-02-22T13:00:00.531Z"
   },
   {
    "duration": 5,
    "start_time": "2023-02-22T13:02:02.968Z"
   },
   {
    "duration": 5,
    "start_time": "2023-02-22T13:02:22.585Z"
   },
   {
    "duration": 9,
    "start_time": "2023-02-22T13:02:56.673Z"
   },
   {
    "duration": 55967,
    "start_time": "2023-02-22T13:03:02.912Z"
   },
   {
    "duration": 5,
    "start_time": "2023-02-22T13:03:58.881Z"
   },
   {
    "duration": 9,
    "start_time": "2023-02-22T13:09:38.137Z"
   },
   {
    "duration": 25,
    "start_time": "2023-02-22T13:09:52.193Z"
   },
   {
    "duration": 4,
    "start_time": "2023-02-22T13:10:04.556Z"
   },
   {
    "duration": 19,
    "start_time": "2023-02-22T13:19:31.828Z"
   },
   {
    "duration": 19,
    "start_time": "2023-02-22T13:21:56.885Z"
   },
   {
    "duration": 5,
    "start_time": "2023-02-22T13:23:02.514Z"
   },
   {
    "duration": 548,
    "start_time": "2023-02-22T13:23:10.105Z"
   },
   {
    "duration": 5,
    "start_time": "2023-02-22T13:23:23.138Z"
   },
   {
    "duration": 4,
    "start_time": "2023-02-22T13:23:57.357Z"
   },
   {
    "duration": 12,
    "start_time": "2023-02-22T13:27:10.980Z"
   },
   {
    "duration": 5,
    "start_time": "2023-02-22T13:27:22.869Z"
   },
   {
    "duration": 4,
    "start_time": "2023-02-22T13:32:44.273Z"
   },
   {
    "duration": 19,
    "start_time": "2023-02-22T13:33:46.056Z"
   },
   {
    "duration": 226,
    "start_time": "2023-02-22T13:34:22.502Z"
   },
   {
    "duration": 3,
    "start_time": "2023-02-22T13:35:36.561Z"
   },
   {
    "duration": 104,
    "start_time": "2023-02-22T13:36:14.534Z"
   },
   {
    "duration": 4,
    "start_time": "2023-02-22T13:36:14.726Z"
   },
   {
    "duration": 3,
    "start_time": "2023-02-22T13:36:20.662Z"
   },
   {
    "duration": 14,
    "start_time": "2023-02-22T13:36:20.694Z"
   },
   {
    "duration": 5,
    "start_time": "2023-02-22T13:36:24.421Z"
   },
   {
    "duration": 137,
    "start_time": "2023-02-22T13:36:37.791Z"
   },
   {
    "duration": 445,
    "start_time": "2023-02-22T13:37:12.192Z"
   },
   {
    "duration": 545,
    "start_time": "2023-02-22T13:37:26.735Z"
   },
   {
    "duration": 270,
    "start_time": "2023-02-22T13:38:33.957Z"
   },
   {
    "duration": 226,
    "start_time": "2023-02-22T13:39:14.201Z"
   },
   {
    "duration": 3,
    "start_time": "2023-02-22T13:39:50.197Z"
   },
   {
    "duration": 9,
    "start_time": "2023-02-22T13:40:27.925Z"
   },
   {
    "duration": 138,
    "start_time": "2023-02-22T13:40:28.302Z"
   },
   {
    "duration": 147,
    "start_time": "2023-02-22T13:40:35.102Z"
   },
   {
    "duration": 1098,
    "start_time": "2023-02-22T13:41:01.377Z"
   },
   {
    "duration": 57,
    "start_time": "2023-02-22T13:41:02.477Z"
   },
   {
    "duration": 10,
    "start_time": "2023-02-22T13:41:02.536Z"
   },
   {
    "duration": 21,
    "start_time": "2023-02-22T13:41:02.549Z"
   },
   {
    "duration": 5,
    "start_time": "2023-02-22T13:41:02.573Z"
   },
   {
    "duration": 19,
    "start_time": "2023-02-22T13:41:02.579Z"
   },
   {
    "duration": 44,
    "start_time": "2023-02-22T13:41:02.600Z"
   },
   {
    "duration": 6,
    "start_time": "2023-02-22T13:41:02.646Z"
   },
   {
    "duration": 16,
    "start_time": "2023-02-22T13:41:02.653Z"
   },
   {
    "duration": 17,
    "start_time": "2023-02-22T13:41:02.673Z"
   },
   {
    "duration": 22,
    "start_time": "2023-02-22T13:41:02.692Z"
   },
   {
    "duration": 36,
    "start_time": "2023-02-22T13:41:02.717Z"
   },
   {
    "duration": 9,
    "start_time": "2023-02-22T13:41:02.755Z"
   },
   {
    "duration": 11,
    "start_time": "2023-02-22T13:41:02.765Z"
   },
   {
    "duration": 14,
    "start_time": "2023-02-22T13:41:02.778Z"
   },
   {
    "duration": 15,
    "start_time": "2023-02-22T13:41:02.794Z"
   },
   {
    "duration": 43572,
    "start_time": "2023-02-22T13:41:02.811Z"
   },
   {
    "duration": 5,
    "start_time": "2023-02-22T13:41:46.385Z"
   },
   {
    "duration": 25,
    "start_time": "2023-02-22T13:41:46.392Z"
   },
   {
    "duration": 40,
    "start_time": "2023-02-22T13:41:46.419Z"
   },
   {
    "duration": 16,
    "start_time": "2023-02-22T13:41:46.461Z"
   },
   {
    "duration": 19,
    "start_time": "2023-02-22T13:41:46.478Z"
   },
   {
    "duration": 5,
    "start_time": "2023-02-22T13:41:46.499Z"
   },
   {
    "duration": 110,
    "start_time": "2023-02-22T13:41:46.505Z"
   },
   {
    "duration": 0,
    "start_time": "2023-02-22T13:41:46.618Z"
   },
   {
    "duration": 0,
    "start_time": "2023-02-22T13:41:46.619Z"
   },
   {
    "duration": 0,
    "start_time": "2023-02-22T13:41:46.621Z"
   },
   {
    "duration": 1,
    "start_time": "2023-02-22T13:41:46.626Z"
   },
   {
    "duration": 0,
    "start_time": "2023-02-22T13:41:46.627Z"
   },
   {
    "duration": 0,
    "start_time": "2023-02-22T13:41:46.628Z"
   },
   {
    "duration": 0,
    "start_time": "2023-02-22T13:41:46.628Z"
   },
   {
    "duration": 0,
    "start_time": "2023-02-22T13:41:46.629Z"
   },
   {
    "duration": 0,
    "start_time": "2023-02-22T13:41:46.630Z"
   },
   {
    "duration": 0,
    "start_time": "2023-02-22T13:41:46.631Z"
   },
   {
    "duration": 0,
    "start_time": "2023-02-22T13:41:46.631Z"
   },
   {
    "duration": 0,
    "start_time": "2023-02-22T13:41:46.632Z"
   },
   {
    "duration": 0,
    "start_time": "2023-02-22T13:41:46.634Z"
   },
   {
    "duration": 0,
    "start_time": "2023-02-22T13:41:46.634Z"
   },
   {
    "duration": 0,
    "start_time": "2023-02-22T13:41:46.635Z"
   },
   {
    "duration": 0,
    "start_time": "2023-02-22T13:41:46.636Z"
   },
   {
    "duration": 0,
    "start_time": "2023-02-22T13:41:46.637Z"
   },
   {
    "duration": 0,
    "start_time": "2023-02-22T13:41:46.638Z"
   },
   {
    "duration": 0,
    "start_time": "2023-02-22T13:41:46.651Z"
   },
   {
    "duration": 0,
    "start_time": "2023-02-22T13:41:46.652Z"
   },
   {
    "duration": 0,
    "start_time": "2023-02-22T13:41:46.654Z"
   },
   {
    "duration": 0,
    "start_time": "2023-02-22T13:41:46.655Z"
   },
   {
    "duration": 27,
    "start_time": "2023-02-22T13:42:31.014Z"
   },
   {
    "duration": 6,
    "start_time": "2023-02-22T13:42:58.536Z"
   },
   {
    "duration": 22,
    "start_time": "2023-02-22T13:42:59.261Z"
   },
   {
    "duration": 444,
    "start_time": "2023-02-22T13:43:28.804Z"
   },
   {
    "duration": 6,
    "start_time": "2023-02-22T13:43:31.039Z"
   },
   {
    "duration": 11,
    "start_time": "2023-02-22T13:43:31.980Z"
   },
   {
    "duration": 4,
    "start_time": "2023-02-22T13:43:32.978Z"
   },
   {
    "duration": 4,
    "start_time": "2023-02-22T13:43:35.921Z"
   },
   {
    "duration": 564,
    "start_time": "2023-02-22T13:43:36.574Z"
   },
   {
    "duration": 0,
    "start_time": "2023-02-22T13:43:37.144Z"
   },
   {
    "duration": 4,
    "start_time": "2023-02-22T13:43:41.861Z"
   },
   {
    "duration": 265,
    "start_time": "2023-02-22T13:43:42.276Z"
   },
   {
    "duration": 3,
    "start_time": "2023-02-22T13:44:02.986Z"
   },
   {
    "duration": 368,
    "start_time": "2023-02-22T13:44:03.466Z"
   },
   {
    "duration": 3,
    "start_time": "2023-02-22T13:44:25.688Z"
   },
   {
    "duration": 126,
    "start_time": "2023-02-22T13:44:26.011Z"
   },
   {
    "duration": 3,
    "start_time": "2023-02-22T13:44:27.300Z"
   },
   {
    "duration": 12,
    "start_time": "2023-02-22T13:44:38.765Z"
   },
   {
    "duration": 4,
    "start_time": "2023-02-22T13:44:40.659Z"
   },
   {
    "duration": 4,
    "start_time": "2023-02-22T13:44:52.785Z"
   },
   {
    "duration": 19,
    "start_time": "2023-02-22T13:44:53.179Z"
   },
   {
    "duration": 6,
    "start_time": "2023-02-22T13:44:55.155Z"
   },
   {
    "duration": 20,
    "start_time": "2023-02-22T13:44:55.173Z"
   },
   {
    "duration": 36,
    "start_time": "2023-02-22T13:44:56.988Z"
   },
   {
    "duration": 59349,
    "start_time": "2023-02-22T13:44:58.345Z"
   },
   {
    "duration": 5,
    "start_time": "2023-02-22T13:46:04.971Z"
   },
   {
    "duration": 32,
    "start_time": "2023-02-22T13:46:13.004Z"
   },
   {
    "duration": 4,
    "start_time": "2023-02-22T13:46:13.855Z"
   },
   {
    "duration": 533,
    "start_time": "2023-02-22T13:46:22.195Z"
   },
   {
    "duration": 6,
    "start_time": "2023-02-22T13:46:22.730Z"
   },
   {
    "duration": 20,
    "start_time": "2023-02-22T13:46:25.018Z"
   },
   {
    "duration": 4,
    "start_time": "2023-02-22T13:46:25.054Z"
   },
   {
    "duration": 384,
    "start_time": "2023-02-22T13:46:31.043Z"
   },
   {
    "duration": 4,
    "start_time": "2023-02-22T13:46:55.572Z"
   },
   {
    "duration": 13,
    "start_time": "2023-02-22T13:47:38.759Z"
   },
   {
    "duration": 4,
    "start_time": "2023-02-22T13:47:55.221Z"
   },
   {
    "duration": 34,
    "start_time": "2023-02-22T13:51:07.218Z"
   },
   {
    "duration": 4,
    "start_time": "2023-02-22T13:51:07.665Z"
   },
   {
    "duration": 1157,
    "start_time": "2023-02-22T20:20:47.550Z"
   },
   {
    "duration": 94,
    "start_time": "2023-02-22T20:20:48.709Z"
   },
   {
    "duration": 3,
    "start_time": "2023-02-22T20:20:48.805Z"
   },
   {
    "duration": 13,
    "start_time": "2023-02-22T20:20:48.810Z"
   },
   {
    "duration": 4,
    "start_time": "2023-02-22T20:20:48.825Z"
   },
   {
    "duration": 6,
    "start_time": "2023-02-22T20:20:48.830Z"
   },
   {
    "duration": 22,
    "start_time": "2023-02-22T20:20:48.838Z"
   },
   {
    "duration": 3,
    "start_time": "2023-02-22T20:20:48.862Z"
   },
   {
    "duration": 12,
    "start_time": "2023-02-22T20:20:48.866Z"
   },
   {
    "duration": 5,
    "start_time": "2023-02-22T20:20:48.880Z"
   },
   {
    "duration": 9,
    "start_time": "2023-02-22T20:20:48.886Z"
   },
   {
    "duration": 24,
    "start_time": "2023-02-22T20:20:48.897Z"
   },
   {
    "duration": 30,
    "start_time": "2023-02-22T20:20:48.923Z"
   },
   {
    "duration": 8,
    "start_time": "2023-02-22T20:20:48.954Z"
   },
   {
    "duration": 3,
    "start_time": "2023-02-22T20:20:48.964Z"
   },
   {
    "duration": 5,
    "start_time": "2023-02-22T20:20:48.968Z"
   },
   {
    "duration": 41392,
    "start_time": "2023-02-22T20:20:48.975Z"
   },
   {
    "duration": 4,
    "start_time": "2023-02-22T20:21:30.368Z"
   },
   {
    "duration": 39,
    "start_time": "2023-02-22T20:21:30.374Z"
   },
   {
    "duration": 4,
    "start_time": "2023-02-22T20:21:30.415Z"
   },
   {
    "duration": 27,
    "start_time": "2023-02-22T20:21:30.420Z"
   },
   {
    "duration": 32,
    "start_time": "2023-02-22T20:21:30.448Z"
   },
   {
    "duration": 66,
    "start_time": "2023-02-22T20:21:30.482Z"
   },
   {
    "duration": 503,
    "start_time": "2023-02-22T20:21:30.550Z"
   },
   {
    "duration": 4,
    "start_time": "2023-02-22T20:21:31.054Z"
   },
   {
    "duration": 16,
    "start_time": "2023-02-22T20:21:31.060Z"
   },
   {
    "duration": 13,
    "start_time": "2023-02-22T20:21:31.078Z"
   },
   {
    "duration": 31,
    "start_time": "2023-02-22T20:21:31.094Z"
   },
   {
    "duration": 234,
    "start_time": "2023-02-22T20:21:31.127Z"
   },
   {
    "duration": 92,
    "start_time": "2023-02-22T20:21:31.363Z"
   },
   {
    "duration": 111,
    "start_time": "2023-02-22T20:21:31.457Z"
   },
   {
    "duration": 87,
    "start_time": "2023-02-22T20:21:31.570Z"
   },
   {
    "duration": 95,
    "start_time": "2023-02-22T20:21:31.659Z"
   },
   {
    "duration": 24,
    "start_time": "2023-02-22T20:21:31.756Z"
   },
   {
    "duration": 5,
    "start_time": "2023-02-22T20:21:31.782Z"
   },
   {
    "duration": 6,
    "start_time": "2023-02-22T20:21:31.789Z"
   },
   {
    "duration": 45,
    "start_time": "2023-02-22T20:21:31.797Z"
   },
   {
    "duration": 56558,
    "start_time": "2023-02-22T20:21:31.844Z"
   },
   {
    "duration": 4,
    "start_time": "2023-02-22T20:22:28.404Z"
   },
   {
    "duration": 23,
    "start_time": "2023-02-22T20:22:28.410Z"
   },
   {
    "duration": 4,
    "start_time": "2023-02-22T20:22:28.435Z"
   },
   {
    "duration": 519,
    "start_time": "2023-02-22T20:22:28.440Z"
   },
   {
    "duration": 3,
    "start_time": "2023-02-22T20:22:28.961Z"
   },
   {
    "duration": 10,
    "start_time": "2023-02-22T20:22:28.966Z"
   },
   {
    "duration": 4,
    "start_time": "2023-02-22T20:22:28.978Z"
   },
   {
    "duration": 178,
    "start_time": "2023-02-22T20:22:28.984Z"
   },
   {
    "duration": 97,
    "start_time": "2023-02-22T20:22:29.256Z"
   },
   {
    "duration": 97,
    "start_time": "2023-02-22T20:22:29.355Z"
   },
   {
    "duration": 102,
    "start_time": "2023-02-22T20:22:29.455Z"
   },
   {
    "duration": 41855,
    "start_time": "2023-02-22T20:28:27.676Z"
   },
   {
    "duration": 5,
    "start_time": "2023-02-22T20:29:09.534Z"
   },
   {
    "duration": 30,
    "start_time": "2023-02-22T20:29:09.540Z"
   },
   {
    "duration": 4,
    "start_time": "2023-02-22T20:29:09.572Z"
   },
   {
    "duration": 96,
    "start_time": "2023-02-22T20:35:22.805Z"
   },
   {
    "duration": 25,
    "start_time": "2023-02-22T20:35:32.867Z"
   },
   {
    "duration": 422,
    "start_time": "2023-02-22T20:35:44.947Z"
   },
   {
    "duration": 4,
    "start_time": "2023-02-22T20:36:04.401Z"
   },
   {
    "duration": 10,
    "start_time": "2023-02-22T20:37:31.187Z"
   },
   {
    "duration": 4,
    "start_time": "2023-02-22T20:37:31.785Z"
   },
   {
    "duration": 11,
    "start_time": "2023-02-22T20:40:29.833Z"
   },
   {
    "duration": 4,
    "start_time": "2023-02-22T20:40:52.200Z"
   },
   {
    "duration": 11,
    "start_time": "2023-02-22T20:41:17.842Z"
   },
   {
    "duration": 4,
    "start_time": "2023-02-22T20:41:18.199Z"
   },
   {
    "duration": 6,
    "start_time": "2023-02-22T20:41:47.585Z"
   },
   {
    "duration": 10,
    "start_time": "2023-02-22T20:41:51.144Z"
   },
   {
    "duration": 4,
    "start_time": "2023-02-22T20:41:51.502Z"
   },
   {
    "duration": 418,
    "start_time": "2023-02-22T20:41:59.801Z"
   },
   {
    "duration": 4,
    "start_time": "2023-02-22T20:42:00.221Z"
   },
   {
    "duration": 10,
    "start_time": "2023-02-22T20:42:04.126Z"
   },
   {
    "duration": 5,
    "start_time": "2023-02-22T20:42:05.078Z"
   },
   {
    "duration": 1195,
    "start_time": "2023-02-22T20:42:46.192Z"
   },
   {
    "duration": 73,
    "start_time": "2023-02-22T20:42:47.389Z"
   },
   {
    "duration": 5,
    "start_time": "2023-02-22T20:42:47.464Z"
   },
   {
    "duration": 31,
    "start_time": "2023-02-22T20:42:47.470Z"
   },
   {
    "duration": 6,
    "start_time": "2023-02-22T20:42:47.504Z"
   },
   {
    "duration": 10,
    "start_time": "2023-02-22T20:42:47.513Z"
   },
   {
    "duration": 41,
    "start_time": "2023-02-22T20:42:47.526Z"
   },
   {
    "duration": 4,
    "start_time": "2023-02-22T20:42:47.569Z"
   },
   {
    "duration": 27,
    "start_time": "2023-02-22T20:42:47.575Z"
   },
   {
    "duration": 11,
    "start_time": "2023-02-22T20:42:47.604Z"
   },
   {
    "duration": 16,
    "start_time": "2023-02-22T20:42:47.617Z"
   },
   {
    "duration": 45,
    "start_time": "2023-02-22T20:42:47.636Z"
   },
   {
    "duration": 9,
    "start_time": "2023-02-22T20:42:47.684Z"
   },
   {
    "duration": 16,
    "start_time": "2023-02-22T20:42:47.697Z"
   },
   {
    "duration": 4,
    "start_time": "2023-02-22T20:42:47.715Z"
   },
   {
    "duration": 33,
    "start_time": "2023-02-22T20:42:47.721Z"
   },
   {
    "duration": 41995,
    "start_time": "2023-02-22T20:42:47.756Z"
   },
   {
    "duration": 4,
    "start_time": "2023-02-22T20:43:29.753Z"
   },
   {
    "duration": 26,
    "start_time": "2023-02-22T20:43:29.759Z"
   },
   {
    "duration": 3,
    "start_time": "2023-02-22T20:43:29.787Z"
   },
   {
    "duration": 8,
    "start_time": "2023-02-22T20:43:29.793Z"
   },
   {
    "duration": 5,
    "start_time": "2023-02-22T20:43:29.803Z"
   },
   {
    "duration": 6,
    "start_time": "2023-02-22T20:43:29.809Z"
   },
   {
    "duration": 436,
    "start_time": "2023-02-22T20:43:29.817Z"
   },
   {
    "duration": 3,
    "start_time": "2023-02-22T20:43:30.255Z"
   },
   {
    "duration": 30,
    "start_time": "2023-02-22T20:43:30.260Z"
   },
   {
    "duration": 44,
    "start_time": "2023-02-22T20:43:30.292Z"
   },
   {
    "duration": 43,
    "start_time": "2023-02-22T20:43:30.337Z"
   },
   {
    "duration": 172,
    "start_time": "2023-02-22T20:43:30.382Z"
   },
   {
    "duration": 101,
    "start_time": "2023-02-22T20:43:30.555Z"
   },
   {
    "duration": 54,
    "start_time": "2023-02-22T20:43:30.657Z"
   },
   {
    "duration": 42,
    "start_time": "2023-02-22T20:43:30.713Z"
   },
   {
    "duration": 98,
    "start_time": "2023-02-22T20:43:30.757Z"
   },
   {
    "duration": 46,
    "start_time": "2023-02-22T20:43:30.856Z"
   },
   {
    "duration": 9,
    "start_time": "2023-02-22T20:43:30.904Z"
   },
   {
    "duration": 31,
    "start_time": "2023-02-22T20:43:30.914Z"
   },
   {
    "duration": 63,
    "start_time": "2023-02-22T20:43:30.947Z"
   },
   {
    "duration": 56292,
    "start_time": "2023-02-22T20:43:31.011Z"
   },
   {
    "duration": 4,
    "start_time": "2023-02-22T20:44:27.304Z"
   },
   {
    "duration": 28,
    "start_time": "2023-02-22T20:44:27.310Z"
   },
   {
    "duration": 12,
    "start_time": "2023-02-22T20:44:27.342Z"
   },
   {
    "duration": 584,
    "start_time": "2023-02-22T20:44:27.356Z"
   },
   {
    "duration": 4,
    "start_time": "2023-02-22T20:44:27.942Z"
   },
   {
    "duration": 15,
    "start_time": "2023-02-22T20:44:27.947Z"
   },
   {
    "duration": 3,
    "start_time": "2023-02-22T20:44:27.964Z"
   },
   {
    "duration": 285,
    "start_time": "2023-02-22T20:44:27.969Z"
   },
   {
    "duration": 4,
    "start_time": "2023-02-22T20:44:28.257Z"
   },
   {
    "duration": 108,
    "start_time": "2023-02-22T20:44:28.263Z"
   },
   {
    "duration": 104,
    "start_time": "2023-02-22T20:44:28.455Z"
   },
   {
    "duration": 41982,
    "start_time": "2023-02-22T20:44:28.561Z"
   },
   {
    "duration": 8,
    "start_time": "2023-02-22T20:45:10.545Z"
   },
   {
    "duration": 17,
    "start_time": "2023-02-22T20:45:10.555Z"
   },
   {
    "duration": 4,
    "start_time": "2023-02-22T20:45:10.573Z"
   },
   {
    "duration": 438,
    "start_time": "2023-02-22T20:45:10.578Z"
   },
   {
    "duration": 4,
    "start_time": "2023-02-22T20:45:11.018Z"
   },
   {
    "duration": 11,
    "start_time": "2023-02-22T20:45:11.023Z"
   },
   {
    "duration": 4,
    "start_time": "2023-02-22T20:45:11.035Z"
   },
   {
    "duration": 12,
    "start_time": "2023-02-22T20:45:39.751Z"
   },
   {
    "duration": 4,
    "start_time": "2023-02-22T20:45:42.700Z"
   },
   {
    "duration": 14,
    "start_time": "2023-02-22T20:45:46.224Z"
   },
   {
    "duration": 4,
    "start_time": "2023-02-22T20:45:47.094Z"
   },
   {
    "duration": 4,
    "start_time": "2023-02-22T20:46:09.223Z"
   },
   {
    "duration": 3,
    "start_time": "2023-02-22T20:47:41.055Z"
   },
   {
    "duration": 75,
    "start_time": "2023-02-22T20:47:55.796Z"
   },
   {
    "duration": 85,
    "start_time": "2023-02-22T20:48:02.221Z"
   },
   {
    "duration": 67,
    "start_time": "2023-02-22T20:48:25.343Z"
   },
   {
    "duration": 68,
    "start_time": "2023-02-22T20:48:44.309Z"
   },
   {
    "duration": 4,
    "start_time": "2023-02-22T20:52:39.271Z"
   },
   {
    "duration": 46,
    "start_time": "2023-02-22T20:53:16.816Z"
   },
   {
    "duration": 75,
    "start_time": "2023-02-22T20:53:47.479Z"
   },
   {
    "duration": 16,
    "start_time": "2023-02-22T20:54:06.740Z"
   },
   {
    "duration": 3,
    "start_time": "2023-02-22T20:54:52.781Z"
   },
   {
    "duration": 13,
    "start_time": "2023-02-22T20:54:56.779Z"
   },
   {
    "duration": 5,
    "start_time": "2023-02-22T20:55:24.901Z"
   },
   {
    "duration": 1143,
    "start_time": "2023-02-22T20:57:27.736Z"
   },
   {
    "duration": 52,
    "start_time": "2023-02-22T20:57:28.881Z"
   },
   {
    "duration": 4,
    "start_time": "2023-02-22T20:57:28.935Z"
   },
   {
    "duration": 15,
    "start_time": "2023-02-22T20:57:28.941Z"
   },
   {
    "duration": 6,
    "start_time": "2023-02-22T20:57:28.957Z"
   },
   {
    "duration": 5,
    "start_time": "2023-02-22T20:57:28.965Z"
   },
   {
    "duration": 31,
    "start_time": "2023-02-22T20:57:28.971Z"
   },
   {
    "duration": 3,
    "start_time": "2023-02-22T20:57:29.005Z"
   },
   {
    "duration": 21,
    "start_time": "2023-02-22T20:57:29.010Z"
   },
   {
    "duration": 4,
    "start_time": "2023-02-22T20:57:29.034Z"
   },
   {
    "duration": 7,
    "start_time": "2023-02-22T20:57:29.053Z"
   },
   {
    "duration": 34,
    "start_time": "2023-02-22T20:57:29.062Z"
   },
   {
    "duration": 14,
    "start_time": "2023-02-22T20:57:29.098Z"
   },
   {
    "duration": 23,
    "start_time": "2023-02-22T20:57:29.114Z"
   },
   {
    "duration": 10,
    "start_time": "2023-02-22T20:57:29.138Z"
   },
   {
    "duration": 15,
    "start_time": "2023-02-22T20:57:29.150Z"
   },
   {
    "duration": 43274,
    "start_time": "2023-02-22T20:57:29.166Z"
   },
   {
    "duration": 12,
    "start_time": "2023-02-22T20:58:12.442Z"
   },
   {
    "duration": 17,
    "start_time": "2023-02-22T20:58:12.456Z"
   },
   {
    "duration": 5,
    "start_time": "2023-02-22T20:58:12.475Z"
   },
   {
    "duration": 8,
    "start_time": "2023-02-22T20:58:12.482Z"
   },
   {
    "duration": 11,
    "start_time": "2023-02-22T20:58:12.492Z"
   },
   {
    "duration": 8,
    "start_time": "2023-02-22T20:58:12.505Z"
   },
   {
    "duration": 456,
    "start_time": "2023-02-22T20:58:12.515Z"
   },
   {
    "duration": 3,
    "start_time": "2023-02-22T20:58:12.973Z"
   },
   {
    "duration": 12,
    "start_time": "2023-02-22T20:58:12.978Z"
   },
   {
    "duration": 5,
    "start_time": "2023-02-22T20:58:12.992Z"
   },
   {
    "duration": 9,
    "start_time": "2023-02-22T20:58:13.000Z"
   },
   {
    "duration": 123,
    "start_time": "2023-02-22T20:58:13.010Z"
   },
   {
    "duration": 0,
    "start_time": "2023-02-22T20:58:13.135Z"
   },
   {
    "duration": 0,
    "start_time": "2023-02-22T20:58:13.136Z"
   },
   {
    "duration": 0,
    "start_time": "2023-02-22T20:58:13.137Z"
   },
   {
    "duration": 0,
    "start_time": "2023-02-22T20:58:13.139Z"
   },
   {
    "duration": 0,
    "start_time": "2023-02-22T20:58:13.153Z"
   },
   {
    "duration": 0,
    "start_time": "2023-02-22T20:58:13.154Z"
   },
   {
    "duration": 0,
    "start_time": "2023-02-22T20:58:13.156Z"
   },
   {
    "duration": 0,
    "start_time": "2023-02-22T20:58:13.157Z"
   },
   {
    "duration": 0,
    "start_time": "2023-02-22T20:58:13.159Z"
   },
   {
    "duration": 0,
    "start_time": "2023-02-22T20:58:13.160Z"
   },
   {
    "duration": 0,
    "start_time": "2023-02-22T20:58:13.161Z"
   },
   {
    "duration": 0,
    "start_time": "2023-02-22T20:58:13.163Z"
   },
   {
    "duration": 0,
    "start_time": "2023-02-22T20:58:13.164Z"
   },
   {
    "duration": 0,
    "start_time": "2023-02-22T20:58:13.165Z"
   },
   {
    "duration": 0,
    "start_time": "2023-02-22T20:58:13.166Z"
   },
   {
    "duration": 0,
    "start_time": "2023-02-22T20:58:13.167Z"
   },
   {
    "duration": 0,
    "start_time": "2023-02-22T20:58:13.168Z"
   },
   {
    "duration": 0,
    "start_time": "2023-02-22T20:58:13.169Z"
   },
   {
    "duration": 0,
    "start_time": "2023-02-22T20:58:13.170Z"
   },
   {
    "duration": 0,
    "start_time": "2023-02-22T20:58:13.171Z"
   },
   {
    "duration": 0,
    "start_time": "2023-02-22T20:58:13.173Z"
   },
   {
    "duration": 0,
    "start_time": "2023-02-22T20:58:13.174Z"
   },
   {
    "duration": 0,
    "start_time": "2023-02-22T20:58:13.175Z"
   },
   {
    "duration": 0,
    "start_time": "2023-02-22T20:58:13.176Z"
   },
   {
    "duration": 0,
    "start_time": "2023-02-22T20:58:13.177Z"
   },
   {
    "duration": 0,
    "start_time": "2023-02-22T20:58:13.178Z"
   },
   {
    "duration": 0,
    "start_time": "2023-02-22T20:58:13.181Z"
   },
   {
    "duration": 0,
    "start_time": "2023-02-22T20:58:13.182Z"
   },
   {
    "duration": 0,
    "start_time": "2023-02-22T20:58:13.183Z"
   },
   {
    "duration": 0,
    "start_time": "2023-02-22T20:58:13.184Z"
   },
   {
    "duration": 0,
    "start_time": "2023-02-22T20:58:13.185Z"
   },
   {
    "duration": 0,
    "start_time": "2023-02-22T20:58:13.185Z"
   },
   {
    "duration": 1037,
    "start_time": "2023-02-22T20:59:09.903Z"
   },
   {
    "duration": 52,
    "start_time": "2023-02-22T20:59:10.942Z"
   },
   {
    "duration": 3,
    "start_time": "2023-02-22T20:59:10.996Z"
   },
   {
    "duration": 15,
    "start_time": "2023-02-22T20:59:11.001Z"
   },
   {
    "duration": 5,
    "start_time": "2023-02-22T20:59:11.018Z"
   },
   {
    "duration": 7,
    "start_time": "2023-02-22T20:59:11.024Z"
   },
   {
    "duration": 34,
    "start_time": "2023-02-22T20:59:11.032Z"
   },
   {
    "duration": 4,
    "start_time": "2023-02-22T20:59:11.068Z"
   },
   {
    "duration": 14,
    "start_time": "2023-02-22T20:59:11.073Z"
   },
   {
    "duration": 9,
    "start_time": "2023-02-22T20:59:11.088Z"
   },
   {
    "duration": 17,
    "start_time": "2023-02-22T20:59:11.098Z"
   },
   {
    "duration": 40,
    "start_time": "2023-02-22T20:59:11.117Z"
   },
   {
    "duration": 8,
    "start_time": "2023-02-22T20:59:11.158Z"
   },
   {
    "duration": 9,
    "start_time": "2023-02-22T20:59:11.169Z"
   },
   {
    "duration": 4,
    "start_time": "2023-02-22T20:59:11.180Z"
   },
   {
    "duration": 8,
    "start_time": "2023-02-22T20:59:11.185Z"
   },
   {
    "duration": 41130,
    "start_time": "2023-02-22T20:59:11.194Z"
   },
   {
    "duration": 4,
    "start_time": "2023-02-22T20:59:52.326Z"
   },
   {
    "duration": 26,
    "start_time": "2023-02-22T20:59:52.331Z"
   },
   {
    "duration": 4,
    "start_time": "2023-02-22T20:59:52.358Z"
   },
   {
    "duration": 16,
    "start_time": "2023-02-22T20:59:52.363Z"
   },
   {
    "duration": 6,
    "start_time": "2023-02-22T20:59:52.381Z"
   },
   {
    "duration": 7,
    "start_time": "2023-02-22T20:59:52.388Z"
   },
   {
    "duration": 429,
    "start_time": "2023-02-22T20:59:52.396Z"
   },
   {
    "duration": 4,
    "start_time": "2023-02-22T20:59:52.827Z"
   },
   {
    "duration": 22,
    "start_time": "2023-02-22T20:59:52.833Z"
   },
   {
    "duration": 5,
    "start_time": "2023-02-22T20:59:52.856Z"
   },
   {
    "duration": 7,
    "start_time": "2023-02-22T20:59:52.862Z"
   },
   {
    "duration": 191,
    "start_time": "2023-02-22T20:59:52.870Z"
   },
   {
    "duration": 96,
    "start_time": "2023-02-22T20:59:53.063Z"
   },
   {
    "duration": 136,
    "start_time": "2023-02-22T20:59:53.161Z"
   },
   {
    "duration": 104,
    "start_time": "2023-02-22T20:59:53.355Z"
   },
   {
    "duration": 10,
    "start_time": "2023-02-22T20:59:53.460Z"
   },
   {
    "duration": 13,
    "start_time": "2023-02-22T20:59:53.472Z"
   },
   {
    "duration": 11,
    "start_time": "2023-02-22T20:59:53.487Z"
   },
   {
    "duration": 9,
    "start_time": "2023-02-22T20:59:53.501Z"
   },
   {
    "duration": 51,
    "start_time": "2023-02-22T20:59:53.512Z"
   },
   {
    "duration": 58204,
    "start_time": "2023-02-22T20:59:53.565Z"
   },
   {
    "duration": 3,
    "start_time": "2023-02-22T21:00:51.771Z"
   },
   {
    "duration": 26,
    "start_time": "2023-02-22T21:00:51.776Z"
   },
   {
    "duration": 4,
    "start_time": "2023-02-22T21:00:51.806Z"
   },
   {
    "duration": 538,
    "start_time": "2023-02-22T21:00:51.812Z"
   },
   {
    "duration": 3,
    "start_time": "2023-02-22T21:00:52.353Z"
   },
   {
    "duration": 22,
    "start_time": "2023-02-22T21:00:52.358Z"
   },
   {
    "duration": 5,
    "start_time": "2023-02-22T21:00:52.382Z"
   },
   {
    "duration": 169,
    "start_time": "2023-02-22T21:00:52.389Z"
   },
   {
    "duration": 96,
    "start_time": "2023-02-22T21:00:52.560Z"
   },
   {
    "duration": 104,
    "start_time": "2023-02-22T21:00:52.659Z"
   },
   {
    "duration": 13,
    "start_time": "2023-02-22T21:00:52.854Z"
   },
   {
    "duration": 43592,
    "start_time": "2023-02-22T21:00:52.954Z"
   },
   {
    "duration": 8,
    "start_time": "2023-02-22T21:01:36.547Z"
   },
   {
    "duration": 21,
    "start_time": "2023-02-22T21:01:36.557Z"
   },
   {
    "duration": 4,
    "start_time": "2023-02-22T21:01:36.579Z"
   },
   {
    "duration": 464,
    "start_time": "2023-02-22T21:01:36.585Z"
   },
   {
    "duration": 5,
    "start_time": "2023-02-22T21:01:37.051Z"
   },
   {
    "duration": 17,
    "start_time": "2023-02-22T21:01:37.057Z"
   },
   {
    "duration": 4,
    "start_time": "2023-02-22T21:01:37.075Z"
   },
   {
    "duration": 179,
    "start_time": "2023-02-22T21:01:37.080Z"
   },
   {
    "duration": 95,
    "start_time": "2023-02-22T21:01:37.261Z"
   },
   {
    "duration": 96,
    "start_time": "2023-02-22T21:01:37.358Z"
   },
   {
    "duration": 115,
    "start_time": "2023-02-22T21:01:37.461Z"
   },
   {
    "duration": 1147,
    "start_time": "2023-02-23T07:16:50.685Z"
   },
   {
    "duration": 194,
    "start_time": "2023-02-23T07:16:51.834Z"
   },
   {
    "duration": 4,
    "start_time": "2023-02-23T07:16:52.029Z"
   },
   {
    "duration": 22,
    "start_time": "2023-02-23T07:16:52.035Z"
   },
   {
    "duration": 5,
    "start_time": "2023-02-23T07:16:52.058Z"
   },
   {
    "duration": 10,
    "start_time": "2023-02-23T07:16:52.064Z"
   },
   {
    "duration": 25,
    "start_time": "2023-02-23T07:16:52.075Z"
   },
   {
    "duration": 3,
    "start_time": "2023-02-23T07:16:52.102Z"
   },
   {
    "duration": 14,
    "start_time": "2023-02-23T07:16:52.107Z"
   },
   {
    "duration": 5,
    "start_time": "2023-02-23T07:16:52.124Z"
   },
   {
    "duration": 9,
    "start_time": "2023-02-23T07:16:52.131Z"
   },
   {
    "duration": 50,
    "start_time": "2023-02-23T07:16:52.141Z"
   },
   {
    "duration": 7,
    "start_time": "2023-02-23T07:16:52.193Z"
   },
   {
    "duration": 9,
    "start_time": "2023-02-23T07:16:52.201Z"
   },
   {
    "duration": 6,
    "start_time": "2023-02-23T07:16:52.211Z"
   },
   {
    "duration": 5,
    "start_time": "2023-02-23T07:16:52.218Z"
   },
   {
    "duration": 41563,
    "start_time": "2023-02-23T07:16:52.225Z"
   },
   {
    "duration": 4,
    "start_time": "2023-02-23T07:17:33.793Z"
   },
   {
    "duration": 16,
    "start_time": "2023-02-23T07:17:33.799Z"
   },
   {
    "duration": 4,
    "start_time": "2023-02-23T07:17:33.817Z"
   },
   {
    "duration": 14,
    "start_time": "2023-02-23T07:17:33.822Z"
   },
   {
    "duration": 19,
    "start_time": "2023-02-23T07:17:33.838Z"
   },
   {
    "duration": 9,
    "start_time": "2023-02-23T07:17:33.859Z"
   },
   {
    "duration": 409,
    "start_time": "2023-02-23T07:17:33.870Z"
   },
   {
    "duration": 4,
    "start_time": "2023-02-23T07:17:34.280Z"
   },
   {
    "duration": 10,
    "start_time": "2023-02-23T07:17:34.291Z"
   },
   {
    "duration": 4,
    "start_time": "2023-02-23T07:17:34.302Z"
   },
   {
    "duration": 4,
    "start_time": "2023-02-23T07:17:34.309Z"
   },
   {
    "duration": 183,
    "start_time": "2023-02-23T07:17:34.314Z"
   },
   {
    "duration": 94,
    "start_time": "2023-02-23T07:17:34.500Z"
   },
   {
    "duration": 113,
    "start_time": "2023-02-23T07:17:34.596Z"
   },
   {
    "duration": 7,
    "start_time": "2023-02-23T07:17:34.792Z"
   },
   {
    "duration": 99,
    "start_time": "2023-02-23T07:17:34.801Z"
   },
   {
    "duration": 12,
    "start_time": "2023-02-23T07:17:34.902Z"
   },
   {
    "duration": 7,
    "start_time": "2023-02-23T07:17:34.916Z"
   },
   {
    "duration": 9,
    "start_time": "2023-02-23T07:17:34.925Z"
   },
   {
    "duration": 30,
    "start_time": "2023-02-23T07:17:34.935Z"
   },
   {
    "duration": 56909,
    "start_time": "2023-02-23T07:17:34.966Z"
   },
   {
    "duration": 4,
    "start_time": "2023-02-23T07:18:31.877Z"
   },
   {
    "duration": 36,
    "start_time": "2023-02-23T07:18:31.882Z"
   },
   {
    "duration": 15,
    "start_time": "2023-02-23T07:18:31.920Z"
   },
   {
    "duration": 558,
    "start_time": "2023-02-23T07:18:31.936Z"
   },
   {
    "duration": 4,
    "start_time": "2023-02-23T07:18:32.496Z"
   },
   {
    "duration": 19,
    "start_time": "2023-02-23T07:18:32.501Z"
   },
   {
    "duration": 3,
    "start_time": "2023-02-23T07:18:32.522Z"
   },
   {
    "duration": 172,
    "start_time": "2023-02-23T07:18:32.527Z"
   },
   {
    "duration": 93,
    "start_time": "2023-02-23T07:18:32.701Z"
   },
   {
    "duration": 110,
    "start_time": "2023-02-23T07:18:32.796Z"
   },
   {
    "duration": 103,
    "start_time": "2023-02-23T07:18:32.992Z"
   },
   {
    "duration": 40820,
    "start_time": "2023-02-23T07:18:33.097Z"
   },
   {
    "duration": 4,
    "start_time": "2023-02-23T07:19:13.919Z"
   },
   {
    "duration": 43,
    "start_time": "2023-02-23T07:19:13.925Z"
   },
   {
    "duration": 19,
    "start_time": "2023-02-23T07:19:13.970Z"
   },
   {
    "duration": 471,
    "start_time": "2023-02-23T07:19:13.991Z"
   },
   {
    "duration": 4,
    "start_time": "2023-02-23T07:19:14.464Z"
   },
   {
    "duration": 22,
    "start_time": "2023-02-23T07:19:14.470Z"
   },
   {
    "duration": 4,
    "start_time": "2023-02-23T07:19:14.494Z"
   },
   {
    "duration": 194,
    "start_time": "2023-02-23T07:19:14.500Z"
   },
   {
    "duration": 97,
    "start_time": "2023-02-23T07:19:14.697Z"
   },
   {
    "duration": 98,
    "start_time": "2023-02-23T07:19:14.795Z"
   },
   {
    "duration": 105,
    "start_time": "2023-02-23T07:19:14.896Z"
   },
   {
    "duration": 7,
    "start_time": "2023-02-23T07:27:07.829Z"
   },
   {
    "duration": 6,
    "start_time": "2023-02-23T07:28:55.202Z"
   },
   {
    "duration": 5,
    "start_time": "2023-02-23T07:29:18.240Z"
   },
   {
    "duration": 4,
    "start_time": "2023-02-23T07:29:28.215Z"
   },
   {
    "duration": 5,
    "start_time": "2023-02-23T07:29:34.520Z"
   },
   {
    "duration": 5,
    "start_time": "2023-02-23T07:29:35.912Z"
   },
   {
    "duration": 5,
    "start_time": "2023-02-23T07:29:36.432Z"
   },
   {
    "duration": 4,
    "start_time": "2023-02-23T07:29:41.904Z"
   },
   {
    "duration": 3,
    "start_time": "2023-02-23T07:29:49.172Z"
   },
   {
    "duration": 4,
    "start_time": "2023-02-23T07:30:14.776Z"
   },
   {
    "duration": 5,
    "start_time": "2023-02-23T07:30:33.000Z"
   },
   {
    "duration": 4,
    "start_time": "2023-02-23T07:30:33.400Z"
   },
   {
    "duration": 6,
    "start_time": "2023-02-23T07:31:18.279Z"
   },
   {
    "duration": 4,
    "start_time": "2023-02-23T07:31:18.615Z"
   },
   {
    "duration": 4,
    "start_time": "2023-02-23T07:31:26.849Z"
   },
   {
    "duration": 230,
    "start_time": "2023-02-23T07:37:43.164Z"
   },
   {
    "duration": 1217,
    "start_time": "2023-02-24T07:31:00.545Z"
   },
   {
    "duration": 221,
    "start_time": "2023-02-24T07:31:01.764Z"
   },
   {
    "duration": 4,
    "start_time": "2023-02-24T07:31:01.987Z"
   },
   {
    "duration": 40,
    "start_time": "2023-02-24T07:31:01.994Z"
   },
   {
    "duration": 15,
    "start_time": "2023-02-24T07:31:02.037Z"
   },
   {
    "duration": 30,
    "start_time": "2023-02-24T07:31:02.055Z"
   },
   {
    "duration": 48,
    "start_time": "2023-02-24T07:31:02.088Z"
   },
   {
    "duration": 5,
    "start_time": "2023-02-24T07:31:02.138Z"
   },
   {
    "duration": 31,
    "start_time": "2023-02-24T07:31:02.145Z"
   },
   {
    "duration": 19,
    "start_time": "2023-02-24T07:31:02.179Z"
   },
   {
    "duration": 14,
    "start_time": "2023-02-24T07:31:02.200Z"
   },
   {
    "duration": 38,
    "start_time": "2023-02-24T07:31:02.216Z"
   },
   {
    "duration": 9,
    "start_time": "2023-02-24T07:31:02.255Z"
   },
   {
    "duration": 31,
    "start_time": "2023-02-24T07:31:02.265Z"
   },
   {
    "duration": 14,
    "start_time": "2023-02-24T07:31:02.297Z"
   },
   {
    "duration": 23,
    "start_time": "2023-02-24T07:31:02.313Z"
   },
   {
    "duration": 43927,
    "start_time": "2023-02-24T07:31:02.338Z"
   },
   {
    "duration": 5,
    "start_time": "2023-02-24T07:31:46.266Z"
   },
   {
    "duration": 21,
    "start_time": "2023-02-24T07:31:46.273Z"
   },
   {
    "duration": 8,
    "start_time": "2023-02-24T07:31:46.296Z"
   },
   {
    "duration": 11,
    "start_time": "2023-02-24T07:31:46.306Z"
   },
   {
    "duration": 8,
    "start_time": "2023-02-24T07:31:46.319Z"
   },
   {
    "duration": 5,
    "start_time": "2023-02-24T07:31:46.345Z"
   },
   {
    "duration": 452,
    "start_time": "2023-02-24T07:31:46.351Z"
   },
   {
    "duration": 5,
    "start_time": "2023-02-24T07:31:46.805Z"
   },
   {
    "duration": 12,
    "start_time": "2023-02-24T07:31:46.812Z"
   },
   {
    "duration": 22,
    "start_time": "2023-02-24T07:31:46.826Z"
   },
   {
    "duration": 9,
    "start_time": "2023-02-24T07:31:46.853Z"
   },
   {
    "duration": 684,
    "start_time": "2023-02-24T07:31:46.864Z"
   },
   {
    "duration": 96,
    "start_time": "2023-02-24T07:31:47.551Z"
   },
   {
    "duration": 14,
    "start_time": "2023-02-24T07:31:47.649Z"
   },
   {
    "duration": 91,
    "start_time": "2023-02-24T07:31:47.665Z"
   },
   {
    "duration": 101,
    "start_time": "2023-02-24T07:31:47.760Z"
   },
   {
    "duration": 17,
    "start_time": "2023-02-24T07:31:47.863Z"
   },
   {
    "duration": 8,
    "start_time": "2023-02-24T07:31:47.882Z"
   },
   {
    "duration": 8,
    "start_time": "2023-02-24T07:31:47.892Z"
   },
   {
    "duration": 44,
    "start_time": "2023-02-24T07:31:47.901Z"
   },
   {
    "duration": 59006,
    "start_time": "2023-02-24T07:31:47.947Z"
   },
   {
    "duration": 4,
    "start_time": "2023-02-24T07:32:46.955Z"
   },
   {
    "duration": 30,
    "start_time": "2023-02-24T07:32:46.961Z"
   },
   {
    "duration": 4,
    "start_time": "2023-02-24T07:32:46.993Z"
   },
   {
    "duration": 587,
    "start_time": "2023-02-24T07:32:46.999Z"
   },
   {
    "duration": 5,
    "start_time": "2023-02-24T07:32:47.589Z"
   },
   {
    "duration": 14,
    "start_time": "2023-02-24T07:32:47.595Z"
   },
   {
    "duration": 5,
    "start_time": "2023-02-24T07:32:47.610Z"
   },
   {
    "duration": 532,
    "start_time": "2023-02-24T07:32:47.616Z"
   },
   {
    "duration": 5,
    "start_time": "2023-02-24T07:32:48.152Z"
   },
   {
    "duration": 18,
    "start_time": "2023-02-24T07:32:48.246Z"
   },
   {
    "duration": 103,
    "start_time": "2023-02-24T07:32:48.347Z"
   },
   {
    "duration": 44140,
    "start_time": "2023-02-24T07:32:48.452Z"
   },
   {
    "duration": 5,
    "start_time": "2023-02-24T07:33:32.594Z"
   },
   {
    "duration": 21,
    "start_time": "2023-02-24T07:33:32.601Z"
   },
   {
    "duration": 22,
    "start_time": "2023-02-24T07:33:32.623Z"
   },
   {
    "duration": 467,
    "start_time": "2023-02-24T07:33:32.646Z"
   },
   {
    "duration": 4,
    "start_time": "2023-02-24T07:33:33.116Z"
   },
   {
    "duration": 24,
    "start_time": "2023-02-24T07:33:33.122Z"
   },
   {
    "duration": 5,
    "start_time": "2023-02-24T07:33:33.148Z"
   },
   {
    "duration": 101,
    "start_time": "2023-02-24T07:33:33.154Z"
   },
   {
    "duration": 91,
    "start_time": "2023-02-24T07:33:33.257Z"
   },
   {
    "duration": 105,
    "start_time": "2023-02-24T07:33:33.350Z"
   },
   {
    "duration": 89,
    "start_time": "2023-02-24T07:33:33.458Z"
   },
   {
    "duration": 105,
    "start_time": "2023-02-24T07:33:33.552Z"
   },
   {
    "duration": 260,
    "start_time": "2023-02-24T07:33:33.659Z"
   },
   {
    "duration": 110,
    "start_time": "2023-02-24T07:44:46.745Z"
   },
   {
    "duration": 11,
    "start_time": "2023-02-24T07:45:35.795Z"
   },
   {
    "duration": 14,
    "start_time": "2023-02-24T07:46:30.689Z"
   },
   {
    "duration": 7,
    "start_time": "2023-02-24T07:47:08.504Z"
   },
   {
    "duration": 13,
    "start_time": "2023-02-24T07:47:15.175Z"
   },
   {
    "duration": 7,
    "start_time": "2023-02-24T07:47:15.900Z"
   },
   {
    "duration": 40,
    "start_time": "2023-02-24T07:47:52.069Z"
   },
   {
    "duration": 59885,
    "start_time": "2023-02-24T07:48:32.495Z"
   },
   {
    "duration": 5,
    "start_time": "2023-02-24T07:49:37.576Z"
   },
   {
    "duration": 19,
    "start_time": "2023-02-24T07:50:06.337Z"
   },
   {
    "duration": 4,
    "start_time": "2023-02-24T07:50:06.912Z"
   },
   {
    "duration": 23,
    "start_time": "2023-02-24T07:53:20.545Z"
   },
   {
    "duration": 14,
    "start_time": "2023-02-24T07:53:41.752Z"
   },
   {
    "duration": 16,
    "start_time": "2023-02-24T07:54:04.184Z"
   },
   {
    "duration": 21,
    "start_time": "2023-02-24T07:54:39.840Z"
   },
   {
    "duration": 5,
    "start_time": "2023-02-24T07:54:40.080Z"
   },
   {
    "duration": 536,
    "start_time": "2023-02-24T07:54:48.252Z"
   },
   {
    "duration": 5,
    "start_time": "2023-02-24T07:54:49.774Z"
   },
   {
    "duration": 19,
    "start_time": "2023-02-24T07:55:13.639Z"
   },
   {
    "duration": 11,
    "start_time": "2023-02-24T07:55:32.783Z"
   },
   {
    "duration": 4,
    "start_time": "2023-02-24T07:55:34.621Z"
   },
   {
    "duration": 95,
    "start_time": "2023-02-24T07:57:58.960Z"
   },
   {
    "duration": 4,
    "start_time": "2023-02-24T07:58:00.302Z"
   },
   {
    "duration": 39,
    "start_time": "2023-02-24T07:58:16.816Z"
   },
   {
    "duration": 19,
    "start_time": "2023-02-24T07:58:27.190Z"
   },
   {
    "duration": 4,
    "start_time": "2023-02-24T07:58:28.416Z"
   },
   {
    "duration": 1147,
    "start_time": "2023-02-24T07:58:44.138Z"
   },
   {
    "duration": 59,
    "start_time": "2023-02-24T07:58:45.287Z"
   },
   {
    "duration": 3,
    "start_time": "2023-02-24T07:58:45.348Z"
   },
   {
    "duration": 15,
    "start_time": "2023-02-24T07:58:45.354Z"
   },
   {
    "duration": 5,
    "start_time": "2023-02-24T07:58:45.371Z"
   },
   {
    "duration": 11,
    "start_time": "2023-02-24T07:58:45.378Z"
   },
   {
    "duration": 37,
    "start_time": "2023-02-24T07:58:45.391Z"
   },
   {
    "duration": 5,
    "start_time": "2023-02-24T07:58:45.429Z"
   },
   {
    "duration": 23,
    "start_time": "2023-02-24T07:58:45.445Z"
   },
   {
    "duration": 5,
    "start_time": "2023-02-24T07:58:45.472Z"
   },
   {
    "duration": 13,
    "start_time": "2023-02-24T07:58:45.479Z"
   },
   {
    "duration": 28,
    "start_time": "2023-02-24T07:58:45.494Z"
   },
   {
    "duration": 23,
    "start_time": "2023-02-24T07:58:45.523Z"
   },
   {
    "duration": 14,
    "start_time": "2023-02-24T07:58:45.547Z"
   },
   {
    "duration": 4,
    "start_time": "2023-02-24T07:58:45.563Z"
   },
   {
    "duration": 9,
    "start_time": "2023-02-24T07:58:45.568Z"
   },
   {
    "duration": 44631,
    "start_time": "2023-02-24T07:58:45.578Z"
   },
   {
    "duration": 6,
    "start_time": "2023-02-24T07:59:30.211Z"
   },
   {
    "duration": 32,
    "start_time": "2023-02-24T07:59:30.219Z"
   },
   {
    "duration": 23,
    "start_time": "2023-02-24T07:59:30.253Z"
   },
   {
    "duration": 32,
    "start_time": "2023-02-24T07:59:30.278Z"
   },
   {
    "duration": 35,
    "start_time": "2023-02-24T07:59:30.312Z"
   },
   {
    "duration": 25,
    "start_time": "2023-02-24T07:59:30.349Z"
   },
   {
    "duration": 542,
    "start_time": "2023-02-24T07:59:30.376Z"
   },
   {
    "duration": 4,
    "start_time": "2023-02-24T07:59:30.920Z"
   },
   {
    "duration": 44,
    "start_time": "2023-02-24T07:59:30.926Z"
   },
   {
    "duration": 22,
    "start_time": "2023-02-24T07:59:30.971Z"
   },
   {
    "duration": 21,
    "start_time": "2023-02-24T07:59:30.998Z"
   },
   {
    "duration": 724,
    "start_time": "2023-02-24T07:59:31.021Z"
   },
   {
    "duration": 4,
    "start_time": "2023-02-24T07:59:31.747Z"
   },
   {
    "duration": 24,
    "start_time": "2023-02-24T07:59:31.753Z"
   },
   {
    "duration": 169,
    "start_time": "2023-02-24T07:59:31.779Z"
   },
   {
    "duration": 14,
    "start_time": "2023-02-24T07:59:31.950Z"
   },
   {
    "duration": 19,
    "start_time": "2023-02-24T07:59:31.966Z"
   },
   {
    "duration": 20,
    "start_time": "2023-02-24T07:59:31.987Z"
   },
   {
    "duration": 60127,
    "start_time": "2023-02-24T07:59:32.009Z"
   },
   {
    "duration": 8,
    "start_time": "2023-02-24T08:00:32.138Z"
   },
   {
    "duration": 43,
    "start_time": "2023-02-24T08:00:32.148Z"
   },
   {
    "duration": 5,
    "start_time": "2023-02-24T08:00:32.193Z"
   },
   {
    "duration": 564,
    "start_time": "2023-02-24T08:00:32.200Z"
   },
   {
    "duration": 4,
    "start_time": "2023-02-24T08:00:32.765Z"
   },
   {
    "duration": 16,
    "start_time": "2023-02-24T08:00:32.770Z"
   },
   {
    "duration": 11,
    "start_time": "2023-02-24T08:00:32.788Z"
   },
   {
    "duration": 244,
    "start_time": "2023-02-24T08:00:32.801Z"
   },
   {
    "duration": 98,
    "start_time": "2023-02-24T08:00:33.048Z"
   },
   {
    "duration": 20,
    "start_time": "2023-02-24T08:00:33.149Z"
   },
   {
    "duration": 89,
    "start_time": "2023-02-24T08:00:33.171Z"
   },
   {
    "duration": 44219,
    "start_time": "2023-02-24T08:00:33.347Z"
   },
   {
    "duration": 5,
    "start_time": "2023-02-24T08:01:17.567Z"
   },
   {
    "duration": 24,
    "start_time": "2023-02-24T08:01:17.574Z"
   },
   {
    "duration": 10,
    "start_time": "2023-02-24T08:01:17.600Z"
   },
   {
    "duration": 482,
    "start_time": "2023-02-24T08:01:17.612Z"
   },
   {
    "duration": 5,
    "start_time": "2023-02-24T08:01:18.096Z"
   },
   {
    "duration": 11,
    "start_time": "2023-02-24T08:01:18.103Z"
   },
   {
    "duration": 6,
    "start_time": "2023-02-24T08:01:18.116Z"
   },
   {
    "duration": 426,
    "start_time": "2023-02-24T08:01:18.123Z"
   },
   {
    "duration": 93,
    "start_time": "2023-02-24T08:01:18.553Z"
   },
   {
    "duration": 97,
    "start_time": "2023-02-24T08:01:18.648Z"
   },
   {
    "duration": 100,
    "start_time": "2023-02-24T08:01:18.748Z"
   },
   {
    "duration": 115,
    "start_time": "2023-02-24T08:01:18.851Z"
   },
   {
    "duration": 0,
    "start_time": "2023-02-24T08:01:18.968Z"
   },
   {
    "duration": 14,
    "start_time": "2023-02-24T08:02:03.167Z"
   },
   {
    "duration": 8,
    "start_time": "2023-02-24T08:02:04.150Z"
   },
   {
    "duration": 55905,
    "start_time": "2023-02-24T08:02:07.245Z"
   },
   {
    "duration": 5,
    "start_time": "2023-02-24T08:03:03.151Z"
   },
   {
    "duration": 21,
    "start_time": "2023-02-24T08:04:06.380Z"
   },
   {
    "duration": 6,
    "start_time": "2023-02-24T08:04:07.203Z"
   },
   {
    "duration": 11,
    "start_time": "2023-02-24T08:04:19.405Z"
   },
   {
    "duration": 7,
    "start_time": "2023-02-24T08:04:19.812Z"
   },
   {
    "duration": 63097,
    "start_time": "2023-02-24T08:04:26.473Z"
   },
   {
    "duration": 5,
    "start_time": "2023-02-24T08:05:29.573Z"
   },
   {
    "duration": 24,
    "start_time": "2023-02-24T08:05:29.580Z"
   },
   {
    "duration": 5,
    "start_time": "2023-02-24T08:05:29.606Z"
   },
   {
    "duration": 10,
    "start_time": "2023-02-24T08:05:48.827Z"
   },
   {
    "duration": 6,
    "start_time": "2023-02-24T08:05:49.090Z"
   },
   {
    "duration": 69979,
    "start_time": "2023-02-24T08:05:53.258Z"
   },
   {
    "duration": 6,
    "start_time": "2023-02-24T08:07:03.240Z"
   },
   {
    "duration": 34,
    "start_time": "2023-02-24T08:07:03.248Z"
   },
   {
    "duration": 4,
    "start_time": "2023-02-24T08:07:03.285Z"
   },
   {
    "duration": 10,
    "start_time": "2023-02-24T08:07:15.561Z"
   },
   {
    "duration": 7,
    "start_time": "2023-02-24T08:07:16.081Z"
   },
   {
    "duration": 59602,
    "start_time": "2023-02-24T08:07:20.028Z"
   },
   {
    "duration": 4,
    "start_time": "2023-02-24T08:08:19.632Z"
   },
   {
    "duration": 28,
    "start_time": "2023-02-24T08:08:19.637Z"
   },
   {
    "duration": 5,
    "start_time": "2023-02-24T08:08:19.668Z"
   },
   {
    "duration": 455,
    "start_time": "2023-02-24T08:10:55.550Z"
   },
   {
    "duration": 4,
    "start_time": "2023-02-24T08:10:56.245Z"
   },
   {
    "duration": 43548,
    "start_time": "2023-02-24T08:11:05.390Z"
   },
   {
    "duration": 7,
    "start_time": "2023-02-24T08:11:48.940Z"
   },
   {
    "duration": 26,
    "start_time": "2023-02-24T08:11:48.948Z"
   },
   {
    "duration": 4,
    "start_time": "2023-02-24T08:11:48.976Z"
   },
   {
    "duration": 489,
    "start_time": "2023-02-24T08:12:20.356Z"
   },
   {
    "duration": 6,
    "start_time": "2023-02-24T08:12:21.432Z"
   },
   {
    "duration": 10,
    "start_time": "2023-02-24T08:12:29.019Z"
   },
   {
    "duration": 5,
    "start_time": "2023-02-24T08:12:30.567Z"
   },
   {
    "duration": 6,
    "start_time": "2023-02-24T08:14:08.756Z"
   },
   {
    "duration": 16,
    "start_time": "2023-02-24T08:15:25.513Z"
   },
   {
    "duration": 264,
    "start_time": "2023-02-24T08:15:57.536Z"
   },
   {
    "duration": 241,
    "start_time": "2023-02-24T08:17:26.465Z"
   },
   {
    "duration": 105,
    "start_time": "2023-02-24T08:18:44.424Z"
   },
   {
    "duration": 5,
    "start_time": "2023-02-24T08:29:33.062Z"
   },
   {
    "duration": 21,
    "start_time": "2023-02-24T08:30:53.050Z"
   },
   {
    "duration": 4,
    "start_time": "2023-02-24T08:30:59.272Z"
   },
   {
    "duration": 10,
    "start_time": "2023-02-24T08:30:59.612Z"
   },
   {
    "duration": 35,
    "start_time": "2023-02-24T08:32:30.514Z"
   },
   {
    "duration": 6,
    "start_time": "2023-02-24T08:32:58.333Z"
   },
   {
    "duration": 10,
    "start_time": "2023-02-24T08:33:03.827Z"
   },
   {
    "duration": 6,
    "start_time": "2023-02-24T08:33:04.500Z"
   },
   {
    "duration": 10,
    "start_time": "2023-02-24T08:33:08.107Z"
   },
   {
    "duration": 7,
    "start_time": "2023-02-24T08:33:08.456Z"
   },
   {
    "duration": 9,
    "start_time": "2023-02-24T08:33:14.531Z"
   },
   {
    "duration": 6,
    "start_time": "2023-02-24T08:33:15.076Z"
   },
   {
    "duration": 10,
    "start_time": "2023-02-24T08:33:19.321Z"
   },
   {
    "duration": 6,
    "start_time": "2023-02-24T08:33:19.582Z"
   },
   {
    "duration": 10,
    "start_time": "2023-02-24T08:33:24.360Z"
   },
   {
    "duration": 5,
    "start_time": "2023-02-24T08:33:24.532Z"
   },
   {
    "duration": 9,
    "start_time": "2023-02-24T08:33:28.076Z"
   },
   {
    "duration": 5,
    "start_time": "2023-02-24T08:33:28.301Z"
   },
   {
    "duration": 11,
    "start_time": "2023-02-24T08:33:33.563Z"
   },
   {
    "duration": 5,
    "start_time": "2023-02-24T08:33:33.836Z"
   },
   {
    "duration": 10,
    "start_time": "2023-02-24T08:33:39.090Z"
   },
   {
    "duration": 6,
    "start_time": "2023-02-24T08:33:39.468Z"
   },
   {
    "duration": 10,
    "start_time": "2023-02-24T08:33:44.366Z"
   },
   {
    "duration": 5,
    "start_time": "2023-02-24T08:33:44.924Z"
   },
   {
    "duration": 11,
    "start_time": "2023-02-24T08:33:50.267Z"
   },
   {
    "duration": 6,
    "start_time": "2023-02-24T08:33:50.692Z"
   },
   {
    "duration": 10,
    "start_time": "2023-02-24T08:33:54.779Z"
   },
   {
    "duration": 6,
    "start_time": "2023-02-24T08:33:55.115Z"
   },
   {
    "duration": 10,
    "start_time": "2023-02-24T08:34:01.787Z"
   },
   {
    "duration": 6,
    "start_time": "2023-02-24T08:34:02.068Z"
   },
   {
    "duration": 10,
    "start_time": "2023-02-24T08:34:07.235Z"
   },
   {
    "duration": 10,
    "start_time": "2023-02-24T08:34:07.650Z"
   },
   {
    "duration": 62591,
    "start_time": "2023-02-24T08:35:11.049Z"
   },
   {
    "duration": 25671,
    "start_time": "2023-02-24T08:36:25.219Z"
   },
   {
    "duration": 62927,
    "start_time": "2023-02-24T08:38:09.935Z"
   },
   {
    "duration": 12,
    "start_time": "2023-02-24T08:39:30.717Z"
   },
   {
    "duration": 7,
    "start_time": "2023-02-24T08:39:30.992Z"
   },
   {
    "duration": 27018,
    "start_time": "2023-02-24T08:39:32.910Z"
   },
   {
    "duration": 9,
    "start_time": "2023-02-24T08:40:12.303Z"
   },
   {
    "duration": 7,
    "start_time": "2023-02-24T08:40:12.542Z"
   },
   {
    "duration": 30333,
    "start_time": "2023-02-24T08:40:13.213Z"
   },
   {
    "duration": 10,
    "start_time": "2023-02-24T08:40:59.376Z"
   },
   {
    "duration": 8,
    "start_time": "2023-02-24T08:40:59.859Z"
   },
   {
    "duration": 10,
    "start_time": "2023-02-24T08:41:05.120Z"
   },
   {
    "duration": 9,
    "start_time": "2023-02-24T08:41:05.464Z"
   },
   {
    "duration": 10,
    "start_time": "2023-02-24T08:41:19.060Z"
   },
   {
    "duration": 6,
    "start_time": "2023-02-24T08:41:19.376Z"
   },
   {
    "duration": 30765,
    "start_time": "2023-02-24T08:41:19.691Z"
   },
   {
    "duration": 590,
    "start_time": "2023-02-24T08:42:51.417Z"
   },
   {
    "duration": 297,
    "start_time": "2023-02-24T08:43:54.451Z"
   },
   {
    "duration": 10,
    "start_time": "2023-02-24T08:44:12.704Z"
   },
   {
    "duration": 315,
    "start_time": "2023-02-24T08:44:16.021Z"
   },
   {
    "duration": 9,
    "start_time": "2023-02-24T08:44:23.225Z"
   },
   {
    "duration": 319,
    "start_time": "2023-02-24T08:44:25.848Z"
   },
   {
    "duration": 15,
    "start_time": "2023-02-24T08:44:34.842Z"
   },
   {
    "duration": 321,
    "start_time": "2023-02-24T08:44:37.416Z"
   },
   {
    "duration": 7,
    "start_time": "2023-02-24T08:44:45.817Z"
   },
   {
    "duration": 31250,
    "start_time": "2023-02-24T08:44:47.879Z"
   },
   {
    "duration": 17,
    "start_time": "2023-02-24T08:45:25.840Z"
   },
   {
    "duration": 332,
    "start_time": "2023-02-24T08:45:29.241Z"
   },
   {
    "duration": 11,
    "start_time": "2023-02-24T08:45:34.887Z"
   },
   {
    "duration": 7,
    "start_time": "2023-02-24T08:45:35.233Z"
   },
   {
    "duration": 303,
    "start_time": "2023-02-24T08:45:38.734Z"
   },
   {
    "duration": 12,
    "start_time": "2023-02-24T08:45:47.466Z"
   },
   {
    "duration": 312,
    "start_time": "2023-02-24T08:45:50.786Z"
   },
   {
    "duration": 10,
    "start_time": "2023-02-24T08:45:59.791Z"
   },
   {
    "duration": 327,
    "start_time": "2023-02-24T08:46:02.721Z"
   },
   {
    "duration": 10,
    "start_time": "2023-02-24T08:46:07.700Z"
   },
   {
    "duration": 313,
    "start_time": "2023-02-24T08:46:10.943Z"
   },
   {
    "duration": 32057,
    "start_time": "2023-02-24T08:46:30.871Z"
   },
   {
    "duration": 307,
    "start_time": "2023-02-24T08:47:06.598Z"
   },
   {
    "duration": 199,
    "start_time": "2023-02-24T08:53:06.456Z"
   },
   {
    "duration": 206,
    "start_time": "2023-02-24T08:54:07.142Z"
   },
   {
    "duration": 10,
    "start_time": "2023-02-24T09:02:53.892Z"
   },
   {
    "duration": 12,
    "start_time": "2023-02-24T09:03:00.386Z"
   },
   {
    "duration": 22,
    "start_time": "2023-02-24T09:03:01.465Z"
   },
   {
    "duration": 9,
    "start_time": "2023-02-24T09:03:33.800Z"
   },
   {
    "duration": 6,
    "start_time": "2023-02-24T09:03:37.387Z"
   },
   {
    "duration": 9,
    "start_time": "2023-02-24T09:03:38.462Z"
   },
   {
    "duration": 11,
    "start_time": "2023-02-24T09:03:43.335Z"
   },
   {
    "duration": 29,
    "start_time": "2023-02-24T09:03:44.042Z"
   },
   {
    "duration": 11,
    "start_time": "2023-02-24T09:03:58.506Z"
   },
   {
    "duration": 25,
    "start_time": "2023-02-24T09:03:59.004Z"
   },
   {
    "duration": 11,
    "start_time": "2023-02-24T09:04:04.390Z"
   },
   {
    "duration": 25,
    "start_time": "2023-02-24T09:04:04.662Z"
   },
   {
    "duration": 3,
    "start_time": "2023-02-24T09:04:44.115Z"
   },
   {
    "duration": 3,
    "start_time": "2023-02-24T09:04:50.515Z"
   },
   {
    "duration": 4,
    "start_time": "2023-02-24T09:47:20.404Z"
   },
   {
    "duration": 11,
    "start_time": "2023-02-24T09:49:19.239Z"
   },
   {
    "duration": 172,
    "start_time": "2023-02-24T09:54:40.518Z"
   },
   {
    "duration": 12,
    "start_time": "2023-02-24T09:54:54.815Z"
   },
   {
    "duration": 141,
    "start_time": "2023-02-24T09:54:55.223Z"
   },
   {
    "duration": 10,
    "start_time": "2023-02-24T09:54:59.400Z"
   },
   {
    "duration": 134,
    "start_time": "2023-02-24T09:54:59.790Z"
   },
   {
    "duration": 10,
    "start_time": "2023-02-24T09:55:03.526Z"
   },
   {
    "duration": 129,
    "start_time": "2023-02-24T09:55:03.895Z"
   },
   {
    "duration": 12,
    "start_time": "2023-02-24T09:55:07.414Z"
   },
   {
    "duration": 152,
    "start_time": "2023-02-24T09:55:07.846Z"
   },
   {
    "duration": 18,
    "start_time": "2023-02-24T09:55:11.666Z"
   },
   {
    "duration": 164,
    "start_time": "2023-02-24T09:55:11.942Z"
   },
   {
    "duration": 14,
    "start_time": "2023-02-24T09:55:15.382Z"
   },
   {
    "duration": 177,
    "start_time": "2023-02-24T09:55:15.709Z"
   },
   {
    "duration": 25,
    "start_time": "2023-02-24T09:55:38.015Z"
   },
   {
    "duration": 32,
    "start_time": "2023-02-24T09:56:13.830Z"
   },
   {
    "duration": 15,
    "start_time": "2023-02-24T09:56:51.329Z"
   },
   {
    "duration": 16,
    "start_time": "2023-02-24T09:57:19.062Z"
   },
   {
    "duration": 15,
    "start_time": "2023-02-24T10:07:53.507Z"
   },
   {
    "duration": 8,
    "start_time": "2023-02-24T10:08:07.785Z"
   },
   {
    "duration": 6,
    "start_time": "2023-02-24T10:08:29.291Z"
   },
   {
    "duration": 10,
    "start_time": "2023-02-24T10:08:29.724Z"
   },
   {
    "duration": 236,
    "start_time": "2023-02-24T10:10:04.418Z"
   },
   {
    "duration": 26,
    "start_time": "2023-02-24T10:10:54.113Z"
   },
   {
    "duration": 26,
    "start_time": "2023-02-24T10:11:07.194Z"
   },
   {
    "duration": 142,
    "start_time": "2023-02-24T10:11:25.705Z"
   },
   {
    "duration": 292,
    "start_time": "2023-02-24T10:11:30.556Z"
   },
   {
    "duration": 333,
    "start_time": "2023-02-24T10:11:38.113Z"
   },
   {
    "duration": 248,
    "start_time": "2023-02-24T10:11:42.898Z"
   },
   {
    "duration": 326,
    "start_time": "2023-02-24T10:12:51.644Z"
   },
   {
    "duration": 316,
    "start_time": "2023-02-24T10:13:03.623Z"
   },
   {
    "duration": 112,
    "start_time": "2023-02-24T10:13:55.540Z"
   },
   {
    "duration": 213,
    "start_time": "2023-02-24T10:14:02.634Z"
   },
   {
    "duration": 218,
    "start_time": "2023-02-24T10:14:15.338Z"
   },
   {
    "duration": 14,
    "start_time": "2023-02-24T10:15:57.960Z"
   },
   {
    "duration": 217,
    "start_time": "2023-02-24T10:16:20.528Z"
   },
   {
    "duration": 141,
    "start_time": "2023-02-24T10:16:44.008Z"
   },
   {
    "duration": 160,
    "start_time": "2023-02-24T10:17:01.104Z"
   },
   {
    "duration": 20,
    "start_time": "2023-02-24T10:17:35.183Z"
   },
   {
    "duration": 25,
    "start_time": "2023-02-24T10:17:50.615Z"
   },
   {
    "duration": 20,
    "start_time": "2023-02-24T10:17:57.311Z"
   },
   {
    "duration": 12,
    "start_time": "2023-02-24T10:18:12.104Z"
   },
   {
    "duration": 4,
    "start_time": "2023-02-24T10:18:21.073Z"
   },
   {
    "duration": 62,
    "start_time": "2023-02-24T11:06:45.135Z"
   },
   {
    "duration": 5,
    "start_time": "2023-02-24T11:06:54.420Z"
   },
   {
    "duration": 7,
    "start_time": "2023-02-24T11:08:03.741Z"
   },
   {
    "duration": 12,
    "start_time": "2023-02-24T11:08:18.249Z"
   },
   {
    "duration": 44,
    "start_time": "2023-02-24T11:11:10.237Z"
   },
   {
    "duration": 4,
    "start_time": "2023-02-24T11:12:00.271Z"
   },
   {
    "duration": 16,
    "start_time": "2023-02-24T11:12:22.648Z"
   },
   {
    "duration": 7,
    "start_time": "2023-02-24T11:12:33.392Z"
   },
   {
    "duration": 6,
    "start_time": "2023-02-24T11:12:46.293Z"
   },
   {
    "duration": 10,
    "start_time": "2023-02-24T11:12:46.701Z"
   },
   {
    "duration": 31,
    "start_time": "2023-02-24T11:12:46.730Z"
   },
   {
    "duration": 54,
    "start_time": "2023-02-24T11:13:40.902Z"
   },
   {
    "duration": 9,
    "start_time": "2023-02-24T11:18:37.188Z"
   },
   {
    "duration": 14,
    "start_time": "2023-02-24T11:18:54.899Z"
   },
   {
    "duration": 15,
    "start_time": "2023-02-24T11:19:00.630Z"
   },
   {
    "duration": 12,
    "start_time": "2023-02-24T11:20:17.524Z"
   },
   {
    "duration": 6,
    "start_time": "2023-02-24T11:20:30.484Z"
   },
   {
    "duration": 9,
    "start_time": "2023-02-24T11:20:48.867Z"
   },
   {
    "duration": 9,
    "start_time": "2023-02-24T11:20:59.145Z"
   },
   {
    "duration": 9,
    "start_time": "2023-02-24T11:21:07.995Z"
   },
   {
    "duration": 4,
    "start_time": "2023-02-24T11:23:27.139Z"
   },
   {
    "duration": 11,
    "start_time": "2023-02-24T11:23:37.058Z"
   },
   {
    "duration": 36,
    "start_time": "2023-02-24T11:24:01.074Z"
   },
   {
    "duration": 518,
    "start_time": "2023-02-24T11:27:46.080Z"
   },
   {
    "duration": 218,
    "start_time": "2023-02-24T11:28:59.328Z"
   },
   {
    "duration": 214,
    "start_time": "2023-02-24T11:29:13.491Z"
   },
   {
    "duration": 181,
    "start_time": "2023-02-24T11:29:21.016Z"
   },
   {
    "duration": 178,
    "start_time": "2023-02-24T11:30:59.040Z"
   },
   {
    "duration": 330,
    "start_time": "2023-02-24T11:31:04.233Z"
   },
   {
    "duration": 1118,
    "start_time": "2023-02-24T11:39:33.172Z"
   },
   {
    "duration": 59,
    "start_time": "2023-02-24T11:39:34.291Z"
   },
   {
    "duration": 3,
    "start_time": "2023-02-24T11:39:34.352Z"
   },
   {
    "duration": 16,
    "start_time": "2023-02-24T11:39:34.357Z"
   },
   {
    "duration": 5,
    "start_time": "2023-02-24T11:39:34.374Z"
   },
   {
    "duration": 16,
    "start_time": "2023-02-24T11:39:34.381Z"
   },
   {
    "duration": 23,
    "start_time": "2023-02-24T11:39:34.399Z"
   },
   {
    "duration": 23,
    "start_time": "2023-02-24T11:39:34.423Z"
   },
   {
    "duration": 15,
    "start_time": "2023-02-24T11:39:34.447Z"
   },
   {
    "duration": 6,
    "start_time": "2023-02-24T11:39:34.465Z"
   },
   {
    "duration": 9,
    "start_time": "2023-02-24T11:39:34.473Z"
   },
   {
    "duration": 63,
    "start_time": "2023-02-24T11:39:34.484Z"
   },
   {
    "duration": 7,
    "start_time": "2023-02-24T11:39:34.549Z"
   },
   {
    "duration": 12,
    "start_time": "2023-02-24T11:39:34.558Z"
   },
   {
    "duration": 3,
    "start_time": "2023-02-24T11:39:34.572Z"
   },
   {
    "duration": 6,
    "start_time": "2023-02-24T11:39:34.576Z"
   },
   {
    "duration": 45054,
    "start_time": "2023-02-24T11:39:34.584Z"
   },
   {
    "duration": 6,
    "start_time": "2023-02-24T11:40:19.641Z"
   },
   {
    "duration": 24,
    "start_time": "2023-02-24T11:40:19.649Z"
   },
   {
    "duration": 4,
    "start_time": "2023-02-24T11:40:19.675Z"
   },
   {
    "duration": 17,
    "start_time": "2023-02-24T11:40:19.680Z"
   },
   {
    "duration": 12,
    "start_time": "2023-02-24T11:40:19.698Z"
   },
   {
    "duration": 12,
    "start_time": "2023-02-24T11:40:19.712Z"
   },
   {
    "duration": 457,
    "start_time": "2023-02-24T11:40:19.725Z"
   },
   {
    "duration": 4,
    "start_time": "2023-02-24T11:40:20.183Z"
   },
   {
    "duration": 26,
    "start_time": "2023-02-24T11:40:20.189Z"
   },
   {
    "duration": 19,
    "start_time": "2023-02-24T11:40:20.216Z"
   },
   {
    "duration": 4,
    "start_time": "2023-02-24T11:40:20.239Z"
   },
   {
    "duration": 203,
    "start_time": "2023-02-24T11:40:20.244Z"
   },
   {
    "duration": 99,
    "start_time": "2023-02-24T11:40:20.449Z"
   },
   {
    "duration": 19,
    "start_time": "2023-02-24T11:40:20.550Z"
   },
   {
    "duration": 175,
    "start_time": "2023-02-24T11:40:20.571Z"
   },
   {
    "duration": 8,
    "start_time": "2023-02-24T11:40:20.748Z"
   },
   {
    "duration": 18,
    "start_time": "2023-02-24T11:40:20.757Z"
   },
   {
    "duration": 5,
    "start_time": "2023-02-24T11:40:20.776Z"
   },
   {
    "duration": 60174,
    "start_time": "2023-02-24T11:40:20.783Z"
   },
   {
    "duration": 609,
    "start_time": "2023-02-24T11:41:20.960Z"
   },
   {
    "duration": 484,
    "start_time": "2023-02-24T11:41:21.571Z"
   },
   {
    "duration": 89,
    "start_time": "2023-02-24T11:41:22.058Z"
   },
   {
    "duration": 196,
    "start_time": "2023-02-24T11:41:22.149Z"
   },
   {
    "duration": 106,
    "start_time": "2023-02-24T11:41:22.352Z"
   },
   {
    "duration": 44747,
    "start_time": "2023-02-24T11:41:22.459Z"
   },
   {
    "duration": 4,
    "start_time": "2023-02-24T11:42:07.208Z"
   },
   {
    "duration": 21,
    "start_time": "2023-02-24T11:42:07.214Z"
   },
   {
    "duration": 4,
    "start_time": "2023-02-24T11:42:07.244Z"
   },
   {
    "duration": 463,
    "start_time": "2023-02-24T11:42:07.250Z"
   },
   {
    "duration": 4,
    "start_time": "2023-02-24T11:42:07.715Z"
   },
   {
    "duration": 15,
    "start_time": "2023-02-24T11:42:07.720Z"
   },
   {
    "duration": 4,
    "start_time": "2023-02-24T11:42:07.744Z"
   },
   {
    "duration": 595,
    "start_time": "2023-02-24T11:42:07.750Z"
   },
   {
    "duration": 4,
    "start_time": "2023-02-24T11:42:08.347Z"
   },
   {
    "duration": 14,
    "start_time": "2023-02-24T11:42:08.352Z"
   },
   {
    "duration": 4,
    "start_time": "2023-02-24T11:42:08.367Z"
   },
   {
    "duration": 30329,
    "start_time": "2023-02-24T11:42:08.373Z"
   },
   {
    "duration": 326,
    "start_time": "2023-02-24T11:42:38.704Z"
   },
   {
    "duration": 224,
    "start_time": "2023-02-24T11:42:39.032Z"
   },
   {
    "duration": 8,
    "start_time": "2023-02-24T11:42:39.345Z"
   },
   {
    "duration": 12,
    "start_time": "2023-02-24T11:42:39.355Z"
   },
   {
    "duration": 24,
    "start_time": "2023-02-24T11:42:39.369Z"
   },
   {
    "duration": 63,
    "start_time": "2023-02-24T11:42:39.394Z"
   },
   {
    "duration": 5,
    "start_time": "2023-02-24T11:42:39.459Z"
   },
   {
    "duration": 92,
    "start_time": "2023-02-24T11:42:39.466Z"
   },
   {
    "duration": 15,
    "start_time": "2023-02-24T11:42:39.646Z"
   },
   {
    "duration": 392,
    "start_time": "2023-02-24T11:42:39.664Z"
   },
   {
    "duration": 1064,
    "start_time": "2023-02-25T16:06:15.252Z"
   },
   {
    "duration": 148,
    "start_time": "2023-02-25T16:09:14.333Z"
   },
   {
    "duration": 103,
    "start_time": "2023-02-25T16:09:28.157Z"
   },
   {
    "duration": 5,
    "start_time": "2023-02-25T16:09:31.005Z"
   },
   {
    "duration": 14,
    "start_time": "2023-02-25T16:09:31.372Z"
   },
   {
    "duration": 10,
    "start_time": "2023-02-25T16:09:35.012Z"
   },
   {
    "duration": 20,
    "start_time": "2023-02-25T16:09:48.948Z"
   },
   {
    "duration": 9,
    "start_time": "2023-02-25T16:09:55.856Z"
   },
   {
    "duration": 8,
    "start_time": "2023-02-25T16:09:57.980Z"
   },
   {
    "duration": 5,
    "start_time": "2023-02-25T16:10:25.558Z"
   },
   {
    "duration": 19,
    "start_time": "2023-02-25T16:11:34.704Z"
   },
   {
    "duration": 9,
    "start_time": "2023-02-25T16:18:10.692Z"
   },
   {
    "duration": 4,
    "start_time": "2023-02-25T16:18:18.335Z"
   },
   {
    "duration": 21,
    "start_time": "2023-02-25T16:18:19.185Z"
   },
   {
    "duration": 4,
    "start_time": "2023-02-25T16:18:23.276Z"
   },
   {
    "duration": 8,
    "start_time": "2023-02-25T16:18:27.355Z"
   },
   {
    "duration": 9,
    "start_time": "2023-02-25T16:18:28.424Z"
   },
   {
    "duration": 4,
    "start_time": "2023-02-25T16:18:36.764Z"
   },
   {
    "duration": 17,
    "start_time": "2023-02-25T16:29:24.925Z"
   },
   {
    "duration": 8,
    "start_time": "2023-02-25T16:30:01.818Z"
   },
   {
    "duration": 8,
    "start_time": "2023-02-25T16:30:40.494Z"
   },
   {
    "duration": 17,
    "start_time": "2023-02-25T16:32:51.433Z"
   },
   {
    "duration": 11,
    "start_time": "2023-02-25T16:34:01.928Z"
   },
   {
    "duration": 6,
    "start_time": "2023-02-25T16:34:55.795Z"
   },
   {
    "duration": 19,
    "start_time": "2023-02-25T16:35:07.174Z"
   },
   {
    "duration": 10,
    "start_time": "2023-02-25T16:35:24.794Z"
   },
   {
    "duration": 15,
    "start_time": "2023-02-25T16:35:56.807Z"
   },
   {
    "duration": 14,
    "start_time": "2023-02-25T16:37:53.911Z"
   },
   {
    "duration": 15,
    "start_time": "2023-02-25T16:38:12.831Z"
   },
   {
    "duration": 20,
    "start_time": "2023-02-25T16:38:27.255Z"
   },
   {
    "duration": 1133,
    "start_time": "2023-02-25T16:43:14.628Z"
   },
   {
    "duration": 9,
    "start_time": "2023-02-25T16:43:26.986Z"
   },
   {
    "duration": 22,
    "start_time": "2023-02-25T16:44:54.796Z"
   },
   {
    "duration": 27,
    "start_time": "2023-02-25T16:46:03.886Z"
   },
   {
    "duration": 36,
    "start_time": "2023-02-25T16:47:55.937Z"
   },
   {
    "duration": 38,
    "start_time": "2023-02-25T16:48:20.171Z"
   },
   {
    "duration": 36,
    "start_time": "2023-02-25T16:48:33.157Z"
   },
   {
    "duration": 35,
    "start_time": "2023-02-25T16:48:40.678Z"
   },
   {
    "duration": 36,
    "start_time": "2023-02-25T16:48:46.190Z"
   },
   {
    "duration": 32,
    "start_time": "2023-02-25T16:50:31.751Z"
   },
   {
    "duration": 32,
    "start_time": "2023-02-25T16:51:02.109Z"
   },
   {
    "duration": 4,
    "start_time": "2023-02-25T16:51:21.237Z"
   },
   {
    "duration": 44,
    "start_time": "2023-02-25T16:51:22.093Z"
   },
   {
    "duration": 3,
    "start_time": "2023-02-25T16:51:25.756Z"
   },
   {
    "duration": 11,
    "start_time": "2023-02-25T16:51:26.551Z"
   },
   {
    "duration": 7,
    "start_time": "2023-02-25T16:51:28.630Z"
   },
   {
    "duration": 5,
    "start_time": "2023-02-25T16:51:30.790Z"
   },
   {
    "duration": 4,
    "start_time": "2023-02-25T16:51:36.078Z"
   },
   {
    "duration": 13,
    "start_time": "2023-02-25T16:51:36.729Z"
   },
   {
    "duration": 5,
    "start_time": "2023-02-25T16:51:40.602Z"
   },
   {
    "duration": 9,
    "start_time": "2023-02-25T16:51:44.469Z"
   },
   {
    "duration": 4,
    "start_time": "2023-02-25T16:51:44.872Z"
   },
   {
    "duration": 46,
    "start_time": "2023-02-25T16:51:47.790Z"
   },
   {
    "duration": 24,
    "start_time": "2023-02-25T16:52:02.982Z"
   },
   {
    "duration": 3,
    "start_time": "2023-02-25T16:52:20.551Z"
   },
   {
    "duration": 16,
    "start_time": "2023-02-25T16:52:25.030Z"
   },
   {
    "duration": 24,
    "start_time": "2023-02-25T16:52:50.138Z"
   },
   {
    "duration": 37,
    "start_time": "2023-02-25T16:53:03.937Z"
   },
   {
    "duration": 41,
    "start_time": "2023-02-25T16:53:26.730Z"
   },
   {
    "duration": 25,
    "start_time": "2023-02-25T16:53:40.469Z"
   },
   {
    "duration": 14,
    "start_time": "2023-02-25T16:53:52.529Z"
   },
   {
    "duration": 38,
    "start_time": "2023-02-25T16:54:49.710Z"
   },
   {
    "duration": 19,
    "start_time": "2023-02-25T16:55:42.311Z"
   },
   {
    "duration": 18,
    "start_time": "2023-02-25T16:56:12.002Z"
   },
   {
    "duration": 4,
    "start_time": "2023-02-25T16:56:36.793Z"
   },
   {
    "duration": 49,
    "start_time": "2023-02-25T16:56:37.502Z"
   },
   {
    "duration": 4,
    "start_time": "2023-02-25T16:56:38.139Z"
   },
   {
    "duration": 12,
    "start_time": "2023-02-25T16:56:39.537Z"
   },
   {
    "duration": 6,
    "start_time": "2023-02-25T16:56:40.410Z"
   },
   {
    "duration": 5,
    "start_time": "2023-02-25T16:56:41.562Z"
   },
   {
    "duration": 4,
    "start_time": "2023-02-25T16:56:44.858Z"
   },
   {
    "duration": 12,
    "start_time": "2023-02-25T16:56:45.442Z"
   },
   {
    "duration": 5,
    "start_time": "2023-02-25T16:56:46.142Z"
   },
   {
    "duration": 8,
    "start_time": "2023-02-25T16:56:49.090Z"
   },
   {
    "duration": 4,
    "start_time": "2023-02-25T16:56:49.359Z"
   },
   {
    "duration": 27,
    "start_time": "2023-02-25T16:56:52.397Z"
   },
   {
    "duration": 20,
    "start_time": "2023-02-25T16:57:20.402Z"
   },
   {
    "duration": 48,
    "start_time": "2023-02-25T16:57:52.911Z"
   },
   {
    "duration": 5,
    "start_time": "2023-02-25T16:57:53.137Z"
   },
   {
    "duration": 12,
    "start_time": "2023-02-25T16:57:53.411Z"
   },
   {
    "duration": 10,
    "start_time": "2023-02-25T16:57:54.210Z"
   },
   {
    "duration": 5,
    "start_time": "2023-02-25T16:57:55.490Z"
   },
   {
    "duration": 5,
    "start_time": "2023-02-25T16:57:58.530Z"
   },
   {
    "duration": 12,
    "start_time": "2023-02-25T16:57:59.591Z"
   },
   {
    "duration": 4,
    "start_time": "2023-02-25T16:58:03.921Z"
   },
   {
    "duration": 8,
    "start_time": "2023-02-25T16:58:10.029Z"
   },
   {
    "duration": 4,
    "start_time": "2023-02-25T16:58:10.283Z"
   },
   {
    "duration": 21,
    "start_time": "2023-02-25T16:58:11.501Z"
   },
   {
    "duration": 22,
    "start_time": "2023-02-25T16:58:28.349Z"
   },
   {
    "duration": 12,
    "start_time": "2023-02-25T17:00:31.450Z"
   },
   {
    "duration": 5,
    "start_time": "2023-02-25T17:00:51.413Z"
   },
   {
    "duration": 14,
    "start_time": "2023-02-25T17:01:03.238Z"
   },
   {
    "duration": 13,
    "start_time": "2023-02-25T17:01:54.742Z"
   },
   {
    "duration": 45,
    "start_time": "2023-02-25T17:02:10.749Z"
   },
   {
    "duration": 4,
    "start_time": "2023-02-25T17:02:11.210Z"
   },
   {
    "duration": 14,
    "start_time": "2023-02-25T17:02:11.751Z"
   },
   {
    "duration": 7,
    "start_time": "2023-02-25T17:02:12.658Z"
   },
   {
    "duration": 4,
    "start_time": "2023-02-25T17:02:13.866Z"
   },
   {
    "duration": 4,
    "start_time": "2023-02-25T17:02:16.350Z"
   },
   {
    "duration": 11,
    "start_time": "2023-02-25T17:02:17.002Z"
   },
   {
    "duration": 4,
    "start_time": "2023-02-25T17:02:18.030Z"
   },
   {
    "duration": 7,
    "start_time": "2023-02-25T17:02:20.462Z"
   },
   {
    "duration": 5,
    "start_time": "2023-02-25T17:02:21.121Z"
   },
   {
    "duration": 21,
    "start_time": "2023-02-25T17:02:22.897Z"
   },
   {
    "duration": 9,
    "start_time": "2023-02-25T17:02:23.177Z"
   },
   {
    "duration": 28,
    "start_time": "2023-02-25T17:02:25.171Z"
   },
   {
    "duration": 17,
    "start_time": "2023-02-25T17:02:36.441Z"
   },
   {
    "duration": 25,
    "start_time": "2023-02-25T17:02:56.597Z"
   },
   {
    "duration": 7,
    "start_time": "2023-02-25T17:03:14.561Z"
   },
   {
    "duration": 9,
    "start_time": "2023-02-25T17:03:50.589Z"
   },
   {
    "duration": 3,
    "start_time": "2023-02-25T17:03:55.190Z"
   },
   {
    "duration": 5,
    "start_time": "2023-02-25T17:04:42.742Z"
   },
   {
    "duration": 35524,
    "start_time": "2023-02-25T17:04:43.129Z"
   },
   {
    "duration": 3,
    "start_time": "2023-02-25T17:05:18.655Z"
   },
   {
    "duration": 67,
    "start_time": "2023-02-25T17:06:02.640Z"
   },
   {
    "duration": 5,
    "start_time": "2023-02-25T17:07:48.689Z"
   },
   {
    "duration": 123588,
    "start_time": "2023-02-25T17:07:51.757Z"
   },
   {
    "duration": 4,
    "start_time": "2023-02-25T17:09:55.347Z"
   },
   {
    "duration": 4,
    "start_time": "2023-02-25T17:10:50.220Z"
   },
   {
    "duration": 5,
    "start_time": "2023-02-25T17:17:20.033Z"
   },
   {
    "duration": 90,
    "start_time": "2023-02-25T17:18:38.070Z"
   },
   {
    "duration": 6,
    "start_time": "2023-02-25T17:18:44.918Z"
   },
   {
    "duration": 4,
    "start_time": "2023-02-25T17:20:09.988Z"
   },
   {
    "duration": 9,
    "start_time": "2023-02-25T17:21:00.178Z"
   },
   {
    "duration": 8,
    "start_time": "2023-02-25T17:21:11.537Z"
   },
   {
    "duration": 9,
    "start_time": "2023-02-25T17:21:25.677Z"
   },
   {
    "duration": 124135,
    "start_time": "2023-02-25T17:21:45.876Z"
   },
   {
    "duration": 4,
    "start_time": "2023-02-25T17:23:50.013Z"
   },
   {
    "duration": 762,
    "start_time": "2023-02-25T17:23:56.429Z"
   },
   {
    "duration": 123933,
    "start_time": "2023-02-25T17:26:21.208Z"
   },
   {
    "duration": 20,
    "start_time": "2023-02-25T17:28:44.809Z"
   },
   {
    "duration": 4,
    "start_time": "2023-02-25T17:29:12.278Z"
   },
   {
    "duration": 418,
    "start_time": "2023-02-25T17:29:14.329Z"
   },
   {
    "duration": 188,
    "start_time": "2023-02-25T17:29:23.089Z"
   },
   {
    "duration": 10,
    "start_time": "2023-02-25T17:30:24.609Z"
   },
   {
    "duration": 5,
    "start_time": "2023-02-25T17:30:27.548Z"
   },
   {
    "duration": 134,
    "start_time": "2023-02-25T17:30:27.881Z"
   },
   {
    "duration": 16,
    "start_time": "2023-02-25T17:30:28.261Z"
   },
   {
    "duration": 26,
    "start_time": "2023-02-25T17:30:49.209Z"
   },
   {
    "duration": 365,
    "start_time": "2023-02-25T17:30:57.085Z"
   },
   {
    "duration": 13,
    "start_time": "2023-02-25T17:33:22.788Z"
   },
   {
    "duration": 6,
    "start_time": "2023-02-25T17:33:36.428Z"
   },
   {
    "duration": 13,
    "start_time": "2023-02-25T17:33:36.900Z"
   },
   {
    "duration": 7,
    "start_time": "2023-02-25T17:33:38.080Z"
   },
   {
    "duration": 170662,
    "start_time": "2023-02-25T17:33:40.168Z"
   },
   {
    "duration": 658,
    "start_time": "2023-02-25T17:37:37.422Z"
   },
   {
    "duration": 308,
    "start_time": "2023-02-25T17:39:03.761Z"
   },
   {
    "duration": 4,
    "start_time": "2023-02-25T17:40:19.489Z"
   },
   {
    "duration": 361,
    "start_time": "2023-02-25T17:40:39.789Z"
   },
   {
    "duration": 4,
    "start_time": "2023-02-25T17:40:46.558Z"
   },
   {
    "duration": 69,
    "start_time": "2023-02-25T17:40:46.942Z"
   },
   {
    "duration": 312,
    "start_time": "2023-02-25T17:40:49.453Z"
   },
   {
    "duration": 299,
    "start_time": "2023-02-25T17:41:29.404Z"
   },
   {
    "duration": 479,
    "start_time": "2023-02-25T17:41:29.880Z"
   },
   {
    "duration": 30,
    "start_time": "2023-02-25T17:42:06.793Z"
   },
   {
    "duration": 23,
    "start_time": "2023-02-25T17:42:15.818Z"
   },
   {
    "duration": 1137,
    "start_time": "2023-02-25T17:42:22.729Z"
   },
   {
    "duration": 57,
    "start_time": "2023-02-25T17:42:23.869Z"
   },
   {
    "duration": 4,
    "start_time": "2023-02-25T17:42:23.928Z"
   },
   {
    "duration": 17,
    "start_time": "2023-02-25T17:42:23.934Z"
   },
   {
    "duration": 8,
    "start_time": "2023-02-25T17:42:23.954Z"
   },
   {
    "duration": 7,
    "start_time": "2023-02-25T17:42:23.963Z"
   },
   {
    "duration": 29,
    "start_time": "2023-02-25T17:42:23.971Z"
   },
   {
    "duration": 30,
    "start_time": "2023-02-25T17:42:24.002Z"
   },
   {
    "duration": 9,
    "start_time": "2023-02-25T17:42:24.034Z"
   },
   {
    "duration": 15,
    "start_time": "2023-02-25T17:42:24.045Z"
   },
   {
    "duration": 19,
    "start_time": "2023-02-25T17:42:24.062Z"
   },
   {
    "duration": 42,
    "start_time": "2023-02-25T17:42:24.083Z"
   },
   {
    "duration": 11,
    "start_time": "2023-02-25T17:42:24.128Z"
   },
   {
    "duration": 37,
    "start_time": "2023-02-25T17:42:24.144Z"
   },
   {
    "duration": 25,
    "start_time": "2023-02-25T17:42:24.183Z"
   },
   {
    "duration": 21,
    "start_time": "2023-02-25T17:42:24.210Z"
   },
   {
    "duration": 4,
    "start_time": "2023-02-25T17:42:24.233Z"
   },
   {
    "duration": 15,
    "start_time": "2023-02-25T17:42:24.239Z"
   },
   {
    "duration": 11,
    "start_time": "2023-02-25T17:42:24.256Z"
   },
   {
    "duration": 125181,
    "start_time": "2023-02-25T17:42:24.268Z"
   },
   {
    "duration": 5,
    "start_time": "2023-02-25T17:44:29.450Z"
   },
   {
    "duration": 401,
    "start_time": "2023-02-25T17:44:29.457Z"
   },
   {
    "duration": 265,
    "start_time": "2023-02-25T17:44:29.859Z"
   },
   {
    "duration": 5,
    "start_time": "2023-02-25T17:44:30.125Z"
   },
   {
    "duration": 272,
    "start_time": "2023-02-25T17:44:30.131Z"
   },
   {
    "duration": 471,
    "start_time": "2023-02-25T17:44:30.406Z"
   },
   {
    "duration": 4,
    "start_time": "2023-02-25T17:44:30.879Z"
   },
   {
    "duration": 37,
    "start_time": "2023-02-25T17:44:30.885Z"
   },
   {
    "duration": 35,
    "start_time": "2023-02-25T17:44:30.924Z"
   },
   {
    "duration": 346,
    "start_time": "2023-02-25T17:44:30.961Z"
   },
   {
    "duration": 0,
    "start_time": "2023-02-25T17:44:31.310Z"
   },
   {
    "duration": 0,
    "start_time": "2023-02-25T17:44:31.312Z"
   },
   {
    "duration": 0,
    "start_time": "2023-02-25T17:44:31.314Z"
   },
   {
    "duration": 0,
    "start_time": "2023-02-25T17:44:31.315Z"
   },
   {
    "duration": 0,
    "start_time": "2023-02-25T17:44:31.318Z"
   },
   {
    "duration": 0,
    "start_time": "2023-02-25T17:44:31.319Z"
   },
   {
    "duration": 0,
    "start_time": "2023-02-25T17:44:31.321Z"
   },
   {
    "duration": 0,
    "start_time": "2023-02-25T17:44:31.322Z"
   },
   {
    "duration": 0,
    "start_time": "2023-02-25T17:44:31.324Z"
   },
   {
    "duration": 0,
    "start_time": "2023-02-25T17:44:31.325Z"
   },
   {
    "duration": 0,
    "start_time": "2023-02-25T17:44:31.327Z"
   },
   {
    "duration": 0,
    "start_time": "2023-02-25T17:44:31.329Z"
   },
   {
    "duration": 0,
    "start_time": "2023-02-25T17:44:31.330Z"
   },
   {
    "duration": 0,
    "start_time": "2023-02-25T17:44:31.332Z"
   },
   {
    "duration": 0,
    "start_time": "2023-02-25T17:44:31.334Z"
   },
   {
    "duration": 0,
    "start_time": "2023-02-25T17:44:31.335Z"
   },
   {
    "duration": 0,
    "start_time": "2023-02-25T17:44:31.337Z"
   },
   {
    "duration": 0,
    "start_time": "2023-02-25T17:44:31.339Z"
   },
   {
    "duration": 0,
    "start_time": "2023-02-25T17:44:31.340Z"
   },
   {
    "duration": 0,
    "start_time": "2023-02-25T17:44:31.341Z"
   },
   {
    "duration": 0,
    "start_time": "2023-02-25T17:44:31.342Z"
   },
   {
    "duration": 0,
    "start_time": "2023-02-25T17:44:31.344Z"
   },
   {
    "duration": 0,
    "start_time": "2023-02-25T17:44:31.345Z"
   },
   {
    "duration": 0,
    "start_time": "2023-02-25T17:44:31.346Z"
   },
   {
    "duration": 0,
    "start_time": "2023-02-25T17:44:31.347Z"
   },
   {
    "duration": 0,
    "start_time": "2023-02-25T17:44:31.405Z"
   },
   {
    "duration": 217,
    "start_time": "2023-02-25T17:45:14.849Z"
   },
   {
    "duration": 208,
    "start_time": "2023-02-25T17:46:42.909Z"
   },
   {
    "duration": 1122,
    "start_time": "2023-02-25T17:47:02.224Z"
   },
   {
    "duration": 55,
    "start_time": "2023-02-25T17:47:03.348Z"
   },
   {
    "duration": 5,
    "start_time": "2023-02-25T17:47:03.404Z"
   },
   {
    "duration": 17,
    "start_time": "2023-02-25T17:47:03.411Z"
   },
   {
    "duration": 8,
    "start_time": "2023-02-25T17:47:03.431Z"
   },
   {
    "duration": 4,
    "start_time": "2023-02-25T17:47:03.441Z"
   },
   {
    "duration": 6,
    "start_time": "2023-02-25T17:47:03.447Z"
   },
   {
    "duration": 15,
    "start_time": "2023-02-25T17:47:03.455Z"
   },
   {
    "duration": 33,
    "start_time": "2023-02-25T17:47:03.471Z"
   },
   {
    "duration": 17,
    "start_time": "2023-02-25T17:47:03.506Z"
   },
   {
    "duration": 4,
    "start_time": "2023-02-25T17:47:03.525Z"
   },
   {
    "duration": 31,
    "start_time": "2023-02-25T17:47:03.531Z"
   },
   {
    "duration": 7,
    "start_time": "2023-02-25T17:47:03.564Z"
   },
   {
    "duration": 45,
    "start_time": "2023-02-25T17:47:03.574Z"
   },
   {
    "duration": 7,
    "start_time": "2023-02-25T17:47:03.620Z"
   },
   {
    "duration": 9,
    "start_time": "2023-02-25T17:47:03.629Z"
   },
   {
    "duration": 3,
    "start_time": "2023-02-25T17:47:03.639Z"
   },
   {
    "duration": 6,
    "start_time": "2023-02-25T17:47:03.643Z"
   },
   {
    "duration": 5,
    "start_time": "2023-02-25T17:47:03.650Z"
   },
   {
    "duration": 124109,
    "start_time": "2023-02-25T17:47:03.656Z"
   },
   {
    "duration": 4,
    "start_time": "2023-02-25T17:49:07.767Z"
   },
   {
    "duration": 397,
    "start_time": "2023-02-25T17:49:07.773Z"
   },
   {
    "duration": 244,
    "start_time": "2023-02-25T17:49:08.171Z"
   },
   {
    "duration": 4,
    "start_time": "2023-02-25T17:49:08.417Z"
   },
   {
    "duration": 190,
    "start_time": "2023-02-25T17:49:08.422Z"
   },
   {
    "duration": 445,
    "start_time": "2023-02-25T17:49:08.704Z"
   },
   {
    "duration": 4,
    "start_time": "2023-02-25T17:49:09.151Z"
   },
   {
    "duration": 19,
    "start_time": "2023-02-25T17:49:09.158Z"
   },
   {
    "duration": 5,
    "start_time": "2023-02-25T17:49:09.179Z"
   },
   {
    "duration": 323,
    "start_time": "2023-02-25T17:49:09.186Z"
   },
   {
    "duration": 0,
    "start_time": "2023-02-25T17:49:09.511Z"
   },
   {
    "duration": 0,
    "start_time": "2023-02-25T17:49:09.512Z"
   },
   {
    "duration": 0,
    "start_time": "2023-02-25T17:49:09.513Z"
   },
   {
    "duration": 0,
    "start_time": "2023-02-25T17:49:09.514Z"
   },
   {
    "duration": 0,
    "start_time": "2023-02-25T17:49:09.516Z"
   },
   {
    "duration": 0,
    "start_time": "2023-02-25T17:49:09.517Z"
   },
   {
    "duration": 0,
    "start_time": "2023-02-25T17:49:09.517Z"
   },
   {
    "duration": 0,
    "start_time": "2023-02-25T17:49:09.518Z"
   },
   {
    "duration": 0,
    "start_time": "2023-02-25T17:49:09.520Z"
   },
   {
    "duration": 0,
    "start_time": "2023-02-25T17:49:09.521Z"
   },
   {
    "duration": 0,
    "start_time": "2023-02-25T17:49:09.522Z"
   },
   {
    "duration": 0,
    "start_time": "2023-02-25T17:49:09.523Z"
   },
   {
    "duration": 0,
    "start_time": "2023-02-25T17:49:09.524Z"
   },
   {
    "duration": 0,
    "start_time": "2023-02-25T17:49:09.524Z"
   },
   {
    "duration": 0,
    "start_time": "2023-02-25T17:49:09.526Z"
   },
   {
    "duration": 0,
    "start_time": "2023-02-25T17:49:09.527Z"
   },
   {
    "duration": 0,
    "start_time": "2023-02-25T17:49:09.528Z"
   },
   {
    "duration": 0,
    "start_time": "2023-02-25T17:49:09.528Z"
   },
   {
    "duration": 0,
    "start_time": "2023-02-25T17:49:09.529Z"
   },
   {
    "duration": 0,
    "start_time": "2023-02-25T17:49:09.530Z"
   },
   {
    "duration": 0,
    "start_time": "2023-02-25T17:49:09.531Z"
   },
   {
    "duration": 0,
    "start_time": "2023-02-25T17:49:09.532Z"
   },
   {
    "duration": 4,
    "start_time": "2023-02-25T17:50:49.939Z"
   },
   {
    "duration": 11,
    "start_time": "2023-02-25T17:50:50.674Z"
   },
   {
    "duration": 6,
    "start_time": "2023-02-25T17:50:51.084Z"
   },
   {
    "duration": 221,
    "start_time": "2023-02-25T17:51:35.140Z"
   },
   {
    "duration": 29,
    "start_time": "2023-02-25T17:52:02.888Z"
   },
   {
    "duration": 7,
    "start_time": "2023-02-25T17:53:29.920Z"
   },
   {
    "duration": 22,
    "start_time": "2023-02-25T17:53:40.029Z"
   },
   {
    "duration": 12,
    "start_time": "2023-02-25T17:54:43.071Z"
   },
   {
    "duration": 4,
    "start_time": "2023-02-25T17:54:46.441Z"
   },
   {
    "duration": 12,
    "start_time": "2023-02-25T17:54:46.666Z"
   },
   {
    "duration": 6,
    "start_time": "2023-02-25T17:54:46.875Z"
   },
   {
    "duration": 227,
    "start_time": "2023-02-25T17:54:48.729Z"
   },
   {
    "duration": 232,
    "start_time": "2023-02-25T17:54:51.200Z"
   },
   {
    "duration": 1235,
    "start_time": "2023-02-25T17:56:36.989Z"
   },
   {
    "duration": 56,
    "start_time": "2023-02-25T17:56:38.227Z"
   },
   {
    "duration": 5,
    "start_time": "2023-02-25T17:56:38.285Z"
   },
   {
    "duration": 16,
    "start_time": "2023-02-25T17:56:38.292Z"
   },
   {
    "duration": 8,
    "start_time": "2023-02-25T17:56:38.311Z"
   },
   {
    "duration": 5,
    "start_time": "2023-02-25T17:56:38.320Z"
   },
   {
    "duration": 7,
    "start_time": "2023-02-25T17:56:38.327Z"
   },
   {
    "duration": 16,
    "start_time": "2023-02-25T17:56:38.336Z"
   },
   {
    "duration": 8,
    "start_time": "2023-02-25T17:56:38.353Z"
   },
   {
    "duration": 41,
    "start_time": "2023-02-25T17:56:38.362Z"
   },
   {
    "duration": 5,
    "start_time": "2023-02-25T17:56:38.405Z"
   },
   {
    "duration": 29,
    "start_time": "2023-02-25T17:56:38.413Z"
   },
   {
    "duration": 8,
    "start_time": "2023-02-25T17:56:38.444Z"
   },
   {
    "duration": 66,
    "start_time": "2023-02-25T17:56:38.458Z"
   },
   {
    "duration": 8,
    "start_time": "2023-02-25T17:56:38.525Z"
   },
   {
    "duration": 11,
    "start_time": "2023-02-25T17:56:38.535Z"
   },
   {
    "duration": 25,
    "start_time": "2023-02-25T17:56:38.548Z"
   },
   {
    "duration": 37,
    "start_time": "2023-02-25T17:56:38.578Z"
   },
   {
    "duration": 17,
    "start_time": "2023-02-25T17:56:38.618Z"
   },
   {
    "duration": 125855,
    "start_time": "2023-02-25T17:56:38.637Z"
   },
   {
    "duration": 22,
    "start_time": "2023-02-25T17:58:44.494Z"
   },
   {
    "duration": 402,
    "start_time": "2023-02-25T17:58:44.522Z"
   },
   {
    "duration": 260,
    "start_time": "2023-02-25T17:58:44.925Z"
   },
   {
    "duration": 4,
    "start_time": "2023-02-25T17:58:45.187Z"
   },
   {
    "duration": 112,
    "start_time": "2023-02-25T17:58:45.203Z"
   },
   {
    "duration": 446,
    "start_time": "2023-02-25T17:58:45.317Z"
   },
   {
    "duration": 4,
    "start_time": "2023-02-25T17:58:45.765Z"
   },
   {
    "duration": 15,
    "start_time": "2023-02-25T17:58:45.771Z"
   },
   {
    "duration": 16,
    "start_time": "2023-02-25T17:58:45.788Z"
   },
   {
    "duration": 317,
    "start_time": "2023-02-25T17:58:45.806Z"
   },
   {
    "duration": 0,
    "start_time": "2023-02-25T17:58:46.125Z"
   },
   {
    "duration": 0,
    "start_time": "2023-02-25T17:58:46.126Z"
   },
   {
    "duration": 0,
    "start_time": "2023-02-25T17:58:46.127Z"
   },
   {
    "duration": 0,
    "start_time": "2023-02-25T17:58:46.128Z"
   },
   {
    "duration": 0,
    "start_time": "2023-02-25T17:58:46.129Z"
   },
   {
    "duration": 0,
    "start_time": "2023-02-25T17:58:46.130Z"
   },
   {
    "duration": 0,
    "start_time": "2023-02-25T17:58:46.131Z"
   },
   {
    "duration": 0,
    "start_time": "2023-02-25T17:58:46.132Z"
   },
   {
    "duration": 0,
    "start_time": "2023-02-25T17:58:46.134Z"
   },
   {
    "duration": 0,
    "start_time": "2023-02-25T17:58:46.135Z"
   },
   {
    "duration": 0,
    "start_time": "2023-02-25T17:58:46.136Z"
   },
   {
    "duration": 0,
    "start_time": "2023-02-25T17:58:46.137Z"
   },
   {
    "duration": 0,
    "start_time": "2023-02-25T17:58:46.138Z"
   },
   {
    "duration": 0,
    "start_time": "2023-02-25T17:58:46.140Z"
   },
   {
    "duration": 0,
    "start_time": "2023-02-25T17:58:46.141Z"
   },
   {
    "duration": 0,
    "start_time": "2023-02-25T17:58:46.142Z"
   },
   {
    "duration": 0,
    "start_time": "2023-02-25T17:58:46.144Z"
   },
   {
    "duration": 0,
    "start_time": "2023-02-25T17:58:46.146Z"
   },
   {
    "duration": 0,
    "start_time": "2023-02-25T17:58:46.147Z"
   },
   {
    "duration": 0,
    "start_time": "2023-02-25T17:58:46.149Z"
   },
   {
    "duration": 0,
    "start_time": "2023-02-25T17:58:46.150Z"
   },
   {
    "duration": 0,
    "start_time": "2023-02-25T17:58:46.152Z"
   },
   {
    "duration": 0,
    "start_time": "2023-02-25T17:58:46.153Z"
   },
   {
    "duration": 5,
    "start_time": "2023-02-25T17:59:01.320Z"
   },
   {
    "duration": 11,
    "start_time": "2023-02-25T17:59:04.946Z"
   },
   {
    "duration": 6,
    "start_time": "2023-02-25T17:59:05.700Z"
   },
   {
    "duration": 122,
    "start_time": "2023-02-25T17:59:08.299Z"
   },
   {
    "duration": 130,
    "start_time": "2023-02-25T18:00:10.363Z"
   },
   {
    "duration": 134,
    "start_time": "2023-02-25T18:00:30.579Z"
   },
   {
    "duration": 340,
    "start_time": "2023-02-25T18:00:31.028Z"
   },
   {
    "duration": 374,
    "start_time": "2023-02-25T18:00:56.787Z"
   },
   {
    "duration": 1122,
    "start_time": "2023-02-25T18:01:09.595Z"
   },
   {
    "duration": 55,
    "start_time": "2023-02-25T18:01:10.718Z"
   },
   {
    "duration": 5,
    "start_time": "2023-02-25T18:01:10.775Z"
   },
   {
    "duration": 14,
    "start_time": "2023-02-25T18:01:10.781Z"
   },
   {
    "duration": 7,
    "start_time": "2023-02-25T18:01:10.797Z"
   },
   {
    "duration": 4,
    "start_time": "2023-02-25T18:01:10.806Z"
   },
   {
    "duration": 6,
    "start_time": "2023-02-25T18:01:10.811Z"
   },
   {
    "duration": 15,
    "start_time": "2023-02-25T18:01:10.819Z"
   },
   {
    "duration": 6,
    "start_time": "2023-02-25T18:01:10.836Z"
   },
   {
    "duration": 11,
    "start_time": "2023-02-25T18:01:10.844Z"
   },
   {
    "duration": 4,
    "start_time": "2023-02-25T18:01:10.857Z"
   },
   {
    "duration": 48,
    "start_time": "2023-02-25T18:01:10.863Z"
   },
   {
    "duration": 8,
    "start_time": "2023-02-25T18:01:10.913Z"
   },
   {
    "duration": 25,
    "start_time": "2023-02-25T18:01:10.925Z"
   },
   {
    "duration": 8,
    "start_time": "2023-02-25T18:01:10.952Z"
   },
   {
    "duration": 10,
    "start_time": "2023-02-25T18:01:10.961Z"
   },
   {
    "duration": 3,
    "start_time": "2023-02-25T18:01:11.003Z"
   },
   {
    "duration": 10,
    "start_time": "2023-02-25T18:01:11.008Z"
   },
   {
    "duration": 6,
    "start_time": "2023-02-25T18:01:11.019Z"
   },
   {
    "duration": 125825,
    "start_time": "2023-02-25T18:01:11.027Z"
   },
   {
    "duration": 4,
    "start_time": "2023-02-25T18:03:16.854Z"
   },
   {
    "duration": 407,
    "start_time": "2023-02-25T18:03:16.860Z"
   },
   {
    "duration": 255,
    "start_time": "2023-02-25T18:03:17.269Z"
   },
   {
    "duration": 4,
    "start_time": "2023-02-25T18:03:17.526Z"
   },
   {
    "duration": 380,
    "start_time": "2023-02-25T18:03:17.532Z"
   },
   {
    "duration": 448,
    "start_time": "2023-02-25T18:03:17.915Z"
   },
   {
    "duration": 4,
    "start_time": "2023-02-25T18:03:18.364Z"
   },
   {
    "duration": 15,
    "start_time": "2023-02-25T18:03:18.370Z"
   },
   {
    "duration": 17,
    "start_time": "2023-02-25T18:03:18.387Z"
   },
   {
    "duration": 294,
    "start_time": "2023-02-25T18:03:18.406Z"
   },
   {
    "duration": 0,
    "start_time": "2023-02-25T18:03:18.703Z"
   },
   {
    "duration": 0,
    "start_time": "2023-02-25T18:03:18.704Z"
   },
   {
    "duration": 0,
    "start_time": "2023-02-25T18:03:18.705Z"
   },
   {
    "duration": 0,
    "start_time": "2023-02-25T18:03:18.707Z"
   },
   {
    "duration": 0,
    "start_time": "2023-02-25T18:03:18.708Z"
   },
   {
    "duration": 0,
    "start_time": "2023-02-25T18:03:18.709Z"
   },
   {
    "duration": 0,
    "start_time": "2023-02-25T18:03:18.711Z"
   },
   {
    "duration": 0,
    "start_time": "2023-02-25T18:03:18.712Z"
   },
   {
    "duration": 0,
    "start_time": "2023-02-25T18:03:18.713Z"
   },
   {
    "duration": 0,
    "start_time": "2023-02-25T18:03:18.715Z"
   },
   {
    "duration": 0,
    "start_time": "2023-02-25T18:03:18.717Z"
   },
   {
    "duration": 0,
    "start_time": "2023-02-25T18:03:18.718Z"
   },
   {
    "duration": 0,
    "start_time": "2023-02-25T18:03:18.720Z"
   },
   {
    "duration": 0,
    "start_time": "2023-02-25T18:03:18.721Z"
   },
   {
    "duration": 0,
    "start_time": "2023-02-25T18:03:18.722Z"
   },
   {
    "duration": 0,
    "start_time": "2023-02-25T18:03:18.724Z"
   },
   {
    "duration": 0,
    "start_time": "2023-02-25T18:03:18.725Z"
   },
   {
    "duration": 0,
    "start_time": "2023-02-25T18:03:18.727Z"
   },
   {
    "duration": 0,
    "start_time": "2023-02-25T18:03:18.728Z"
   },
   {
    "duration": 0,
    "start_time": "2023-02-25T18:03:18.729Z"
   },
   {
    "duration": 0,
    "start_time": "2023-02-25T18:03:18.730Z"
   },
   {
    "duration": 0,
    "start_time": "2023-02-25T18:03:18.732Z"
   },
   {
    "duration": 0,
    "start_time": "2023-02-25T18:03:18.732Z"
   },
   {
    "duration": 1111,
    "start_time": "2023-02-26T14:30:36.650Z"
   },
   {
    "duration": 114,
    "start_time": "2023-02-26T14:30:37.762Z"
   },
   {
    "duration": 4,
    "start_time": "2023-02-26T14:30:37.877Z"
   },
   {
    "duration": 15,
    "start_time": "2023-02-26T14:30:37.883Z"
   },
   {
    "duration": 8,
    "start_time": "2023-02-26T14:30:37.899Z"
   },
   {
    "duration": 12,
    "start_time": "2023-02-26T14:30:37.908Z"
   },
   {
    "duration": 9,
    "start_time": "2023-02-26T14:30:37.921Z"
   },
   {
    "duration": 13,
    "start_time": "2023-02-26T14:30:37.931Z"
   },
   {
    "duration": 7,
    "start_time": "2023-02-26T14:30:37.945Z"
   },
   {
    "duration": 7,
    "start_time": "2023-02-26T14:30:37.955Z"
   },
   {
    "duration": 6,
    "start_time": "2023-02-26T14:30:37.964Z"
   },
   {
    "duration": 21,
    "start_time": "2023-02-26T14:30:37.972Z"
   },
   {
    "duration": 32,
    "start_time": "2023-02-26T14:30:37.995Z"
   },
   {
    "duration": 24,
    "start_time": "2023-02-26T14:30:38.030Z"
   },
   {
    "duration": 7,
    "start_time": "2023-02-26T14:30:38.056Z"
   },
   {
    "duration": 11,
    "start_time": "2023-02-26T14:30:38.065Z"
   },
   {
    "duration": 3,
    "start_time": "2023-02-26T14:30:38.078Z"
   },
   {
    "duration": 32,
    "start_time": "2023-02-26T14:30:38.083Z"
   },
   {
    "duration": 5,
    "start_time": "2023-02-26T14:30:38.116Z"
   },
   {
    "duration": 137198,
    "start_time": "2023-02-26T14:30:38.124Z"
   },
   {
    "duration": 6,
    "start_time": "2023-02-26T14:32:55.324Z"
   },
   {
    "duration": 442,
    "start_time": "2023-02-26T14:32:55.331Z"
   },
   {
    "duration": 242,
    "start_time": "2023-02-26T14:32:55.774Z"
   },
   {
    "duration": 4,
    "start_time": "2023-02-26T14:32:56.020Z"
   },
   {
    "duration": 26,
    "start_time": "2023-02-26T14:32:56.025Z"
   },
   {
    "duration": 384,
    "start_time": "2023-02-26T14:32:56.053Z"
   },
   {
    "duration": 5,
    "start_time": "2023-02-26T14:32:56.439Z"
   },
   {
    "duration": 10,
    "start_time": "2023-02-26T14:32:56.448Z"
   },
   {
    "duration": 5,
    "start_time": "2023-02-26T14:32:56.460Z"
   },
   {
    "duration": 397,
    "start_time": "2023-02-26T14:32:56.467Z"
   },
   {
    "duration": 0,
    "start_time": "2023-02-26T14:32:56.866Z"
   },
   {
    "duration": 0,
    "start_time": "2023-02-26T14:32:56.867Z"
   },
   {
    "duration": 0,
    "start_time": "2023-02-26T14:32:56.868Z"
   },
   {
    "duration": 0,
    "start_time": "2023-02-26T14:32:56.870Z"
   },
   {
    "duration": 0,
    "start_time": "2023-02-26T14:32:56.871Z"
   },
   {
    "duration": 0,
    "start_time": "2023-02-26T14:32:56.872Z"
   },
   {
    "duration": 0,
    "start_time": "2023-02-26T14:32:56.874Z"
   },
   {
    "duration": 0,
    "start_time": "2023-02-26T14:32:56.876Z"
   },
   {
    "duration": 0,
    "start_time": "2023-02-26T14:32:56.877Z"
   },
   {
    "duration": 0,
    "start_time": "2023-02-26T14:32:56.878Z"
   },
   {
    "duration": 0,
    "start_time": "2023-02-26T14:32:56.880Z"
   },
   {
    "duration": 0,
    "start_time": "2023-02-26T14:32:56.881Z"
   },
   {
    "duration": 0,
    "start_time": "2023-02-26T14:32:56.883Z"
   },
   {
    "duration": 0,
    "start_time": "2023-02-26T14:32:56.910Z"
   },
   {
    "duration": 0,
    "start_time": "2023-02-26T14:32:56.910Z"
   },
   {
    "duration": 0,
    "start_time": "2023-02-26T14:32:56.911Z"
   },
   {
    "duration": 0,
    "start_time": "2023-02-26T14:32:56.912Z"
   },
   {
    "duration": 0,
    "start_time": "2023-02-26T14:32:56.912Z"
   },
   {
    "duration": 0,
    "start_time": "2023-02-26T14:32:56.913Z"
   },
   {
    "duration": 0,
    "start_time": "2023-02-26T14:32:56.913Z"
   },
   {
    "duration": 0,
    "start_time": "2023-02-26T14:32:56.914Z"
   },
   {
    "duration": 0,
    "start_time": "2023-02-26T14:32:56.915Z"
   },
   {
    "duration": 0,
    "start_time": "2023-02-26T14:32:56.915Z"
   },
   {
    "duration": 1133,
    "start_time": "2023-02-26T14:43:42.888Z"
   },
   {
    "duration": 54,
    "start_time": "2023-02-26T14:43:44.023Z"
   },
   {
    "duration": 3,
    "start_time": "2023-02-26T14:43:44.078Z"
   },
   {
    "duration": 14,
    "start_time": "2023-02-26T14:43:44.083Z"
   },
   {
    "duration": 7,
    "start_time": "2023-02-26T14:43:44.099Z"
   },
   {
    "duration": 13,
    "start_time": "2023-02-26T14:43:44.107Z"
   },
   {
    "duration": 10,
    "start_time": "2023-02-26T14:43:44.122Z"
   },
   {
    "duration": 13,
    "start_time": "2023-02-26T14:43:44.133Z"
   },
   {
    "duration": 7,
    "start_time": "2023-02-26T14:43:44.147Z"
   },
   {
    "duration": 19,
    "start_time": "2023-02-26T14:43:44.156Z"
   },
   {
    "duration": 4,
    "start_time": "2023-02-26T14:43:44.176Z"
   },
   {
    "duration": 38,
    "start_time": "2023-02-26T14:43:44.181Z"
   },
   {
    "duration": 7,
    "start_time": "2023-02-26T14:43:44.220Z"
   },
   {
    "duration": 23,
    "start_time": "2023-02-26T14:43:44.230Z"
   },
   {
    "duration": 6,
    "start_time": "2023-02-26T14:43:44.254Z"
   },
   {
    "duration": 10,
    "start_time": "2023-02-26T14:43:44.262Z"
   },
   {
    "duration": 3,
    "start_time": "2023-02-26T14:43:44.273Z"
   },
   {
    "duration": 42,
    "start_time": "2023-02-26T14:43:44.278Z"
   },
   {
    "duration": 6,
    "start_time": "2023-02-26T14:43:44.322Z"
   },
   {
    "duration": 137444,
    "start_time": "2023-02-26T14:43:44.330Z"
   },
   {
    "duration": 5,
    "start_time": "2023-02-26T14:46:01.776Z"
   },
   {
    "duration": 524,
    "start_time": "2023-02-26T14:46:01.782Z"
   },
   {
    "duration": 241,
    "start_time": "2023-02-26T14:46:02.307Z"
   },
   {
    "duration": 4,
    "start_time": "2023-02-26T14:46:02.549Z"
   },
   {
    "duration": 355,
    "start_time": "2023-02-26T14:46:02.555Z"
   },
   {
    "duration": 446,
    "start_time": "2023-02-26T14:46:02.912Z"
   },
   {
    "duration": 4,
    "start_time": "2023-02-26T14:46:03.361Z"
   },
   {
    "duration": 17,
    "start_time": "2023-02-26T14:46:03.366Z"
   },
   {
    "duration": 5,
    "start_time": "2023-02-26T14:46:03.385Z"
   },
   {
    "duration": 360,
    "start_time": "2023-02-26T14:46:03.391Z"
   },
   {
    "duration": 0,
    "start_time": "2023-02-26T14:46:03.754Z"
   },
   {
    "duration": 0,
    "start_time": "2023-02-26T14:46:03.755Z"
   },
   {
    "duration": 0,
    "start_time": "2023-02-26T14:46:03.755Z"
   },
   {
    "duration": 0,
    "start_time": "2023-02-26T14:46:03.756Z"
   },
   {
    "duration": 0,
    "start_time": "2023-02-26T14:46:03.757Z"
   },
   {
    "duration": 0,
    "start_time": "2023-02-26T14:46:03.758Z"
   },
   {
    "duration": 0,
    "start_time": "2023-02-26T14:46:03.759Z"
   },
   {
    "duration": 0,
    "start_time": "2023-02-26T14:46:03.760Z"
   },
   {
    "duration": 0,
    "start_time": "2023-02-26T14:46:03.761Z"
   },
   {
    "duration": 0,
    "start_time": "2023-02-26T14:46:03.762Z"
   },
   {
    "duration": 0,
    "start_time": "2023-02-26T14:46:03.763Z"
   },
   {
    "duration": 0,
    "start_time": "2023-02-26T14:46:03.764Z"
   },
   {
    "duration": 0,
    "start_time": "2023-02-26T14:46:03.766Z"
   },
   {
    "duration": 0,
    "start_time": "2023-02-26T14:46:03.767Z"
   },
   {
    "duration": 0,
    "start_time": "2023-02-26T14:46:03.768Z"
   },
   {
    "duration": 0,
    "start_time": "2023-02-26T14:46:03.769Z"
   },
   {
    "duration": 0,
    "start_time": "2023-02-26T14:46:03.770Z"
   },
   {
    "duration": 0,
    "start_time": "2023-02-26T14:46:03.771Z"
   },
   {
    "duration": 0,
    "start_time": "2023-02-26T14:46:03.772Z"
   },
   {
    "duration": 0,
    "start_time": "2023-02-26T14:46:03.809Z"
   },
   {
    "duration": 0,
    "start_time": "2023-02-26T14:46:03.810Z"
   },
   {
    "duration": 0,
    "start_time": "2023-02-26T14:46:03.815Z"
   },
   {
    "duration": 0,
    "start_time": "2023-02-26T14:46:03.820Z"
   },
   {
    "duration": 1055,
    "start_time": "2023-02-26T14:56:55.323Z"
   },
   {
    "duration": 58,
    "start_time": "2023-02-26T14:56:56.380Z"
   },
   {
    "duration": 4,
    "start_time": "2023-02-26T14:56:56.439Z"
   },
   {
    "duration": 14,
    "start_time": "2023-02-26T14:56:56.444Z"
   },
   {
    "duration": 8,
    "start_time": "2023-02-26T14:56:56.460Z"
   },
   {
    "duration": 4,
    "start_time": "2023-02-26T14:56:56.469Z"
   },
   {
    "duration": 9,
    "start_time": "2023-02-26T14:56:56.475Z"
   },
   {
    "duration": 36,
    "start_time": "2023-02-26T14:56:56.485Z"
   },
   {
    "duration": 13,
    "start_time": "2023-02-26T14:56:56.525Z"
   },
   {
    "duration": 14,
    "start_time": "2023-02-26T14:56:56.539Z"
   },
   {
    "duration": 3,
    "start_time": "2023-02-26T14:56:56.555Z"
   },
   {
    "duration": 22,
    "start_time": "2023-02-26T14:56:56.559Z"
   },
   {
    "duration": 7,
    "start_time": "2023-02-26T14:56:56.583Z"
   },
   {
    "duration": 51,
    "start_time": "2023-02-26T14:56:56.594Z"
   },
   {
    "duration": 8,
    "start_time": "2023-02-26T14:56:56.647Z"
   },
   {
    "duration": 12,
    "start_time": "2023-02-26T14:56:56.656Z"
   },
   {
    "duration": 3,
    "start_time": "2023-02-26T14:56:56.670Z"
   },
   {
    "duration": 5,
    "start_time": "2023-02-26T14:56:56.675Z"
   },
   {
    "duration": 5,
    "start_time": "2023-02-26T14:56:56.682Z"
   },
   {
    "duration": 139916,
    "start_time": "2023-02-26T14:56:56.688Z"
   },
   {
    "duration": 9,
    "start_time": "2023-02-26T14:59:16.609Z"
   },
   {
    "duration": 498,
    "start_time": "2023-02-26T14:59:16.628Z"
   },
   {
    "duration": 240,
    "start_time": "2023-02-26T14:59:17.127Z"
   },
   {
    "duration": 4,
    "start_time": "2023-02-26T14:59:17.369Z"
   },
   {
    "duration": 445,
    "start_time": "2023-02-26T14:59:17.374Z"
   },
   {
    "duration": 358,
    "start_time": "2023-02-26T14:59:17.820Z"
   },
   {
    "duration": 4,
    "start_time": "2023-02-26T14:59:18.179Z"
   },
   {
    "duration": 44,
    "start_time": "2023-02-26T14:59:18.184Z"
   },
   {
    "duration": 30,
    "start_time": "2023-02-26T14:59:18.230Z"
   },
   {
    "duration": 333,
    "start_time": "2023-02-26T14:59:18.262Z"
   },
   {
    "duration": 0,
    "start_time": "2023-02-26T14:59:18.597Z"
   },
   {
    "duration": 0,
    "start_time": "2023-02-26T14:59:18.598Z"
   },
   {
    "duration": 0,
    "start_time": "2023-02-26T14:59:18.615Z"
   },
   {
    "duration": 0,
    "start_time": "2023-02-26T14:59:18.615Z"
   },
   {
    "duration": 0,
    "start_time": "2023-02-26T14:59:18.616Z"
   },
   {
    "duration": 0,
    "start_time": "2023-02-26T14:59:18.616Z"
   },
   {
    "duration": 0,
    "start_time": "2023-02-26T14:59:18.617Z"
   },
   {
    "duration": 0,
    "start_time": "2023-02-26T14:59:18.618Z"
   },
   {
    "duration": 0,
    "start_time": "2023-02-26T14:59:18.618Z"
   },
   {
    "duration": 0,
    "start_time": "2023-02-26T14:59:18.619Z"
   },
   {
    "duration": 0,
    "start_time": "2023-02-26T14:59:18.620Z"
   },
   {
    "duration": 0,
    "start_time": "2023-02-26T14:59:18.621Z"
   },
   {
    "duration": 0,
    "start_time": "2023-02-26T14:59:18.623Z"
   },
   {
    "duration": 0,
    "start_time": "2023-02-26T14:59:18.624Z"
   },
   {
    "duration": 0,
    "start_time": "2023-02-26T14:59:18.625Z"
   },
   {
    "duration": 0,
    "start_time": "2023-02-26T14:59:18.627Z"
   },
   {
    "duration": 0,
    "start_time": "2023-02-26T14:59:18.628Z"
   },
   {
    "duration": 0,
    "start_time": "2023-02-26T14:59:18.630Z"
   },
   {
    "duration": 0,
    "start_time": "2023-02-26T14:59:18.631Z"
   },
   {
    "duration": 0,
    "start_time": "2023-02-26T14:59:18.632Z"
   },
   {
    "duration": 0,
    "start_time": "2023-02-26T14:59:18.636Z"
   },
   {
    "duration": 0,
    "start_time": "2023-02-26T14:59:18.637Z"
   },
   {
    "duration": 0,
    "start_time": "2023-02-26T14:59:18.638Z"
   },
   {
    "duration": 5,
    "start_time": "2023-02-26T15:03:40.287Z"
   },
   {
    "duration": 224,
    "start_time": "2023-02-26T15:03:46.745Z"
   },
   {
    "duration": 5,
    "start_time": "2023-02-26T15:04:20.385Z"
   },
   {
    "duration": 229,
    "start_time": "2023-02-26T15:04:32.831Z"
   },
   {
    "duration": 162,
    "start_time": "2023-02-26T15:05:09.920Z"
   },
   {
    "duration": 4,
    "start_time": "2023-02-26T15:05:25.508Z"
   },
   {
    "duration": 48,
    "start_time": "2023-02-26T15:05:26.856Z"
   },
   {
    "duration": 3,
    "start_time": "2023-02-26T15:05:28.760Z"
   },
   {
    "duration": 11,
    "start_time": "2023-02-26T15:05:29.035Z"
   },
   {
    "duration": 7,
    "start_time": "2023-02-26T15:05:31.776Z"
   },
   {
    "duration": 5,
    "start_time": "2023-02-26T15:05:37.896Z"
   },
   {
    "duration": 4,
    "start_time": "2023-02-26T15:05:41.855Z"
   },
   {
    "duration": 22,
    "start_time": "2023-02-26T15:05:42.299Z"
   },
   {
    "duration": 5,
    "start_time": "2023-02-26T15:05:44.146Z"
   },
   {
    "duration": 8,
    "start_time": "2023-02-26T15:05:47.391Z"
   },
   {
    "duration": 4,
    "start_time": "2023-02-26T15:05:47.721Z"
   },
   {
    "duration": 22,
    "start_time": "2023-02-26T15:05:48.783Z"
   },
   {
    "duration": 9,
    "start_time": "2023-02-26T15:05:49.255Z"
   },
   {
    "duration": 24,
    "start_time": "2023-02-26T15:05:49.621Z"
   },
   {
    "duration": 6,
    "start_time": "2023-02-26T15:05:52.839Z"
   },
   {
    "duration": 7,
    "start_time": "2023-02-26T15:05:54.138Z"
   },
   {
    "duration": 3,
    "start_time": "2023-02-26T15:05:56.230Z"
   },
   {
    "duration": 5,
    "start_time": "2023-02-26T15:05:56.986Z"
   },
   {
    "duration": 6,
    "start_time": "2023-02-26T15:06:02.521Z"
   },
   {
    "duration": 135349,
    "start_time": "2023-02-26T15:06:07.239Z"
   },
   {
    "duration": 9,
    "start_time": "2023-02-26T15:08:33.510Z"
   },
   {
    "duration": 444,
    "start_time": "2023-02-26T15:08:36.054Z"
   },
   {
    "duration": 738,
    "start_time": "2023-02-26T15:10:06.276Z"
   },
   {
    "duration": 125721,
    "start_time": "2023-02-26T15:10:22.237Z"
   },
   {
    "duration": 0,
    "start_time": "2023-02-26T15:12:27.959Z"
   },
   {
    "duration": 4,
    "start_time": "2023-02-26T15:12:46.778Z"
   },
   {
    "duration": 48,
    "start_time": "2023-02-26T15:12:47.578Z"
   },
   {
    "duration": 9,
    "start_time": "2023-02-26T15:12:48.010Z"
   },
   {
    "duration": 12,
    "start_time": "2023-02-26T15:12:48.434Z"
   },
   {
    "duration": 8,
    "start_time": "2023-02-26T15:12:49.289Z"
   },
   {
    "duration": 4,
    "start_time": "2023-02-26T15:12:50.490Z"
   },
   {
    "duration": 5,
    "start_time": "2023-02-26T15:12:54.833Z"
   },
   {
    "duration": 12,
    "start_time": "2023-02-26T15:12:55.734Z"
   },
   {
    "duration": 4,
    "start_time": "2023-02-26T15:12:57.368Z"
   },
   {
    "duration": 7,
    "start_time": "2023-02-26T15:12:58.880Z"
   },
   {
    "duration": 4,
    "start_time": "2023-02-26T15:13:00.401Z"
   },
   {
    "duration": 27,
    "start_time": "2023-02-26T15:13:01.009Z"
   },
   {
    "duration": 7,
    "start_time": "2023-02-26T15:13:01.489Z"
   },
   {
    "duration": 25,
    "start_time": "2023-02-26T15:13:02.027Z"
   },
   {
    "duration": 7,
    "start_time": "2023-02-26T15:13:08.836Z"
   },
   {
    "duration": 8,
    "start_time": "2023-02-26T15:13:09.977Z"
   },
   {
    "duration": 3,
    "start_time": "2023-02-26T15:13:12.936Z"
   },
   {
    "duration": 4,
    "start_time": "2023-02-26T15:13:13.248Z"
   },
   {
    "duration": 6,
    "start_time": "2023-02-26T15:13:37.601Z"
   },
   {
    "duration": 135523,
    "start_time": "2023-02-26T15:13:42.827Z"
   },
   {
    "duration": 4,
    "start_time": "2023-02-26T15:16:36.581Z"
   },
   {
    "duration": 4,
    "start_time": "2023-02-26T15:16:50.288Z"
   },
   {
    "duration": 455,
    "start_time": "2023-02-26T15:16:52.373Z"
   },
   {
    "duration": 5,
    "start_time": "2023-02-26T15:17:03.728Z"
   },
   {
    "duration": 5,
    "start_time": "2023-02-26T15:17:08.102Z"
   },
   {
    "duration": 436,
    "start_time": "2023-02-26T15:17:11.223Z"
   },
   {
    "duration": 215,
    "start_time": "2023-02-26T15:17:16.525Z"
   },
   {
    "duration": 4,
    "start_time": "2023-02-26T15:17:45.351Z"
   },
   {
    "duration": 51,
    "start_time": "2023-02-26T15:17:48.060Z"
   },
   {
    "duration": 4,
    "start_time": "2023-02-26T15:18:00.342Z"
   },
   {
    "duration": 63,
    "start_time": "2023-02-26T15:18:01.054Z"
   },
   {
    "duration": 333,
    "start_time": "2023-02-26T15:18:06.007Z"
   },
   {
    "duration": 4,
    "start_time": "2023-02-26T15:18:13.142Z"
   },
   {
    "duration": 10,
    "start_time": "2023-02-26T15:18:13.637Z"
   },
   {
    "duration": 5,
    "start_time": "2023-02-26T15:18:14.741Z"
   },
   {
    "duration": 214,
    "start_time": "2023-02-26T15:18:19.223Z"
   },
   {
    "duration": 4,
    "start_time": "2023-02-26T15:20:17.850Z"
   },
   {
    "duration": 44,
    "start_time": "2023-02-26T15:20:20.659Z"
   },
   {
    "duration": 3,
    "start_time": "2023-02-26T15:20:21.253Z"
   },
   {
    "duration": 12,
    "start_time": "2023-02-26T15:20:23.365Z"
   },
   {
    "duration": 7,
    "start_time": "2023-02-26T15:20:23.875Z"
   },
   {
    "duration": 4,
    "start_time": "2023-02-26T15:20:24.525Z"
   },
   {
    "duration": 4,
    "start_time": "2023-02-26T15:20:28.403Z"
   },
   {
    "duration": 12,
    "start_time": "2023-02-26T15:20:28.981Z"
   },
   {
    "duration": 5,
    "start_time": "2023-02-26T15:20:31.156Z"
   },
   {
    "duration": 10,
    "start_time": "2023-02-26T15:20:33.012Z"
   },
   {
    "duration": 4,
    "start_time": "2023-02-26T15:20:33.412Z"
   },
   {
    "duration": 20,
    "start_time": "2023-02-26T15:20:36.076Z"
   },
   {
    "duration": 8,
    "start_time": "2023-02-26T15:20:36.604Z"
   },
   {
    "duration": 23,
    "start_time": "2023-02-26T15:20:39.451Z"
   },
   {
    "duration": 6,
    "start_time": "2023-02-26T15:20:44.501Z"
   },
   {
    "duration": 8,
    "start_time": "2023-02-26T15:20:45.908Z"
   },
   {
    "duration": 3,
    "start_time": "2023-02-26T15:20:47.525Z"
   },
   {
    "duration": 5,
    "start_time": "2023-02-26T15:20:58.260Z"
   },
   {
    "duration": 131100,
    "start_time": "2023-02-26T15:21:08.828Z"
   },
   {
    "duration": 5,
    "start_time": "2023-02-26T15:23:19.930Z"
   },
   {
    "duration": 438,
    "start_time": "2023-02-26T15:23:19.936Z"
   },
   {
    "duration": 174,
    "start_time": "2023-02-26T15:23:20.376Z"
   },
   {
    "duration": 5,
    "start_time": "2023-02-26T15:23:20.552Z"
   },
   {
    "duration": 155,
    "start_time": "2023-02-26T15:23:20.558Z"
   },
   {
    "duration": 396,
    "start_time": "2023-02-26T15:23:20.715Z"
   },
   {
    "duration": 3,
    "start_time": "2023-02-26T15:23:21.113Z"
   },
   {
    "duration": 15,
    "start_time": "2023-02-26T15:23:21.118Z"
   },
   {
    "duration": 4,
    "start_time": "2023-02-26T15:23:21.135Z"
   },
   {
    "duration": 179750,
    "start_time": "2023-02-26T15:23:21.141Z"
   },
   {
    "duration": 714,
    "start_time": "2023-02-26T15:26:20.892Z"
   },
   {
    "duration": 352,
    "start_time": "2023-02-26T15:26:21.609Z"
   },
   {
    "duration": 132964,
    "start_time": "2023-02-26T15:26:21.962Z"
   },
   {
    "duration": 220,
    "start_time": "2023-02-26T15:28:34.927Z"
   },
   {
    "duration": 4,
    "start_time": "2023-02-26T15:28:35.148Z"
   },
   {
    "duration": 27,
    "start_time": "2023-02-26T15:28:35.154Z"
   },
   {
    "duration": 714,
    "start_time": "2023-02-26T15:29:57.710Z"
   },
   {
    "duration": 46,
    "start_time": "2023-02-26T15:30:03.974Z"
   },
   {
    "duration": 318,
    "start_time": "2023-02-26T15:30:05.358Z"
   },
   {
    "duration": 280,
    "start_time": "2023-02-26T15:34:58.270Z"
   },
   {
    "duration": 441,
    "start_time": "2023-02-26T15:36:45.404Z"
   },
   {
    "duration": 426,
    "start_time": "2023-02-26T15:36:53.843Z"
   },
   {
    "duration": 4,
    "start_time": "2023-02-26T15:39:26.346Z"
   },
   {
    "duration": 8,
    "start_time": "2023-02-26T15:39:26.947Z"
   },
   {
    "duration": 6,
    "start_time": "2023-02-26T15:39:29.874Z"
   },
   {
    "duration": 10,
    "start_time": "2023-02-26T15:39:37.906Z"
   },
   {
    "duration": 6,
    "start_time": "2023-02-26T15:39:38.236Z"
   },
   {
    "duration": 9,
    "start_time": "2023-02-26T15:39:41.718Z"
   },
   {
    "duration": 8,
    "start_time": "2023-02-26T15:39:42.090Z"
   },
   {
    "duration": 13,
    "start_time": "2023-02-26T15:39:46.568Z"
   },
   {
    "duration": 6,
    "start_time": "2023-02-26T15:39:46.923Z"
   },
   {
    "duration": 10,
    "start_time": "2023-02-26T15:39:50.946Z"
   },
   {
    "duration": 6,
    "start_time": "2023-02-26T15:39:51.250Z"
   },
   {
    "duration": 9,
    "start_time": "2023-02-26T15:39:56.327Z"
   },
   {
    "duration": 6,
    "start_time": "2023-02-26T15:39:56.541Z"
   },
   {
    "duration": 11,
    "start_time": "2023-02-26T15:40:02.282Z"
   },
   {
    "duration": 6,
    "start_time": "2023-02-26T15:40:02.635Z"
   },
   {
    "duration": 10,
    "start_time": "2023-02-26T15:40:07.579Z"
   },
   {
    "duration": 5,
    "start_time": "2023-02-26T15:40:07.890Z"
   },
   {
    "duration": 9,
    "start_time": "2023-02-26T15:40:15.346Z"
   },
   {
    "duration": 5,
    "start_time": "2023-02-26T15:40:15.609Z"
   },
   {
    "duration": 13,
    "start_time": "2023-02-26T15:40:20.354Z"
   },
   {
    "duration": 7,
    "start_time": "2023-02-26T15:40:20.631Z"
   },
   {
    "duration": 10,
    "start_time": "2023-02-26T15:40:24.057Z"
   },
   {
    "duration": 6,
    "start_time": "2023-02-26T15:40:24.419Z"
   },
   {
    "duration": 11,
    "start_time": "2023-02-26T15:40:28.394Z"
   },
   {
    "duration": 5,
    "start_time": "2023-02-26T15:40:28.707Z"
   },
   {
    "duration": 9,
    "start_time": "2023-02-26T15:40:32.546Z"
   },
   {
    "duration": 6,
    "start_time": "2023-02-26T15:40:32.905Z"
   },
   {
    "duration": 74307,
    "start_time": "2023-02-26T15:41:41.018Z"
   },
   {
    "duration": 219,
    "start_time": "2023-02-26T15:44:20.664Z"
   },
   {
    "duration": 426,
    "start_time": "2023-02-26T15:45:02.952Z"
   },
   {
    "duration": 363,
    "start_time": "2023-02-26T15:45:38.496Z"
   },
   {
    "duration": 100,
    "start_time": "2023-02-26T15:46:03.512Z"
   },
   {
    "duration": 5,
    "start_time": "2023-02-26T15:47:20.031Z"
   },
   {
    "duration": 52,
    "start_time": "2023-02-26T15:47:27.270Z"
   },
   {
    "duration": 1117,
    "start_time": "2023-02-26T15:48:42.404Z"
   },
   {
    "duration": 52,
    "start_time": "2023-02-26T15:48:43.523Z"
   },
   {
    "duration": 3,
    "start_time": "2023-02-26T15:48:43.577Z"
   },
   {
    "duration": 22,
    "start_time": "2023-02-26T15:48:43.582Z"
   },
   {
    "duration": 8,
    "start_time": "2023-02-26T15:48:43.605Z"
   },
   {
    "duration": 4,
    "start_time": "2023-02-26T15:48:43.614Z"
   },
   {
    "duration": 9,
    "start_time": "2023-02-26T15:48:43.620Z"
   },
   {
    "duration": 21,
    "start_time": "2023-02-26T15:48:43.631Z"
   },
   {
    "duration": 6,
    "start_time": "2023-02-26T15:48:43.654Z"
   },
   {
    "duration": 11,
    "start_time": "2023-02-26T15:48:43.662Z"
   },
   {
    "duration": 5,
    "start_time": "2023-02-26T15:48:43.674Z"
   },
   {
    "duration": 49,
    "start_time": "2023-02-26T15:48:43.680Z"
   },
   {
    "duration": 7,
    "start_time": "2023-02-26T15:48:43.731Z"
   },
   {
    "duration": 24,
    "start_time": "2023-02-26T15:48:43.740Z"
   },
   {
    "duration": 6,
    "start_time": "2023-02-26T15:48:43.766Z"
   },
   {
    "duration": 40,
    "start_time": "2023-02-26T15:48:43.773Z"
   },
   {
    "duration": 4,
    "start_time": "2023-02-26T15:48:43.814Z"
   },
   {
    "duration": 11,
    "start_time": "2023-02-26T15:48:43.819Z"
   },
   {
    "duration": 6,
    "start_time": "2023-02-26T15:48:43.832Z"
   },
   {
    "duration": 134224,
    "start_time": "2023-02-26T15:48:43.840Z"
   },
   {
    "duration": 5,
    "start_time": "2023-02-26T15:50:58.065Z"
   },
   {
    "duration": 430,
    "start_time": "2023-02-26T15:50:58.071Z"
   },
   {
    "duration": 217,
    "start_time": "2023-02-26T15:50:58.503Z"
   },
   {
    "duration": 3,
    "start_time": "2023-02-26T15:50:58.722Z"
   },
   {
    "duration": 90,
    "start_time": "2023-02-26T15:50:58.727Z"
   },
   {
    "duration": 438,
    "start_time": "2023-02-26T15:50:58.819Z"
   },
   {
    "duration": 3,
    "start_time": "2023-02-26T15:50:59.259Z"
   },
   {
    "duration": 13,
    "start_time": "2023-02-26T15:50:59.264Z"
   },
   {
    "duration": 6,
    "start_time": "2023-02-26T15:50:59.278Z"
   },
   {
    "duration": 181286,
    "start_time": "2023-02-26T15:50:59.285Z"
   },
   {
    "duration": 745,
    "start_time": "2023-02-26T15:54:00.572Z"
   },
   {
    "duration": 94,
    "start_time": "2023-02-26T15:54:01.319Z"
   },
   {
    "duration": 467,
    "start_time": "2023-02-26T15:54:01.416Z"
   },
   {
    "duration": 132773,
    "start_time": "2023-02-26T15:54:01.885Z"
   },
   {
    "duration": 205,
    "start_time": "2023-02-26T15:56:14.659Z"
   },
   {
    "duration": 556,
    "start_time": "2023-02-26T15:56:14.866Z"
   },
   {
    "duration": 311,
    "start_time": "2023-02-26T15:56:15.423Z"
   },
   {
    "duration": 612,
    "start_time": "2023-02-26T15:56:15.736Z"
   },
   {
    "duration": 4,
    "start_time": "2023-02-26T15:56:16.349Z"
   },
   {
    "duration": 61,
    "start_time": "2023-02-26T15:56:16.355Z"
   },
   {
    "duration": 6,
    "start_time": "2023-02-26T15:56:16.420Z"
   },
   {
    "duration": 77330,
    "start_time": "2023-02-26T15:56:16.427Z"
   },
   {
    "duration": 0,
    "start_time": "2023-02-26T15:57:33.758Z"
   },
   {
    "duration": 0,
    "start_time": "2023-02-26T15:57:33.760Z"
   },
   {
    "duration": 0,
    "start_time": "2023-02-26T15:57:33.760Z"
   },
   {
    "duration": 0,
    "start_time": "2023-02-26T15:57:33.762Z"
   },
   {
    "duration": 0,
    "start_time": "2023-02-26T15:57:33.763Z"
   },
   {
    "duration": 0,
    "start_time": "2023-02-26T15:57:33.764Z"
   },
   {
    "duration": 0,
    "start_time": "2023-02-26T15:57:33.765Z"
   },
   {
    "duration": 0,
    "start_time": "2023-02-26T15:57:33.766Z"
   },
   {
    "duration": 0,
    "start_time": "2023-02-26T15:57:33.767Z"
   },
   {
    "duration": 0,
    "start_time": "2023-02-26T15:57:33.768Z"
   },
   {
    "duration": 368,
    "start_time": "2023-02-26T15:58:21.762Z"
   },
   {
    "duration": 78985,
    "start_time": "2023-02-26T15:58:25.251Z"
   },
   {
    "duration": 376,
    "start_time": "2023-02-26T16:03:30.201Z"
   },
   {
    "duration": 5,
    "start_time": "2023-02-26T16:19:09.327Z"
   },
   {
    "duration": 9,
    "start_time": "2023-02-26T16:21:00.008Z"
   },
   {
    "duration": 3,
    "start_time": "2023-02-26T16:22:53.897Z"
   },
   {
    "duration": 723,
    "start_time": "2023-02-26T16:24:32.209Z"
   },
   {
    "duration": 708,
    "start_time": "2023-02-26T16:25:08.940Z"
   },
   {
    "duration": 882,
    "start_time": "2023-02-26T16:26:29.852Z"
   },
   {
    "duration": 70,
    "start_time": "2023-02-26T16:32:05.886Z"
   },
   {
    "duration": 5,
    "start_time": "2023-02-26T16:32:55.876Z"
   },
   {
    "duration": 5,
    "start_time": "2023-02-26T16:34:04.316Z"
   },
   {
    "duration": 1038,
    "start_time": "2023-02-26T16:48:11.247Z"
   },
   {
    "duration": 53,
    "start_time": "2023-02-26T16:48:12.287Z"
   },
   {
    "duration": 4,
    "start_time": "2023-02-26T16:48:12.342Z"
   },
   {
    "duration": 14,
    "start_time": "2023-02-26T16:48:12.347Z"
   },
   {
    "duration": 7,
    "start_time": "2023-02-26T16:48:12.363Z"
   },
   {
    "duration": 4,
    "start_time": "2023-02-26T16:48:12.372Z"
   },
   {
    "duration": 34,
    "start_time": "2023-02-26T16:48:12.377Z"
   },
   {
    "duration": 12,
    "start_time": "2023-02-26T16:48:12.412Z"
   },
   {
    "duration": 8,
    "start_time": "2023-02-26T16:48:12.426Z"
   },
   {
    "duration": 11,
    "start_time": "2023-02-26T16:48:12.435Z"
   },
   {
    "duration": 4,
    "start_time": "2023-02-26T16:48:12.447Z"
   },
   {
    "duration": 20,
    "start_time": "2023-02-26T16:48:12.452Z"
   },
   {
    "duration": 41,
    "start_time": "2023-02-26T16:48:12.474Z"
   },
   {
    "duration": 23,
    "start_time": "2023-02-26T16:48:12.518Z"
   },
   {
    "duration": 6,
    "start_time": "2023-02-26T16:48:12.542Z"
   },
   {
    "duration": 12,
    "start_time": "2023-02-26T16:48:12.549Z"
   },
   {
    "duration": 18,
    "start_time": "2023-02-26T16:48:12.562Z"
   },
   {
    "duration": 4,
    "start_time": "2023-02-26T16:48:12.581Z"
   },
   {
    "duration": 26,
    "start_time": "2023-02-26T16:48:12.587Z"
   },
   {
    "duration": 8,
    "start_time": "2023-02-26T16:48:12.614Z"
   },
   {
    "duration": 8,
    "start_time": "2023-02-26T16:48:12.624Z"
   },
   {
    "duration": 131201,
    "start_time": "2023-02-26T16:48:12.634Z"
   },
   {
    "duration": 442,
    "start_time": "2023-02-26T16:50:23.836Z"
   },
   {
    "duration": 235,
    "start_time": "2023-02-26T16:50:24.280Z"
   },
   {
    "duration": 96,
    "start_time": "2023-02-26T16:50:24.517Z"
   },
   {
    "duration": 420,
    "start_time": "2023-02-26T16:50:24.616Z"
   },
   {
    "duration": 4,
    "start_time": "2023-02-26T16:50:25.038Z"
   },
   {
    "duration": 15,
    "start_time": "2023-02-26T16:50:25.043Z"
   },
   {
    "duration": 6,
    "start_time": "2023-02-26T16:50:25.059Z"
   },
   {
    "duration": 179307,
    "start_time": "2023-02-26T16:50:25.067Z"
   },
   {
    "duration": 692,
    "start_time": "2023-02-26T16:53:24.376Z"
   },
   {
    "duration": 148,
    "start_time": "2023-02-26T16:53:25.070Z"
   },
   {
    "duration": 431,
    "start_time": "2023-02-26T16:53:25.311Z"
   },
   {
    "duration": 132857,
    "start_time": "2023-02-26T16:53:25.744Z"
   },
   {
    "duration": 208,
    "start_time": "2023-02-26T16:55:38.603Z"
   },
   {
    "duration": 456,
    "start_time": "2023-02-26T16:55:38.813Z"
   },
   {
    "duration": 180,
    "start_time": "2023-02-26T16:55:39.270Z"
   },
   {
    "duration": 391,
    "start_time": "2023-02-26T16:55:39.452Z"
   },
   {
    "duration": 4,
    "start_time": "2023-02-26T16:55:39.844Z"
   },
   {
    "duration": 11,
    "start_time": "2023-02-26T16:55:39.850Z"
   },
   {
    "duration": 5,
    "start_time": "2023-02-26T16:55:39.864Z"
   },
   {
    "duration": 73225,
    "start_time": "2023-02-26T16:55:39.870Z"
   },
   {
    "duration": 430,
    "start_time": "2023-02-26T16:56:53.097Z"
   },
   {
    "duration": 643,
    "start_time": "2023-02-26T16:56:53.528Z"
   },
   {
    "duration": 37,
    "start_time": "2023-02-26T16:56:54.173Z"
   },
   {
    "duration": 10,
    "start_time": "2023-02-26T16:56:54.212Z"
   },
   {
    "duration": 965,
    "start_time": "2023-02-26T16:56:54.223Z"
   },
   {
    "duration": 1156,
    "start_time": "2023-02-27T18:54:52.014Z"
   },
   {
    "duration": 366,
    "start_time": "2023-02-27T18:54:53.172Z"
   },
   {
    "duration": 3,
    "start_time": "2023-02-27T18:54:53.540Z"
   },
   {
    "duration": 15,
    "start_time": "2023-02-27T18:54:55.267Z"
   },
   {
    "duration": 10,
    "start_time": "2023-02-27T18:54:56.266Z"
   },
   {
    "duration": 7,
    "start_time": "2023-02-27T18:54:59.436Z"
   },
   {
    "duration": 6,
    "start_time": "2023-02-27T18:55:04.573Z"
   },
   {
    "duration": 18,
    "start_time": "2023-02-27T18:55:04.913Z"
   },
   {
    "duration": 5,
    "start_time": "2023-02-27T18:55:06.670Z"
   },
   {
    "duration": 9,
    "start_time": "2023-02-27T18:55:07.385Z"
   },
   {
    "duration": 5,
    "start_time": "2023-02-27T18:55:07.758Z"
   },
   {
    "duration": 110,
    "start_time": "2023-02-27T18:55:08.599Z"
   },
   {
    "duration": 13,
    "start_time": "2023-02-27T18:55:21.834Z"
   },
   {
    "duration": 23,
    "start_time": "2023-02-27T18:55:46.729Z"
   },
   {
    "duration": 1158,
    "start_time": "2023-02-27T18:58:03.601Z"
   },
   {
    "duration": 57,
    "start_time": "2023-02-27T18:58:04.761Z"
   },
   {
    "duration": 4,
    "start_time": "2023-02-27T18:58:04.819Z"
   },
   {
    "duration": 24,
    "start_time": "2023-02-27T18:58:04.826Z"
   },
   {
    "duration": 26,
    "start_time": "2023-02-27T18:58:04.852Z"
   },
   {
    "duration": 12,
    "start_time": "2023-02-27T18:58:04.879Z"
   },
   {
    "duration": 18,
    "start_time": "2023-02-27T18:58:04.893Z"
   },
   {
    "duration": 16,
    "start_time": "2023-02-27T18:58:04.913Z"
   },
   {
    "duration": 27,
    "start_time": "2023-02-27T18:58:04.930Z"
   },
   {
    "duration": 15,
    "start_time": "2023-02-27T18:58:04.960Z"
   },
   {
    "duration": 7,
    "start_time": "2023-02-27T18:58:04.977Z"
   },
   {
    "duration": 112,
    "start_time": "2023-02-27T18:58:04.985Z"
   },
   {
    "duration": 0,
    "start_time": "2023-02-27T18:58:05.099Z"
   },
   {
    "duration": 0,
    "start_time": "2023-02-27T18:58:05.100Z"
   },
   {
    "duration": 1,
    "start_time": "2023-02-27T18:58:05.101Z"
   },
   {
    "duration": 0,
    "start_time": "2023-02-27T18:58:05.102Z"
   },
   {
    "duration": 0,
    "start_time": "2023-02-27T18:58:05.104Z"
   },
   {
    "duration": 0,
    "start_time": "2023-02-27T18:58:05.105Z"
   },
   {
    "duration": 0,
    "start_time": "2023-02-27T18:58:05.106Z"
   },
   {
    "duration": 0,
    "start_time": "2023-02-27T18:58:05.107Z"
   },
   {
    "duration": 0,
    "start_time": "2023-02-27T18:58:05.108Z"
   },
   {
    "duration": 0,
    "start_time": "2023-02-27T18:58:05.109Z"
   },
   {
    "duration": 0,
    "start_time": "2023-02-27T18:58:05.110Z"
   },
   {
    "duration": 0,
    "start_time": "2023-02-27T18:58:05.111Z"
   },
   {
    "duration": 0,
    "start_time": "2023-02-27T18:58:05.136Z"
   },
   {
    "duration": 0,
    "start_time": "2023-02-27T18:58:05.138Z"
   },
   {
    "duration": 0,
    "start_time": "2023-02-27T18:58:05.139Z"
   },
   {
    "duration": 0,
    "start_time": "2023-02-27T18:58:05.140Z"
   },
   {
    "duration": 0,
    "start_time": "2023-02-27T18:58:05.141Z"
   },
   {
    "duration": 0,
    "start_time": "2023-02-27T18:58:05.142Z"
   },
   {
    "duration": 0,
    "start_time": "2023-02-27T18:58:05.143Z"
   },
   {
    "duration": 0,
    "start_time": "2023-02-27T18:58:05.144Z"
   },
   {
    "duration": 0,
    "start_time": "2023-02-27T18:58:05.145Z"
   },
   {
    "duration": 0,
    "start_time": "2023-02-27T18:58:05.146Z"
   },
   {
    "duration": 0,
    "start_time": "2023-02-27T18:58:05.148Z"
   },
   {
    "duration": 0,
    "start_time": "2023-02-27T18:58:05.149Z"
   },
   {
    "duration": 0,
    "start_time": "2023-02-27T18:58:05.150Z"
   },
   {
    "duration": 0,
    "start_time": "2023-02-27T18:58:05.151Z"
   },
   {
    "duration": 0,
    "start_time": "2023-02-27T18:58:05.152Z"
   },
   {
    "duration": 0,
    "start_time": "2023-02-27T18:58:05.154Z"
   },
   {
    "duration": 0,
    "start_time": "2023-02-27T18:58:05.155Z"
   },
   {
    "duration": 0,
    "start_time": "2023-02-27T18:58:05.156Z"
   },
   {
    "duration": 0,
    "start_time": "2023-02-27T18:58:05.157Z"
   },
   {
    "duration": 0,
    "start_time": "2023-02-27T18:58:05.158Z"
   },
   {
    "duration": 0,
    "start_time": "2023-02-27T18:58:05.159Z"
   },
   {
    "duration": 0,
    "start_time": "2023-02-27T18:58:05.159Z"
   },
   {
    "duration": 0,
    "start_time": "2023-02-27T18:58:05.161Z"
   },
   {
    "duration": 20,
    "start_time": "2023-02-27T18:58:39.281Z"
   },
   {
    "duration": 21,
    "start_time": "2023-02-27T18:58:50.286Z"
   },
   {
    "duration": 22,
    "start_time": "2023-02-27T18:59:31.534Z"
   },
   {
    "duration": 1145,
    "start_time": "2023-02-27T18:59:38.809Z"
   },
   {
    "duration": 60,
    "start_time": "2023-02-27T18:59:39.956Z"
   },
   {
    "duration": 5,
    "start_time": "2023-02-27T18:59:40.017Z"
   },
   {
    "duration": 22,
    "start_time": "2023-02-27T18:59:40.024Z"
   },
   {
    "duration": 9,
    "start_time": "2023-02-27T18:59:40.049Z"
   },
   {
    "duration": 5,
    "start_time": "2023-02-27T18:59:40.059Z"
   },
   {
    "duration": 15,
    "start_time": "2023-02-27T18:59:40.066Z"
   },
   {
    "duration": 17,
    "start_time": "2023-02-27T18:59:40.083Z"
   },
   {
    "duration": 7,
    "start_time": "2023-02-27T18:59:40.102Z"
   },
   {
    "duration": 28,
    "start_time": "2023-02-27T18:59:40.113Z"
   },
   {
    "duration": 4,
    "start_time": "2023-02-27T18:59:40.143Z"
   },
   {
    "duration": 22,
    "start_time": "2023-02-27T18:59:40.148Z"
   },
   {
    "duration": 124,
    "start_time": "2023-02-27T18:59:40.172Z"
   },
   {
    "duration": 0,
    "start_time": "2023-02-27T18:59:40.299Z"
   },
   {
    "duration": 0,
    "start_time": "2023-02-27T18:59:40.300Z"
   },
   {
    "duration": 0,
    "start_time": "2023-02-27T18:59:40.301Z"
   },
   {
    "duration": 0,
    "start_time": "2023-02-27T18:59:40.302Z"
   },
   {
    "duration": 0,
    "start_time": "2023-02-27T18:59:40.303Z"
   },
   {
    "duration": 0,
    "start_time": "2023-02-27T18:59:40.304Z"
   },
   {
    "duration": 0,
    "start_time": "2023-02-27T18:59:40.305Z"
   },
   {
    "duration": 0,
    "start_time": "2023-02-27T18:59:40.307Z"
   },
   {
    "duration": 0,
    "start_time": "2023-02-27T18:59:40.308Z"
   },
   {
    "duration": 0,
    "start_time": "2023-02-27T18:59:40.309Z"
   },
   {
    "duration": 0,
    "start_time": "2023-02-27T18:59:40.310Z"
   },
   {
    "duration": 0,
    "start_time": "2023-02-27T18:59:40.336Z"
   },
   {
    "duration": 0,
    "start_time": "2023-02-27T18:59:40.338Z"
   },
   {
    "duration": 0,
    "start_time": "2023-02-27T18:59:40.339Z"
   },
   {
    "duration": 0,
    "start_time": "2023-02-27T18:59:40.340Z"
   },
   {
    "duration": 0,
    "start_time": "2023-02-27T18:59:40.341Z"
   },
   {
    "duration": 0,
    "start_time": "2023-02-27T18:59:40.342Z"
   },
   {
    "duration": 0,
    "start_time": "2023-02-27T18:59:40.343Z"
   },
   {
    "duration": 0,
    "start_time": "2023-02-27T18:59:40.344Z"
   },
   {
    "duration": 0,
    "start_time": "2023-02-27T18:59:40.345Z"
   },
   {
    "duration": 0,
    "start_time": "2023-02-27T18:59:40.346Z"
   },
   {
    "duration": 0,
    "start_time": "2023-02-27T18:59:40.347Z"
   },
   {
    "duration": 0,
    "start_time": "2023-02-27T18:59:40.348Z"
   },
   {
    "duration": 0,
    "start_time": "2023-02-27T18:59:40.349Z"
   },
   {
    "duration": 0,
    "start_time": "2023-02-27T18:59:40.350Z"
   },
   {
    "duration": 0,
    "start_time": "2023-02-27T18:59:40.351Z"
   },
   {
    "duration": 0,
    "start_time": "2023-02-27T18:59:40.352Z"
   },
   {
    "duration": 0,
    "start_time": "2023-02-27T18:59:40.353Z"
   },
   {
    "duration": 0,
    "start_time": "2023-02-27T18:59:40.353Z"
   },
   {
    "duration": 0,
    "start_time": "2023-02-27T18:59:40.354Z"
   },
   {
    "duration": 0,
    "start_time": "2023-02-27T18:59:40.355Z"
   },
   {
    "duration": 0,
    "start_time": "2023-02-27T18:59:40.356Z"
   },
   {
    "duration": 1,
    "start_time": "2023-02-27T18:59:40.357Z"
   },
   {
    "duration": 0,
    "start_time": "2023-02-27T18:59:40.359Z"
   },
   {
    "duration": 3,
    "start_time": "2023-02-27T19:32:33.238Z"
   },
   {
    "duration": 39,
    "start_time": "2023-02-27T19:32:34.913Z"
   },
   {
    "duration": 9,
    "start_time": "2023-02-27T19:32:37.684Z"
   },
   {
    "duration": 10,
    "start_time": "2023-02-27T19:32:41.276Z"
   },
   {
    "duration": 4,
    "start_time": "2023-02-27T19:32:43.180Z"
   },
   {
    "duration": 5,
    "start_time": "2023-02-27T19:32:43.978Z"
   },
   {
    "duration": 7,
    "start_time": "2023-02-27T19:32:45.506Z"
   },
   {
    "duration": 8,
    "start_time": "2023-02-27T19:32:46.179Z"
   },
   {
    "duration": 5,
    "start_time": "2023-02-27T19:32:48.085Z"
   },
   {
    "duration": 130313,
    "start_time": "2023-02-27T19:32:48.851Z"
   },
   {
    "duration": 389,
    "start_time": "2023-02-27T19:35:22.839Z"
   },
   {
    "duration": 272,
    "start_time": "2023-02-27T19:35:23.680Z"
   },
   {
    "duration": 194,
    "start_time": "2023-02-27T19:35:31.951Z"
   },
   {
    "duration": 374,
    "start_time": "2023-02-27T19:35:32.724Z"
   },
   {
    "duration": 5,
    "start_time": "2023-02-27T19:35:44.305Z"
   },
   {
    "duration": 14,
    "start_time": "2023-02-27T19:35:53.199Z"
   },
   {
    "duration": 7,
    "start_time": "2023-02-27T19:35:53.783Z"
   },
   {
    "duration": 179241,
    "start_time": "2023-02-27T19:35:57.233Z"
   },
   {
    "duration": 180260,
    "start_time": "2023-02-27T19:39:36.517Z"
   },
   {
    "duration": 755,
    "start_time": "2023-02-27T19:42:46.645Z"
   },
   {
    "duration": 701,
    "start_time": "2023-02-27T19:42:49.938Z"
   },
   {
    "duration": 417,
    "start_time": "2023-02-27T19:42:50.922Z"
   },
   {
    "duration": 136177,
    "start_time": "2023-02-27T19:43:26.244Z"
   },
   {
    "duration": 198,
    "start_time": "2023-02-27T19:46:05.532Z"
   },
   {
    "duration": 566,
    "start_time": "2023-02-27T19:46:15.523Z"
   },
   {
    "duration": 266,
    "start_time": "2023-02-27T19:46:18.024Z"
   },
   {
    "duration": 504,
    "start_time": "2023-02-27T19:46:44.791Z"
   },
   {
    "duration": 6,
    "start_time": "2023-02-27T19:47:30.900Z"
   },
   {
    "duration": 13,
    "start_time": "2023-02-27T19:47:31.276Z"
   },
   {
    "duration": 7,
    "start_time": "2023-02-27T19:47:33.931Z"
   },
   {
    "duration": 74802,
    "start_time": "2023-02-27T19:47:36.595Z"
   },
   {
    "duration": 388,
    "start_time": "2023-02-27T19:48:56.704Z"
   },
   {
    "duration": 371,
    "start_time": "2023-02-27T19:49:06.105Z"
   },
   {
    "duration": 6,
    "start_time": "2023-02-27T19:55:12.210Z"
   },
   {
    "duration": 11,
    "start_time": "2023-02-27T19:55:12.814Z"
   },
   {
    "duration": 810,
    "start_time": "2023-02-27T19:55:16.240Z"
   }
  ],
  "kernelspec": {
   "display_name": "Python 3 (ipykernel)",
   "language": "python",
   "name": "python3"
  },
  "language_info": {
   "codemirror_mode": {
    "name": "ipython",
    "version": 3
   },
   "file_extension": ".py",
   "mimetype": "text/x-python",
   "name": "python",
   "nbconvert_exporter": "python",
   "pygments_lexer": "ipython3",
   "version": "3.9.12"
  },
  "toc": {
   "base_numbering": 1,
   "nav_menu": {},
   "number_sections": true,
   "sideBar": true,
   "skip_h1_title": true,
   "title_cell": "Содержание",
   "title_sidebar": "Contents",
   "toc_cell": true,
   "toc_position": {
    "height": "calc(100% - 180px)",
    "left": "10px",
    "top": "150px",
    "width": "165px"
   },
   "toc_section_display": true,
   "toc_window_display": true
  }
 },
 "nbformat": 4,
 "nbformat_minor": 2
}
